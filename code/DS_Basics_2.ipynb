{
  "nbformat": 4,
  "nbformat_minor": 0,
  "metadata": {
    "colab": {
      "provenance": [],
      "authorship_tag": "ABX9TyOFkJ+RiNhTcokvC2OwZFF1"
    },
    "kernelspec": {
      "name": "python3",
      "display_name": "Python 3"
    },
    "language_info": {
      "name": "python"
    }
  },
  "cells": [
    {
      "cell_type": "markdown",
      "source": [
        "# Data Structures\n",
        "\n",
        "A data structure is a collection of data elements (such as numbers or characters - or even other data structures) that is structured in some way, for example, by numbering the elements. The most basic data structure in Python is the \"sequence\"."
      ],
      "metadata": {
        "id": "5LWXEmpDucyk"
      }
    },
    {
      "cell_type": "markdown",
      "source": [
        "# Lists\n",
        "\n",
        "List is one of the \"sequence\" data structure.\n",
        "\n",
        "* Lists are a collection of items (strings, integers or even other lists),\n",
        "\n",
        "* Lists are enclosed in [ ],\n",
        "\n",
        "* Each item in the list has an assigned index value,\n",
        "\n",
        "* Each item in a list is separated by a comma,\n",
        "\n",
        "* Lists are mutable, which means they can be changed."
      ],
      "metadata": {
        "id": "UmYcnxADuhfC"
      }
    },
    {
      "cell_type": "markdown",
      "source": [
        "# List Creation"
      ],
      "metadata": {
        "id": "b5iFAhcdv1Wz"
      }
    },
    {
      "cell_type": "code",
      "execution_count": null,
      "metadata": {
        "id": "7URgKiuguXVI",
        "colab": {
          "base_uri": "https://localhost:8080/"
        },
        "outputId": "b40f1be1-2895-470a-bd5b-c97019993817"
      },
      "outputs": [
        {
          "output_type": "stream",
          "name": "stdout",
          "text": [
            "['berry', 2, 4.985, [3, 5, 'Very berry', 'Valberry']]\n"
          ]
        }
      ],
      "source": [
        "emptyList = []\n",
        "\n",
        "lst = [1, 2, 3, 4]\n",
        "\n",
        "lst1 = [2.5, 2.5, 1, 4, \"Hello\"]\n",
        "\n",
        "lst2 = [\"berry\", 2, 4.985, [3, 5, \"Very berry\", \"Valberry\"]]\n",
        "\n",
        "print(lst2)"
      ]
    },
    {
      "cell_type": "markdown",
      "source": [
        "# List Length"
      ],
      "metadata": {
        "id": "SArhGm6vwI9N"
      }
    },
    {
      "cell_type": "code",
      "source": [
        "lst2 = [\"berry\", 2, 4.985, [3, 5, \"Very berry\", \"Valberry\"]]\n",
        "\n",
        "print(len(lst2))"
      ],
      "metadata": {
        "colab": {
          "base_uri": "https://localhost:8080/"
        },
        "id": "W3gHmdF0wEby",
        "outputId": "766ff0af-ba9d-4979-9a76-50d1fede76aa"
      },
      "execution_count": null,
      "outputs": [
        {
          "output_type": "stream",
          "name": "stdout",
          "text": [
            "4\n"
          ]
        }
      ]
    },
    {
      "cell_type": "markdown",
      "source": [
        "# List Append"
      ],
      "metadata": {
        "id": "qCaCPxFcwaEQ"
      }
    },
    {
      "cell_type": "code",
      "source": [
        "print(f\"This is the list we're working with. It is : {lst2}\")\n",
        "\n",
        "lst2.append(\"Three\")\n",
        "\n",
        "print(f\"This is the list after we appended \\\"Three\\\" : {lst2}\")"
      ],
      "metadata": {
        "colab": {
          "base_uri": "https://localhost:8080/"
        },
        "id": "TNywtfkzwXrp",
        "outputId": "e550fc6b-fab7-4785-f32b-f716f1422a0d"
      },
      "execution_count": null,
      "outputs": [
        {
          "output_type": "stream",
          "name": "stdout",
          "text": [
            "This is the list we're working with. It is : ['berry', 2, 4.985, [3, 5, 'Very berry', 'Valberry']]\n",
            "This is the list after we appended \"Three\" : ['berry', 2, 4.985, [3, 5, 'Very berry', 'Valberry'], 'Three']\n"
          ]
        }
      ]
    },
    {
      "cell_type": "markdown",
      "source": [
        "# List Insert"
      ],
      "metadata": {
        "id": "UfO44waiw_Xy"
      }
    },
    {
      "cell_type": "code",
      "source": [
        "lst = ['one', 'two', 'three']\n",
        "\n",
        "lst.insert(2, \"polo\")         #inserts \"polo\" in second index.\n",
        "\n",
        "print(lst)"
      ],
      "metadata": {
        "colab": {
          "base_uri": "https://localhost:8080/"
        },
        "id": "nSG3Prsiw-tV",
        "outputId": "492e5ab9-663f-4f6b-9852-061ce3d628b9"
      },
      "execution_count": null,
      "outputs": [
        {
          "output_type": "stream",
          "name": "stdout",
          "text": [
            "['one', 'two', 'polo', 'three']\n"
          ]
        }
      ]
    },
    {
      "cell_type": "markdown",
      "source": [
        "# List Remove"
      ],
      "metadata": {
        "id": "yUvDv6tVyC_G"
      }
    },
    {
      "cell_type": "code",
      "source": [
        "lst = ['one', 'two', 'three', 'four', 'two', 'five']\n",
        "\n",
        "lst.remove('two')             #removes first instance of \"two\" from the list.\n",
        "\n",
        "print(lst)"
      ],
      "metadata": {
        "colab": {
          "base_uri": "https://localhost:8080/"
        },
        "id": "KNB9wNrQw8rj",
        "outputId": "979b15e6-95b7-471b-92a1-a70895cee5cb"
      },
      "execution_count": null,
      "outputs": [
        {
          "output_type": "stream",
          "name": "stdout",
          "text": [
            "['one', 'three', 'four', 'two', 'five']\n"
          ]
        }
      ]
    },
    {
      "cell_type": "markdown",
      "source": [
        "# List Append & Extend"
      ],
      "metadata": {
        "id": "GTxZzbm1ygsK"
      }
    },
    {
      "cell_type": "code",
      "source": [
        "lst = [\"One\", \"Two\", \"Three\"]\n",
        "\n",
        "lst2 = [\"Mommy\", \"Daddy\"]\n",
        "\n",
        "#append\n",
        "lst.append(lst2)\n",
        "\n",
        "print(lst)"
      ],
      "metadata": {
        "colab": {
          "base_uri": "https://localhost:8080/"
        },
        "id": "VGaeJwaAya0T",
        "outputId": "aff1dce4-0ef2-4375-842b-2f2c2b7632db"
      },
      "execution_count": null,
      "outputs": [
        {
          "output_type": "stream",
          "name": "stdout",
          "text": [
            "['One', 'Two', 'Three', ['Mommy', 'Daddy']]\n"
          ]
        }
      ]
    },
    {
      "cell_type": "code",
      "source": [
        "lst = [\"One\", \"Two\", \"Three\"]\n",
        "\n",
        "lst2 = [\"Mommy\", \"Daddy\"]\n",
        "\n",
        "#extend\n",
        "lst.extend(lst2)\n",
        "\n",
        "print(lst)"
      ],
      "metadata": {
        "colab": {
          "base_uri": "https://localhost:8080/"
        },
        "id": "O51vkiMDy2GB",
        "outputId": "0aeabaaf-81a8-417c-b358-d22f762ae585"
      },
      "execution_count": null,
      "outputs": [
        {
          "output_type": "stream",
          "name": "stdout",
          "text": [
            "['One', 'Two', 'Three', 'Mommy', 'Daddy']\n"
          ]
        }
      ]
    },
    {
      "cell_type": "markdown",
      "source": [
        "# List Delete"
      ],
      "metadata": {
        "id": "e4tOh6Tdy_VV"
      }
    },
    {
      "cell_type": "code",
      "source": [
        "lst = [\"one\", \"two\", \"three\", \"four\", \"five\"]\n",
        "print(f\"The original list is {lst}.\")\n",
        "\n",
        "del lst[1]\n",
        "print(f\"After deleting index 1 using the del keyword, the resulting list is {lst}.\")\n",
        "\n",
        "#or we can use pop().\n",
        "\n",
        "a = lst.pop(1)\n",
        "print(f\"We popped element from index 1 of the list which is {a} and the resulting list is {lst}.\")"
      ],
      "metadata": {
        "colab": {
          "base_uri": "https://localhost:8080/"
        },
        "id": "zX69qj4zy9Ht",
        "outputId": "04082efd-ac80-45c1-8d62-c89528324091"
      },
      "execution_count": null,
      "outputs": [
        {
          "output_type": "stream",
          "name": "stdout",
          "text": [
            "The original list is ['one', 'two', 'three', 'four', 'five'].\n",
            "After deleting index 1 using the del keyword, the resulting list is ['one', 'three', 'four', 'five'].\n",
            "We popped element from index 1 of the list which is three and the resulting list is ['one', 'four', 'five'].\n"
          ]
        }
      ]
    },
    {
      "cell_type": "code",
      "source": [
        "lst = [\"once\", \"twice\", \"thrice\"]\n",
        "\n",
        "#remove an item from the list.\n",
        "lst.remove(\"thrice\")\n",
        "\n",
        "print(lst)"
      ],
      "metadata": {
        "colab": {
          "base_uri": "https://localhost:8080/"
        },
        "id": "9lh3YoAizMG6",
        "outputId": "02e7bb0e-deaa-4eb9-d1f4-a08b01c02b93"
      },
      "execution_count": null,
      "outputs": [
        {
          "output_type": "stream",
          "name": "stdout",
          "text": [
            "['once', 'twice']\n"
          ]
        }
      ]
    },
    {
      "cell_type": "markdown",
      "source": [
        "# List reverse"
      ],
      "metadata": {
        "id": "vtgA2z920L_o"
      }
    },
    {
      "cell_type": "code",
      "source": [
        "lst  = [\"one\", \"two\", \"three\"]\n",
        "\n",
        "lst.reverse()\n",
        "\n",
        "print(lst)"
      ],
      "metadata": {
        "colab": {
          "base_uri": "https://localhost:8080/"
        },
        "id": "g33mXhcd0CAN",
        "outputId": "135db774-801a-4d2b-8f3f-60f69cb415c6"
      },
      "execution_count": null,
      "outputs": [
        {
          "output_type": "stream",
          "name": "stdout",
          "text": [
            "['three', 'two', 'one']\n"
          ]
        }
      ]
    },
    {
      "cell_type": "markdown",
      "source": [
        "# List Sorting\n",
        "\n",
        "The easiest way to sort a list is with the **sorted(list) function**.\n",
        "\n",
        "That takes the original list and **returns a new list that has its elements sorted**.\n",
        "\n",
        "The **original list is unchanged**.\n",
        "\n",
        "The sorted optional argument (reverse = True) makes it sort backwards."
      ],
      "metadata": {
        "id": "nYdENpuM04zD"
      }
    },
    {
      "cell_type": "code",
      "source": [
        "lst = [3, 1, 2, 4, 5, 6, 3, 4]\n",
        "\n",
        "print(f\"The original list is {lst}\")\n",
        "\n",
        "print(f\"The sorted list is {sorted(lst)}\")\n",
        "\n",
        "print(f\"The reverse sorted list is {sorted(lst, reverse = True)}\")"
      ],
      "metadata": {
        "colab": {
          "base_uri": "https://localhost:8080/"
        },
        "id": "iv4luE1i02ZD",
        "outputId": "81d20960-7700-4236-ba0d-7408e5f0137c"
      },
      "execution_count": null,
      "outputs": [
        {
          "output_type": "stream",
          "name": "stdout",
          "text": [
            "The original list is [3, 1, 2, 4, 5, 6, 3, 4]\n",
            "The sorted list is [1, 2, 3, 3, 4, 4, 5, 6]\n",
            "The reverse sorted list is [6, 5, 4, 4, 3, 3, 2, 1]\n"
          ]
        }
      ]
    },
    {
      "cell_type": "code",
      "source": [
        "#Sorting list and storing in itself.\n",
        "lst = [1, 20, 7, 2387, 23, 3, 4, 2]\n",
        "\n",
        "print(f\"The original list is {lst}\")\n",
        "\n",
        "lst.sort()\n",
        "\n",
        "print(f\"The sorted list using sort() is {lst}\")"
      ],
      "metadata": {
        "colab": {
          "base_uri": "https://localhost:8080/"
        },
        "id": "wW2ybA0u1r8m",
        "outputId": "81dddf61-6326-48e1-d1dc-31c6113be156"
      },
      "execution_count": null,
      "outputs": [
        {
          "output_type": "stream",
          "name": "stdout",
          "text": [
            "The original list is [1, 20, 7, 2387, 23, 3, 4, 2]\n",
            "The sorted list using sort() is [1, 2, 3, 4, 7, 20, 23, 2387]\n"
          ]
        }
      ]
    },
    {
      "cell_type": "code",
      "source": [
        "lst = [1, 20, \"b\", 5, \"a\"]\n",
        "\n",
        "print(lst.sort())"
      ],
      "metadata": {
        "colab": {
          "base_uri": "https://localhost:8080/",
          "height": 173
        },
        "id": "QiVNhInH2ZNK",
        "outputId": "fb5e476f-38a9-4994-9f2e-7296afbaf544"
      },
      "execution_count": null,
      "outputs": [
        {
          "output_type": "error",
          "ename": "TypeError",
          "evalue": "'<' not supported between instances of 'str' and 'int'",
          "traceback": [
            "\u001b[0;31m---------------------------------------------------------------------------\u001b[0m",
            "\u001b[0;31mTypeError\u001b[0m                                 Traceback (most recent call last)",
            "\u001b[0;32m<ipython-input-21-ca1ae805571f>\u001b[0m in \u001b[0;36m<cell line: 0>\u001b[0;34m()\u001b[0m\n\u001b[1;32m      1\u001b[0m \u001b[0mlst\u001b[0m \u001b[0;34m=\u001b[0m \u001b[0;34m[\u001b[0m\u001b[0;36m1\u001b[0m\u001b[0;34m,\u001b[0m \u001b[0;36m20\u001b[0m\u001b[0;34m,\u001b[0m \u001b[0;34m\"b\"\u001b[0m\u001b[0;34m,\u001b[0m \u001b[0;36m5\u001b[0m\u001b[0;34m,\u001b[0m \u001b[0;34m\"a\"\u001b[0m\u001b[0;34m]\u001b[0m\u001b[0;34m\u001b[0m\u001b[0;34m\u001b[0m\u001b[0m\n\u001b[1;32m      2\u001b[0m \u001b[0;34m\u001b[0m\u001b[0m\n\u001b[0;32m----> 3\u001b[0;31m \u001b[0mprint\u001b[0m\u001b[0;34m(\u001b[0m\u001b[0mlst\u001b[0m\u001b[0;34m.\u001b[0m\u001b[0msort\u001b[0m\u001b[0;34m(\u001b[0m\u001b[0;34m)\u001b[0m\u001b[0;34m)\u001b[0m\u001b[0;34m\u001b[0m\u001b[0;34m\u001b[0m\u001b[0m\n\u001b[0m",
            "\u001b[0;31mTypeError\u001b[0m: '<' not supported between instances of 'str' and 'int'"
          ]
        }
      ]
    },
    {
      "cell_type": "markdown",
      "source": [
        "# List having multiple references"
      ],
      "metadata": {
        "id": "a1jUYRDz2rm_"
      }
    },
    {
      "cell_type": "code",
      "source": [
        "lst = [1, 2, 3, 4, 5]\n",
        "abc = lst\n",
        "\n",
        "print(f\"Original list is {lst}\")\n",
        "\n",
        "abc.append(6)               #Changes both abc and original list lst\n",
        "\n",
        "print(f\"Appended list in abc is {abc}\")\n",
        "print(f\"Original list in lst is {lst}\")"
      ],
      "metadata": {
        "colab": {
          "base_uri": "https://localhost:8080/"
        },
        "id": "a_NhIn952kTh",
        "outputId": "4e25ee6e-79b2-4b33-ab4b-a13350079057"
      },
      "execution_count": null,
      "outputs": [
        {
          "output_type": "stream",
          "name": "stdout",
          "text": [
            "Original list is [1, 2, 3, 4, 5]\n",
            "Appended list in abc is [1, 2, 3, 4, 5, 6]\n",
            "Original list in lst is [1, 2, 3, 4, 5, 6]\n"
          ]
        }
      ]
    },
    {
      "cell_type": "markdown",
      "source": [
        "# String split to create a list"
      ],
      "metadata": {
        "id": "9hsrfAga3W4i"
      }
    },
    {
      "cell_type": "code",
      "source": [
        "a = \"one,two,three,four,five\"\n",
        "\n",
        "alst = a.split(\",\")\n",
        "\n",
        "print(alst)"
      ],
      "metadata": {
        "colab": {
          "base_uri": "https://localhost:8080/"
        },
        "id": "xLmixmOi3Juu",
        "outputId": "51b076dd-db95-4706-c79c-8c122f0d5011"
      },
      "execution_count": null,
      "outputs": [
        {
          "output_type": "stream",
          "name": "stdout",
          "text": [
            "['one', 'two', 'three', 'four', 'five']\n"
          ]
        }
      ]
    },
    {
      "cell_type": "code",
      "source": [
        "s = \"This is an M3 Macbook Air\"\n",
        "\n",
        "slst = s.split()          #Default split is white-character: space or tab\n",
        "\n",
        "print(slst)"
      ],
      "metadata": {
        "colab": {
          "base_uri": "https://localhost:8080/"
        },
        "id": "OuFbntmw5d0K",
        "outputId": "c0b8637d-0bdf-4835-dfe7-377c48b64a4a"
      },
      "execution_count": null,
      "outputs": [
        {
          "output_type": "stream",
          "name": "stdout",
          "text": [
            "['This', 'is', 'an', 'M3', 'Macbook', 'Air']\n"
          ]
        }
      ]
    },
    {
      "cell_type": "markdown",
      "source": [
        "# List Slicing\n",
        "\n",
        "Accessing parts of segments is called slicing.\n",
        "\n",
        "The key point to remember is that the :end value represents the first value that is not selected in the slice."
      ],
      "metadata": {
        "id": "R5K763Cv53Ya"
      }
    },
    {
      "cell_type": "code",
      "source": [
        "numbers = [10, 20, 30, 40, 50, 60, 70, 80, 90, 100]\n",
        "\n",
        "#print all elements\n",
        "print(numbers[:])\n",
        "\n",
        "#print first four elements\n",
        "print(numbers[0:4])"
      ],
      "metadata": {
        "colab": {
          "base_uri": "https://localhost:8080/"
        },
        "id": "6lTSEip_5wnH",
        "outputId": "08149441-4a4b-47a0-d893-110ea358faa5"
      },
      "execution_count": null,
      "outputs": [
        {
          "output_type": "stream",
          "name": "stdout",
          "text": [
            "[10, 20, 30, 40, 50, 60, 70, 80, 90, 100]\n",
            "[10, 20, 30, 40]\n"
          ]
        }
      ]
    },
    {
      "cell_type": "code",
      "source": [
        "#print alternate numbers\n",
        "print(numbers[::2])\n",
        "\n",
        "#print alternate numbers starting from index 2\n",
        "print(numbers[2::2])"
      ],
      "metadata": {
        "colab": {
          "base_uri": "https://localhost:8080/"
        },
        "id": "RyjuynP_6oW_",
        "outputId": "58e25b4b-6e15-4275-affb-384851d1ed70"
      },
      "execution_count": null,
      "outputs": [
        {
          "output_type": "stream",
          "name": "stdout",
          "text": [
            "[10, 30, 50, 70, 90]\n",
            "[30, 50, 70, 90]\n"
          ]
        }
      ]
    },
    {
      "cell_type": "markdown",
      "source": [
        "# List Extend using \"+\""
      ],
      "metadata": {
        "id": "BsqLYqzh7cAP"
      }
    },
    {
      "cell_type": "code",
      "source": [
        "lst1 = [1, 2, 3]\n",
        "lst2 = [\"parent\", \"son\", \"daughter\"]\n",
        "new_lst = lst1+lst2\n",
        "\n",
        "print(new_lst)"
      ],
      "metadata": {
        "colab": {
          "base_uri": "https://localhost:8080/"
        },
        "id": "vgVIn2eG7XPC",
        "outputId": "fdb2dd64-daf2-42ca-b26a-391c40ae463e"
      },
      "execution_count": null,
      "outputs": [
        {
          "output_type": "stream",
          "name": "stdout",
          "text": [
            "[1, 2, 3, 'parent', 'son', 'daughter']\n"
          ]
        }
      ]
    },
    {
      "cell_type": "markdown",
      "source": [
        "# List Count"
      ],
      "metadata": {
        "id": "-aPCW4b37u0V"
      }
    },
    {
      "cell_type": "code",
      "source": [
        "numbers = [1, 2, 3, 4, 3, 2, 4, 5, 5, 2, 4, 2, 4, 2, 4, 3]\\\n",
        "\n",
        "\n",
        "print(f\"The frequency of 4 is {numbers.count(3)}.\")"
      ],
      "metadata": {
        "colab": {
          "base_uri": "https://localhost:8080/"
        },
        "id": "Ey5yE3kZ7nU9",
        "outputId": "05f57ff9-1566-4343-d750-7852b6b04d07"
      },
      "execution_count": null,
      "outputs": [
        {
          "output_type": "stream",
          "name": "stdout",
          "text": [
            "The frequency of 4 is 3.\n"
          ]
        }
      ]
    },
    {
      "cell_type": "markdown",
      "source": [
        "# List Comprehensions\n",
        "\n",
        "List comprehensions provide a conscise way to create lists.\n",
        "\n",
        "Common applications are to make new lists where each element is the result of some operations applied to each member of another sequence or iterable, or to create a subsequence of those elements that satisfy a certain condition."
      ],
      "metadata": {
        "id": "R0Hcpw0X8FsI"
      }
    },
    {
      "cell_type": "code",
      "source": [
        "#Without comprehension\n",
        "\n",
        "squares = []\n",
        "\n",
        "for ele in range(10):\n",
        "  squares.append(ele**2)\n",
        "\n",
        "print(squares)"
      ],
      "metadata": {
        "colab": {
          "base_uri": "https://localhost:8080/"
        },
        "id": "K3Mh32fH74Mo",
        "outputId": "bcdb9c4b-4556-4b66-ff65-43ffacd09713"
      },
      "execution_count": null,
      "outputs": [
        {
          "output_type": "stream",
          "name": "stdout",
          "text": [
            "[0, 1, 4, 9, 16, 25, 36, 49, 64, 81]\n"
          ]
        }
      ]
    },
    {
      "cell_type": "code",
      "source": [
        "#Using list comprehension\n",
        "squares = [i**2 for i in range(10)]\n",
        "\n",
        "print(squares)"
      ],
      "metadata": {
        "colab": {
          "base_uri": "https://localhost:8080/"
        },
        "id": "Gbvqf0aa81oy",
        "outputId": "f94dd577-2626-4e1f-ed60-0a9b4be38800"
      },
      "execution_count": null,
      "outputs": [
        {
          "output_type": "stream",
          "name": "stdout",
          "text": [
            "[0, 1, 4, 9, 16, 25, 36, 49, 64, 81]\n"
          ]
        }
      ]
    },
    {
      "cell_type": "markdown",
      "source": [
        "# Nested List Comprehensions"
      ],
      "metadata": {
        "id": "s0GTY_MF9SuG"
      }
    },
    {
      "cell_type": "code",
      "source": [
        "#lets suppose we have a matrix\n",
        "\n",
        "matrix = [[1, 2, 3, 4],\n",
        "          [5, 6, 7, 8],\n",
        "          [9, 10, 11, 12]]\n",
        "\n",
        "#transpose of a matrix without list comprehension\n",
        "transposed = []\n",
        "for i in range(4):\n",
        "  lst = []\n",
        "  for row in matrix:\n",
        "    lst.append(row[i])\n",
        "  transposed.append(lst)\n",
        "\n",
        "print(transposed)"
      ],
      "metadata": {
        "colab": {
          "base_uri": "https://localhost:8080/"
        },
        "id": "dH7H-lse8-R0",
        "outputId": "34b24f65-46b4-4855-84fa-29a38ce9ab32"
      },
      "execution_count": null,
      "outputs": [
        {
          "output_type": "stream",
          "name": "stdout",
          "text": [
            "[[1, 5, 9], [2, 6, 10], [3, 7, 11], [4, 8, 12]]\n"
          ]
        }
      ]
    },
    {
      "cell_type": "code",
      "source": [
        "#with list comprehension\n",
        "transposed = [[row[i] for row in matrix] for i in range(4)]\n",
        "print(transposed)"
      ],
      "metadata": {
        "colab": {
          "base_uri": "https://localhost:8080/"
        },
        "id": "VzXWJ4bq-A40",
        "outputId": "0e9ea9f0-94d7-4406-fbd5-f8f385e44fec"
      },
      "execution_count": null,
      "outputs": [
        {
          "output_type": "stream",
          "name": "stdout",
          "text": [
            "[[1, 5, 9], [2, 6, 10], [3, 7, 11], [4, 8, 12]]\n"
          ]
        }
      ]
    },
    {
      "cell_type": "markdown",
      "source": [
        "# Tuples\n",
        "\n",
        "*   A tuple is like a list.\n",
        "*   Tuples, unlike lists, are immutable."
      ],
      "metadata": {
        "id": "r3lhgzxbsSgw"
      }
    },
    {
      "cell_type": "markdown",
      "source": [
        "# Tuple Creation"
      ],
      "metadata": {
        "id": "PXN8JB3mtoha"
      }
    },
    {
      "cell_type": "code",
      "source": [
        "t = ()\n",
        "\n",
        "t1 = (1, 2, 3)\n",
        "\n",
        "t2 = (1, 4.5, \"Raju\", 6)\n",
        "\n",
        "t3 = (1.4, 9, \"Mona\", [2, 4, 5.7, \"Birju\"])\n",
        "\n",
        "print(t3)"
      ],
      "metadata": {
        "colab": {
          "base_uri": "https://localhost:8080/"
        },
        "id": "wvt1l6OusVrg",
        "outputId": "cb1aac71-f724-47c0-a06b-a20c61a5cab7"
      },
      "execution_count": null,
      "outputs": [
        {
          "output_type": "stream",
          "name": "stdout",
          "text": [
            "(1.4, 9, 'Mona', [2, 4, 5.7, 'Birju'])\n"
          ]
        }
      ]
    },
    {
      "cell_type": "code",
      "source": [
        "#only paranthesis is not enough\n",
        "t = (\"Satish\")\n",
        "print(type(t))"
      ],
      "metadata": {
        "colab": {
          "base_uri": "https://localhost:8080/"
        },
        "id": "ZjMLiHMot9u6",
        "outputId": "ddd7ab45-4e44-4c0c-d264-61d684a52a90"
      },
      "execution_count": null,
      "outputs": [
        {
          "output_type": "stream",
          "name": "stdout",
          "text": [
            "<class 'str'>\n"
          ]
        }
      ]
    },
    {
      "cell_type": "code",
      "source": [
        "#needs a comma at the end\n",
        "t = (\"Satish\",)\n",
        "print(type(t))"
      ],
      "metadata": {
        "colab": {
          "base_uri": "https://localhost:8080/"
        },
        "id": "zTAphvMZuFu4",
        "outputId": "53c5cfc3-e3ce-48db-9f08-b97b76609892"
      },
      "execution_count": null,
      "outputs": [
        {
          "output_type": "stream",
          "name": "stdout",
          "text": [
            "<class 'tuple'>\n"
          ]
        }
      ]
    },
    {
      "cell_type": "code",
      "source": [
        "#paranthesis is optional\n",
        "t = \"Satish\",\n",
        "print(type(t))\n",
        "\n",
        "print(t)"
      ],
      "metadata": {
        "colab": {
          "base_uri": "https://localhost:8080/"
        },
        "id": "DFjhlqBguKAV",
        "outputId": "c4b1962a-19b0-440c-b8e7-84e54d529f3c"
      },
      "execution_count": null,
      "outputs": [
        {
          "output_type": "stream",
          "name": "stdout",
          "text": [
            "<class 'tuple'>\n",
            "('Satish',)\n"
          ]
        }
      ]
    },
    {
      "cell_type": "markdown",
      "source": [
        "# Accessing Elements in a Tuple"
      ],
      "metadata": {
        "id": "2WvBs5eGuTNr"
      }
    },
    {
      "cell_type": "code",
      "source": [
        "t = (\"Satish\", \"Beelo\", \"Comofri\", \"Bradjne\", (\"Sammy\", \"Fortinmen\", \"Faivgers\"))\n",
        "\n",
        "print(f\"First element is {t[1]}\")\n",
        "\n",
        "print(f\"Second last element is {t[-2]}\")\n",
        "\n",
        "print(f\"Last element is {t[-1]}\")\n",
        "\n",
        "print(f\"Second element in last tuple within the tuple is {t[-1][1]}\")"
      ],
      "metadata": {
        "colab": {
          "base_uri": "https://localhost:8080/"
        },
        "id": "9yIf8ER6uQz3",
        "outputId": "8a9de5f4-b414-4cc8-dc58-e692ddd07537"
      },
      "execution_count": null,
      "outputs": [
        {
          "output_type": "stream",
          "name": "stdout",
          "text": [
            "First element is Beelo\n",
            "Second last element is Bradjne\n",
            "Last element is ('Sammy', 'Fortinmen', 'Faivgers')\n",
            "Second element in last tuple within the tuple is Fortinmen\n"
          ]
        }
      ]
    },
    {
      "cell_type": "code",
      "source": [
        "#Slicing\n",
        "t = (1, 2, 3, 4, 5, 6, 6)\n",
        "\n",
        "print(f\"Second element to the fourth element is : {t[1:4]}\")\n",
        "print(f\"First element to the second last element is : {t[:-2]}\")\n",
        "print(f\"All elements are : {t[:]}\")"
      ],
      "metadata": {
        "colab": {
          "base_uri": "https://localhost:8080/"
        },
        "id": "HXn86XknvGbI",
        "outputId": "4b538f49-44ca-4adf-8cf3-978a6e45ab24"
      },
      "execution_count": null,
      "outputs": [
        {
          "output_type": "stream",
          "name": "stdout",
          "text": [
            "Second element to the fourth element is : (2, 3, 4)\n",
            "First element to the second last element is : (1, 2, 3, 4, 5)\n",
            "All elements are : (1, 2, 3, 4, 5, 6, 6)\n"
          ]
        }
      ]
    },
    {
      "cell_type": "markdown",
      "source": [
        "# Changing a Tuple\n",
        "\n",
        "* Unlike lists, tuples are immutable - the elements cannot be changed,\n",
        "* However if the element itself is a mutable datatype like a list, its nested items can be changed."
      ],
      "metadata": {
        "id": "-ql1ZwhFvyE_"
      }
    },
    {
      "cell_type": "code",
      "source": [
        "t = (\"Satish\", 2, \"Beelo\", 5, \"Comofri\", \"Bradjne\", [\"Sammy\", \"Fortinmen\", \"Faivgers\"])\n",
        "\n",
        "t[2] = 'x'"
      ],
      "metadata": {
        "colab": {
          "base_uri": "https://localhost:8080/",
          "height": 173
        },
        "id": "5Y-mtC_FvvWO",
        "outputId": "8dce65c0-617b-4cff-8ae4-b01452fc6039"
      },
      "execution_count": null,
      "outputs": [
        {
          "output_type": "error",
          "ename": "TypeError",
          "evalue": "'tuple' object does not support item assignment",
          "traceback": [
            "\u001b[0;31m---------------------------------------------------------------------------\u001b[0m",
            "\u001b[0;31mTypeError\u001b[0m                                 Traceback (most recent call last)",
            "\u001b[0;32m<ipython-input-7-d7a3b582f999>\u001b[0m in \u001b[0;36m<cell line: 0>\u001b[0;34m()\u001b[0m\n\u001b[1;32m      1\u001b[0m \u001b[0mt\u001b[0m \u001b[0;34m=\u001b[0m \u001b[0;34m(\u001b[0m\u001b[0;34m\"Satish\"\u001b[0m\u001b[0;34m,\u001b[0m \u001b[0;36m2\u001b[0m\u001b[0;34m,\u001b[0m \u001b[0;34m\"Beelo\"\u001b[0m\u001b[0;34m,\u001b[0m \u001b[0;36m5\u001b[0m\u001b[0;34m,\u001b[0m \u001b[0;34m\"Comofri\"\u001b[0m\u001b[0;34m,\u001b[0m \u001b[0;34m\"Bradjne\"\u001b[0m\u001b[0;34m,\u001b[0m \u001b[0;34m[\u001b[0m\u001b[0;34m\"Sammy\"\u001b[0m\u001b[0;34m,\u001b[0m \u001b[0;34m\"Fortinmen\"\u001b[0m\u001b[0;34m,\u001b[0m \u001b[0;34m\"Faivgers\"\u001b[0m\u001b[0;34m]\u001b[0m\u001b[0;34m)\u001b[0m\u001b[0;34m\u001b[0m\u001b[0;34m\u001b[0m\u001b[0m\n\u001b[1;32m      2\u001b[0m \u001b[0;34m\u001b[0m\u001b[0m\n\u001b[0;32m----> 3\u001b[0;31m \u001b[0mt\u001b[0m\u001b[0;34m[\u001b[0m\u001b[0;36m2\u001b[0m\u001b[0;34m]\u001b[0m \u001b[0;34m=\u001b[0m \u001b[0;34m'x'\u001b[0m\u001b[0;34m\u001b[0m\u001b[0;34m\u001b[0m\u001b[0m\n\u001b[0m",
            "\u001b[0;31mTypeError\u001b[0m: 'tuple' object does not support item assignment"
          ]
        }
      ]
    },
    {
      "cell_type": "code",
      "source": [
        "t[-1][0] = \"Sunwatim\"\n",
        "\n",
        "print(t)"
      ],
      "metadata": {
        "colab": {
          "base_uri": "https://localhost:8080/"
        },
        "id": "P-prDGjQweaS",
        "outputId": "1861f45b-a931-47d5-a25a-0d849f3f5b75"
      },
      "execution_count": null,
      "outputs": [
        {
          "output_type": "stream",
          "name": "stdout",
          "text": [
            "('Satish', 2, 'Beelo', 5, 'Comofri', 'Bradjne', ['Sunwatim', 'Fortinmen', 'Faivgers'])\n"
          ]
        }
      ]
    },
    {
      "cell_type": "code",
      "source": [
        "#Concatenating tuples\n",
        "t1 = (1, 2, 3)\n",
        "t2 = (\"sdfaf\", \"awefv\", \"rtgon\")\n",
        "\n",
        "t1+t2"
      ],
      "metadata": {
        "colab": {
          "base_uri": "https://localhost:8080/"
        },
        "id": "E0JJjMidwmXx",
        "outputId": "8515270e-9ece-495c-eb0c-31b06ac6bcdc"
      },
      "execution_count": null,
      "outputs": [
        {
          "output_type": "execute_result",
          "data": {
            "text/plain": [
              "(1, 2, 3, 'sdfaf', 'awefv', 'rtgon')"
            ]
          },
          "metadata": {},
          "execution_count": 9
        }
      ]
    },
    {
      "cell_type": "code",
      "source": [
        "#repeating elements for a given number of times using *\n",
        "\n",
        "t = ((\"Frominetanis\",) * 4)\n",
        "print(t)"
      ],
      "metadata": {
        "colab": {
          "base_uri": "https://localhost:8080/"
        },
        "id": "1RgfL_Uzwx0Y",
        "outputId": "70e63e3a-1f14-41dd-ff79-b392fc1406aa"
      },
      "execution_count": null,
      "outputs": [
        {
          "output_type": "stream",
          "name": "stdout",
          "text": [
            "('Frominetanis', 'Frominetanis', 'Frominetanis', 'Frominetanis')\n"
          ]
        }
      ]
    },
    {
      "cell_type": "markdown",
      "source": [
        "# Tuple Deletion\n",
        "\n",
        "Tuples are immutable. That also means we cannot delete or remove elements from a tuple.\n",
        "\n",
        "We can choose to delete the entire tuple if we wish to."
      ],
      "metadata": {
        "id": "B1dtymorxbfg"
      }
    },
    {
      "cell_type": "code",
      "source": [
        "t = (1, 2, 3, 4, 5)\n",
        "\n",
        "#delete the entire tuple\n",
        "del t"
      ],
      "metadata": {
        "id": "saz-WTgbxOAP"
      },
      "execution_count": null,
      "outputs": []
    },
    {
      "cell_type": "markdown",
      "source": [
        "# Tuple Count"
      ],
      "metadata": {
        "id": "fZe9u1xjz_7y"
      }
    },
    {
      "cell_type": "code",
      "source": [
        "t = (1, 2, 3, 4, 2, 2, 4, 3, 2, 4, 2, 4)\n",
        "\n",
        "#returns frequency of the element in the tuple\n",
        "t.count(2)"
      ],
      "metadata": {
        "colab": {
          "base_uri": "https://localhost:8080/"
        },
        "id": "s2Me4kuXz8iM",
        "outputId": "0b5ca6f2-a842-4347-b2b6-7ae7d3b81fee"
      },
      "execution_count": null,
      "outputs": [
        {
          "output_type": "execute_result",
          "data": {
            "text/plain": [
              "5"
            ]
          },
          "metadata": {},
          "execution_count": 12
        }
      ]
    },
    {
      "cell_type": "markdown",
      "source": [
        "# Tuple Index"
      ],
      "metadata": {
        "id": "_Xl26AIv0Rt0"
      }
    },
    {
      "cell_type": "code",
      "source": [
        "t = (1, 2, 3, 4, 2, 2, 4, 3, 2, 4, 2, 4)\n",
        "\n",
        "#returns index of first occurence of the element in the tuple\n",
        "t.index(4)"
      ],
      "metadata": {
        "colab": {
          "base_uri": "https://localhost:8080/"
        },
        "id": "69xFLrti0K3V",
        "outputId": "f36f5a1d-11e3-40f6-83c3-702bd24dffce"
      },
      "execution_count": null,
      "outputs": [
        {
          "output_type": "execute_result",
          "data": {
            "text/plain": [
              "3"
            ]
          },
          "metadata": {},
          "execution_count": 13
        }
      ]
    },
    {
      "cell_type": "markdown",
      "source": [
        "# Tuple Membership"
      ],
      "metadata": {
        "id": "QlP0WF8d0Z1S"
      }
    },
    {
      "cell_type": "code",
      "source": [
        "t = (1, 2, 4, 3, 5, 6, 8, 4)\n",
        "\n",
        "#returns if element is present in tuple\n",
        "print(5 in t)"
      ],
      "metadata": {
        "colab": {
          "base_uri": "https://localhost:8080/"
        },
        "id": "vDYnFqlT0XUP",
        "outputId": "8e1da90c-bb24-4e8a-c8df-b46d56c01dc9"
      },
      "execution_count": null,
      "outputs": [
        {
          "output_type": "stream",
          "name": "stdout",
          "text": [
            "True\n"
          ]
        }
      ]
    },
    {
      "cell_type": "code",
      "source": [
        "print(10 in t)"
      ],
      "metadata": {
        "colab": {
          "base_uri": "https://localhost:8080/"
        },
        "id": "HMJuX_iS0g9v",
        "outputId": "f89f04f0-a8ed-49a0-cb4c-29c3eb86fd1e"
      },
      "execution_count": null,
      "outputs": [
        {
          "output_type": "stream",
          "name": "stdout",
          "text": [
            "False\n"
          ]
        }
      ]
    },
    {
      "cell_type": "markdown",
      "source": [
        "# Built-in Tuple Functions"
      ],
      "metadata": {
        "id": "AVShYj6M0vdt"
      }
    },
    {
      "cell_type": "markdown",
      "source": [
        "# Tuple Length"
      ],
      "metadata": {
        "id": "kaC08QhZ030T"
      }
    },
    {
      "cell_type": "code",
      "source": [
        "t = (1, 2, 3, 4, 2, 2, 4, 3, 2, 4, 2, 4)\n",
        "\n",
        "print(len(t))"
      ],
      "metadata": {
        "colab": {
          "base_uri": "https://localhost:8080/"
        },
        "id": "OT3c4wNU0iep",
        "outputId": "76b8d504-f682-4f77-9e85-bb7b05d908c2"
      },
      "execution_count": null,
      "outputs": [
        {
          "output_type": "stream",
          "name": "stdout",
          "text": [
            "12\n"
          ]
        }
      ]
    },
    {
      "cell_type": "markdown",
      "source": [
        "#Tuple Sort"
      ],
      "metadata": {
        "id": "wbBxJQw4096a"
      }
    },
    {
      "cell_type": "code",
      "source": [
        "t = (1, 2, 3, 4, 2, 2, 4, 3, 2, 4, 2, 4)\n",
        "\n",
        "#sorted() returns a new tuple that is sorted. It does not change the tuple itself.\n",
        "sorted_t = sorted(t)\n",
        "print(sorted_t)"
      ],
      "metadata": {
        "colab": {
          "base_uri": "https://localhost:8080/"
        },
        "id": "QBIC9jnW08OV",
        "outputId": "9843c72c-d804-4f89-bfdb-2a6e1f4bcbc9"
      },
      "execution_count": null,
      "outputs": [
        {
          "output_type": "stream",
          "name": "stdout",
          "text": [
            "[1, 2, 2, 2, 2, 2, 3, 3, 4, 4, 4, 4]\n"
          ]
        }
      ]
    },
    {
      "cell_type": "markdown",
      "source": [
        "# Min, Max and Sum in Tuples"
      ],
      "metadata": {
        "id": "4N0BMQKi1lSD"
      }
    },
    {
      "cell_type": "code",
      "source": [
        "t = (1, 2, 3, 4, 2, 2, 4, 3, 2, 4, 2, 5, 78, 5, 2, 79, 3, 7, 3 , 5, 44)\n",
        "\n",
        "print(max(t))"
      ],
      "metadata": {
        "colab": {
          "base_uri": "https://localhost:8080/"
        },
        "id": "E3Lp2aqG1Lvn",
        "outputId": "7773c6d9-bdb4-496e-c17d-aa02ab713466"
      },
      "execution_count": null,
      "outputs": [
        {
          "output_type": "stream",
          "name": "stdout",
          "text": [
            "79\n"
          ]
        }
      ]
    },
    {
      "cell_type": "code",
      "source": [
        "t = (1, 2, 3, 4, 2, 2, 4, 3, 2, 4, 2, 5, 78, 5, 2, 79, 3, 7, 3 , 5, 44)\n",
        "\n",
        "print(min(t))"
      ],
      "metadata": {
        "colab": {
          "base_uri": "https://localhost:8080/"
        },
        "id": "xQicCMiL1hSt",
        "outputId": "0b9584d3-6534-44a5-f6d7-35f183f3e048"
      },
      "execution_count": null,
      "outputs": [
        {
          "output_type": "stream",
          "name": "stdout",
          "text": [
            "1\n"
          ]
        }
      ]
    },
    {
      "cell_type": "code",
      "source": [
        "t = (1, 2, 3, 4, 2, 2, 4, 3, 2, 4, 2, 5, 78, 5, 2, 79, 3, 7, 3 , 5, 44)\n",
        "\n",
        "print(sum(t))"
      ],
      "metadata": {
        "colab": {
          "base_uri": "https://localhost:8080/"
        },
        "id": "hu2rQV7-1jKZ",
        "outputId": "4f7d1c4d-0c89-4d61-e906-ae11f8043a8a"
      },
      "execution_count": null,
      "outputs": [
        {
          "output_type": "stream",
          "name": "stdout",
          "text": [
            "260\n"
          ]
        }
      ]
    },
    {
      "cell_type": "markdown",
      "source": [
        "#Sets\n",
        "\n",
        "* A set is an unordered collection of items. Every element is unique (no duplicates).\n",
        "\n",
        "* The set itself is mutable. We can add or remove items from it.\n",
        "\n",
        "* Sets can be used to perform mathematical operation slike union, intersection, set difference, etc."
      ],
      "metadata": {
        "id": "hI5I3-744Cyb"
      }
    },
    {
      "cell_type": "markdown",
      "source": [
        "# Set Creation"
      ],
      "metadata": {
        "id": "WLxDzCe15kGV"
      }
    },
    {
      "cell_type": "code",
      "source": [
        "s = {1, 2, 4, 3, 2, 1, 5}\n",
        "print(s)                                        #only prints unique values.\n",
        "\n",
        "print(type(s))"
      ],
      "metadata": {
        "colab": {
          "base_uri": "https://localhost:8080/"
        },
        "id": "CLC3GD4t1kLB",
        "outputId": "7a9ffce0-7f96-4a21-83b1-e9f048a869de"
      },
      "execution_count": null,
      "outputs": [
        {
          "output_type": "stream",
          "name": "stdout",
          "text": [
            "{1, 2, 3, 4, 5}\n",
            "<class 'set'>\n"
          ]
        }
      ]
    },
    {
      "cell_type": "code",
      "source": [
        "#we can make a set from a list\n",
        "s = set([1, 2, 3, 4, 2, 1, 5])\n",
        "\n",
        "print(s)"
      ],
      "metadata": {
        "colab": {
          "base_uri": "https://localhost:8080/"
        },
        "id": "tgMNx0IS5tz5",
        "outputId": "8a5f4248-1431-486a-b52b-c5ec0318149a"
      },
      "execution_count": null,
      "outputs": [
        {
          "output_type": "stream",
          "name": "stdout",
          "text": [
            "{1, 2, 3, 4, 5}\n"
          ]
        }
      ]
    },
    {
      "cell_type": "code",
      "source": [
        "#we can intialise a set using set() method\n",
        "s = set()\n",
        "\n",
        "print(type(s))"
      ],
      "metadata": {
        "colab": {
          "base_uri": "https://localhost:8080/"
        },
        "id": "m00ZUo0i56bO",
        "outputId": "0e045dca-75fc-4b93-e753-98114f31304b"
      },
      "execution_count": null,
      "outputs": [
        {
          "output_type": "stream",
          "name": "stdout",
          "text": [
            "<class 'set'>\n"
          ]
        }
      ]
    },
    {
      "cell_type": "markdown",
      "source": [
        "# Adding Elements to a Set\n",
        "\n",
        "We can add a asingle element to a set using the add() method and add multiple elements to a set using update() method."
      ],
      "metadata": {
        "id": "-r9dDwCG6Wfs"
      }
    },
    {
      "cell_type": "code",
      "source": [
        "s = {1, 2}\n",
        "\n",
        "print(s[1])                                   #Sets are unordered. Hence, we cannot index/subscript."
      ],
      "metadata": {
        "colab": {
          "base_uri": "https://localhost:8080/",
          "height": 173
        },
        "id": "4sTaYpik6GWh",
        "outputId": "537ea828-347f-4355-9550-4acd7d9c487c"
      },
      "execution_count": null,
      "outputs": [
        {
          "output_type": "error",
          "ename": "TypeError",
          "evalue": "'set' object is not subscriptable",
          "traceback": [
            "\u001b[0;31m---------------------------------------------------------------------------\u001b[0m",
            "\u001b[0;31mTypeError\u001b[0m                                 Traceback (most recent call last)",
            "\u001b[0;32m<ipython-input-26-356848a1634d>\u001b[0m in \u001b[0;36m<cell line: 0>\u001b[0;34m()\u001b[0m\n\u001b[1;32m      1\u001b[0m \u001b[0ms\u001b[0m \u001b[0;34m=\u001b[0m \u001b[0;34m{\u001b[0m\u001b[0;36m1\u001b[0m\u001b[0;34m,\u001b[0m \u001b[0;36m2\u001b[0m\u001b[0;34m}\u001b[0m\u001b[0;34m\u001b[0m\u001b[0;34m\u001b[0m\u001b[0m\n\u001b[1;32m      2\u001b[0m \u001b[0;34m\u001b[0m\u001b[0m\n\u001b[0;32m----> 3\u001b[0;31m \u001b[0mprint\u001b[0m\u001b[0;34m(\u001b[0m\u001b[0ms\u001b[0m\u001b[0;34m[\u001b[0m\u001b[0;36m1\u001b[0m\u001b[0;34m]\u001b[0m\u001b[0;34m)\u001b[0m\u001b[0;34m\u001b[0m\u001b[0;34m\u001b[0m\u001b[0m\n\u001b[0m",
            "\u001b[0;31mTypeError\u001b[0m: 'set' object is not subscriptable"
          ]
        }
      ]
    },
    {
      "cell_type": "code",
      "source": [
        "#add element\n",
        "s.add(3)\n",
        "\n",
        "print(s)"
      ],
      "metadata": {
        "colab": {
          "base_uri": "https://localhost:8080/"
        },
        "id": "nwObO9o06tca",
        "outputId": "0bcabec1-5fc1-4090-9450-b76c126c6d60"
      },
      "execution_count": null,
      "outputs": [
        {
          "output_type": "stream",
          "name": "stdout",
          "text": [
            "{1, 2, 3}\n"
          ]
        }
      ]
    },
    {
      "cell_type": "code",
      "source": [
        "#add multiple elements\n",
        "s.update([5, 6, 1])\n",
        "\n",
        "print(s)"
      ],
      "metadata": {
        "colab": {
          "base_uri": "https://localhost:8080/"
        },
        "id": "1TmhkU_g64nY",
        "outputId": "97fdf220-625e-42cb-a676-8ef9af4929d7"
      },
      "execution_count": null,
      "outputs": [
        {
          "output_type": "stream",
          "name": "stdout",
          "text": [
            "{1, 2, 3, 5, 6}\n"
          ]
        }
      ]
    },
    {
      "cell_type": "code",
      "source": [
        "#add lists and set\n",
        "s.update([8, 9], (5, 10, 3))\n",
        "\n",
        "print(s)"
      ],
      "metadata": {
        "colab": {
          "base_uri": "https://localhost:8080/"
        },
        "id": "xhxD94oL7CwC",
        "outputId": "77f78578-3d44-4278-d37d-3c1a83ff6cda"
      },
      "execution_count": null,
      "outputs": [
        {
          "output_type": "stream",
          "name": "stdout",
          "text": [
            "{1, 2, 3, 5, 6, 8, 9, 10}\n"
          ]
        }
      ]
    },
    {
      "cell_type": "markdown",
      "source": [
        "#Remove Elements from a Set\n",
        "\n",
        "A particular element can be removed from a set using the discard() and remove() methods."
      ],
      "metadata": {
        "id": "hOzu2Dor7L8k"
      }
    },
    {
      "cell_type": "code",
      "source": [
        "s = {1, 2, 3, 4}\n",
        "print(s)\n",
        "\n",
        "s.remove(2)\n",
        "print(s)"
      ],
      "metadata": {
        "colab": {
          "base_uri": "https://localhost:8080/"
        },
        "id": "0aW73veo7JOr",
        "outputId": "f68cef3f-eb9c-41aa-a2a2-3ce02d09d72a"
      },
      "execution_count": null,
      "outputs": [
        {
          "output_type": "stream",
          "name": "stdout",
          "text": [
            "{1, 2, 3, 4}\n",
            "{1, 3, 4}\n"
          ]
        }
      ]
    },
    {
      "cell_type": "code",
      "source": [
        "s.discard(4)\n",
        "print(s)"
      ],
      "metadata": {
        "colab": {
          "base_uri": "https://localhost:8080/"
        },
        "id": "bsRMlMQv7bzj",
        "outputId": "40e2b025-78cc-411b-8872-159ab6108f88"
      },
      "execution_count": null,
      "outputs": [
        {
          "output_type": "stream",
          "name": "stdout",
          "text": [
            "{1, 3}\n"
          ]
        }
      ]
    },
    {
      "cell_type": "code",
      "source": [
        "#removing an element not present in set results in a KeyError\n",
        "s.remove(10)\n",
        "print(s)"
      ],
      "metadata": {
        "colab": {
          "base_uri": "https://localhost:8080/",
          "height": 173
        },
        "id": "7eKHIVUQ7jT3",
        "outputId": "1b344204-1c9e-47bf-ca16-998796ceffdd"
      },
      "execution_count": null,
      "outputs": [
        {
          "output_type": "error",
          "ename": "KeyError",
          "evalue": "10",
          "traceback": [
            "\u001b[0;31m---------------------------------------------------------------------------\u001b[0m",
            "\u001b[0;31mKeyError\u001b[0m                                  Traceback (most recent call last)",
            "\u001b[0;32m<ipython-input-35-ff16d19b7a29>\u001b[0m in \u001b[0;36m<cell line: 0>\u001b[0;34m()\u001b[0m\n\u001b[1;32m      1\u001b[0m \u001b[0;31m#removing an element not present in set results in a KeyError\u001b[0m\u001b[0;34m\u001b[0m\u001b[0;34m\u001b[0m\u001b[0m\n\u001b[0;32m----> 2\u001b[0;31m \u001b[0ms\u001b[0m\u001b[0;34m.\u001b[0m\u001b[0mremove\u001b[0m\u001b[0;34m(\u001b[0m\u001b[0;36m10\u001b[0m\u001b[0;34m)\u001b[0m\u001b[0;34m\u001b[0m\u001b[0;34m\u001b[0m\u001b[0m\n\u001b[0m\u001b[1;32m      3\u001b[0m \u001b[0mprint\u001b[0m\u001b[0;34m(\u001b[0m\u001b[0ms\u001b[0m\u001b[0;34m)\u001b[0m\u001b[0;34m\u001b[0m\u001b[0;34m\u001b[0m\u001b[0m\n",
            "\u001b[0;31mKeyError\u001b[0m: 10"
          ]
        }
      ]
    },
    {
      "cell_type": "code",
      "source": [
        "#However, discarding an element not present in set does not result in a KeyError.\n",
        "s.discard(9)\n",
        "print(s)"
      ],
      "metadata": {
        "colab": {
          "base_uri": "https://localhost:8080/"
        },
        "id": "BfMVrnPb7q1h",
        "outputId": "eb485c45-2237-488c-d6b3-0df82bee24cc"
      },
      "execution_count": null,
      "outputs": [
        {
          "output_type": "stream",
          "name": "stdout",
          "text": [
            "{1, 3}\n"
          ]
        }
      ]
    },
    {
      "cell_type": "code",
      "source": [
        "#We can remove an item from a set using the pop() method.\n",
        "s = {1,4, 5, 6, 2, 9, 4, 89, 3}\n",
        "print(s)\n",
        "\n",
        "s.pop()             #remove a random element\n",
        "print(s)"
      ],
      "metadata": {
        "colab": {
          "base_uri": "https://localhost:8080/"
        },
        "id": "WFtC5CLN7zdY",
        "outputId": "56b4de72-e323-4ef4-9809-6f61983976da"
      },
      "execution_count": null,
      "outputs": [
        {
          "output_type": "stream",
          "name": "stdout",
          "text": [
            "{1, 2, 3, 4, 5, 6, 9, 89}\n",
            "{2, 3, 4, 5, 6, 9, 89}\n"
          ]
        }
      ]
    },
    {
      "cell_type": "code",
      "source": [
        "#we can use clear() method to remove all elements from a set\n",
        "s.clear()\n",
        "print(s)"
      ],
      "metadata": {
        "colab": {
          "base_uri": "https://localhost:8080/"
        },
        "id": "NNbnLZNy8Gn8",
        "outputId": "a261b0a6-baaf-4fa9-f4fa-dca472a29f83"
      },
      "execution_count": null,
      "outputs": [
        {
          "output_type": "stream",
          "name": "stdout",
          "text": [
            "set()\n"
          ]
        }
      ]
    },
    {
      "cell_type": "markdown",
      "source": [
        "# Python Set Operators"
      ],
      "metadata": {
        "id": "t03U-PE68W10"
      }
    },
    {
      "cell_type": "code",
      "source": [
        "set1 = {1, 2, 3, 4, 5}\n",
        "set2 = {3, 4, 5, 6, 7}\n",
        "\n",
        "#union of sets using operators\n",
        "print(set1 | set2)\n",
        "\n",
        "#or\n",
        "print(set1.union(set2))"
      ],
      "metadata": {
        "colab": {
          "base_uri": "https://localhost:8080/"
        },
        "id": "8-Che8Wj8VD-",
        "outputId": "166b71e7-4755-4eba-f664-4a44d5df6855"
      },
      "execution_count": null,
      "outputs": [
        {
          "output_type": "stream",
          "name": "stdout",
          "text": [
            "{1, 2, 3, 4, 5, 6, 7}\n",
            "{1, 2, 3, 4, 5, 6, 7}\n"
          ]
        }
      ]
    },
    {
      "cell_type": "code",
      "source": [
        "#intersection of sets using operators\n",
        "print(set1 & set2)\n",
        "\n",
        "#or\n",
        "print(set1.intersection(set2))"
      ],
      "metadata": {
        "colab": {
          "base_uri": "https://localhost:8080/"
        },
        "id": "JMKS9F1U8mHq",
        "outputId": "6cc07e7a-3d8a-43cc-cbd0-e4ed59e0d521"
      },
      "execution_count": null,
      "outputs": [
        {
          "output_type": "stream",
          "name": "stdout",
          "text": [
            "{3, 4, 5}\n",
            "{3, 4, 5}\n"
          ]
        }
      ]
    },
    {
      "cell_type": "code",
      "source": [
        "#set difference (elements in set 1 but not in set 2) using operators\n",
        "print(set1 - set2)\n",
        "\n",
        "#or\n",
        "print(set1.difference(set2))"
      ],
      "metadata": {
        "colab": {
          "base_uri": "https://localhost:8080/"
        },
        "id": "TpOLdEXH83nd",
        "outputId": "a4f3e07f-7964-49d3-dc05-8e5f8e32c0f7"
      },
      "execution_count": null,
      "outputs": [
        {
          "output_type": "stream",
          "name": "stdout",
          "text": [
            "{1, 2}\n",
            "{1, 2}\n"
          ]
        }
      ]
    },
    {
      "cell_type": "code",
      "source": [
        "#symmetric difference (elements in both set 1 and set 2, but not in both) using operators\n",
        "print(set1 ^ set2)\n",
        "\n",
        "#or\n",
        "print(set1.symmetric_difference(set2))"
      ],
      "metadata": {
        "colab": {
          "base_uri": "https://localhost:8080/"
        },
        "id": "HSFxVcXV9A75",
        "outputId": "3e69a077-0986-4675-e134-ff665edfb05d"
      },
      "execution_count": null,
      "outputs": [
        {
          "output_type": "stream",
          "name": "stdout",
          "text": [
            "{1, 2, 6, 7}\n",
            "{1, 2, 6, 7}\n"
          ]
        }
      ]
    },
    {
      "cell_type": "code",
      "source": [
        "#find issubset()\n",
        "x = {1, 2, 3, 4, 5, 6, 6, 7}\n",
        "y = {3, 4}\n",
        "\n",
        "print(f\"Is x a subset of y? {x.issubset(y)}\")\n",
        "\n",
        "print(f\"Is y a subset of x? {y.issubset(x)}\")"
      ],
      "metadata": {
        "colab": {
          "base_uri": "https://localhost:8080/"
        },
        "id": "qzukVk9f9MAa",
        "outputId": "992e89a7-da3a-4815-f8e4-e7329bdd162e"
      },
      "execution_count": null,
      "outputs": [
        {
          "output_type": "stream",
          "name": "stdout",
          "text": [
            "Is x a subset of y? False\n",
            "Is y a subset of x? True\n"
          ]
        }
      ]
    },
    {
      "cell_type": "markdown",
      "source": [
        "# Frozen Sets\n",
        "\n",
        "Frozen sets have the characteristics of a set, but cannot be changed once it is assigned. While tuples are immutable lists, frozen sets are immutable sets.\n",
        "\n",
        "Frozensets can be created using the function frozenset().\n",
        "\n",
        "Sets being mutable are unhashable, so they can't be used as dictionary keys. On the other hand, frozensets are hashable and can be used as dictionary keys.\n",
        "\n",
        "The datatype supports methods like copy(), difference(), isdisjoint(), issubset(), issuperset(), symmetric_difference() and union(). Being immutable, t does not have any method that adds or removes elements."
      ],
      "metadata": {
        "id": "MIltkLGL9lC0"
      }
    },
    {
      "cell_type": "code",
      "source": [
        "set1 = frozenset([1, 2, 3, 4])\n",
        "set2 = frozenset([3, 4, 5, 6])\n",
        "\n",
        "set1.add(5)"
      ],
      "metadata": {
        "colab": {
          "base_uri": "https://localhost:8080/",
          "height": 173
        },
        "id": "aR5Gxunk9iu_",
        "outputId": "b35d33c6-99bb-4507-9216-95f919465f74"
      },
      "execution_count": null,
      "outputs": [
        {
          "output_type": "error",
          "ename": "AttributeError",
          "evalue": "'frozenset' object has no attribute 'add'",
          "traceback": [
            "\u001b[0;31m---------------------------------------------------------------------------\u001b[0m",
            "\u001b[0;31mAttributeError\u001b[0m                            Traceback (most recent call last)",
            "\u001b[0;32m<ipython-input-47-a7eec793b0fd>\u001b[0m in \u001b[0;36m<cell line: 0>\u001b[0;34m()\u001b[0m\n\u001b[1;32m      2\u001b[0m \u001b[0mset2\u001b[0m \u001b[0;34m=\u001b[0m \u001b[0mfrozenset\u001b[0m\u001b[0;34m(\u001b[0m\u001b[0;34m[\u001b[0m\u001b[0;36m3\u001b[0m\u001b[0;34m,\u001b[0m \u001b[0;36m4\u001b[0m\u001b[0;34m,\u001b[0m \u001b[0;36m5\u001b[0m\u001b[0;34m,\u001b[0m \u001b[0;36m6\u001b[0m\u001b[0;34m]\u001b[0m\u001b[0;34m)\u001b[0m\u001b[0;34m\u001b[0m\u001b[0;34m\u001b[0m\u001b[0m\n\u001b[1;32m      3\u001b[0m \u001b[0;34m\u001b[0m\u001b[0m\n\u001b[0;32m----> 4\u001b[0;31m \u001b[0mset1\u001b[0m\u001b[0;34m.\u001b[0m\u001b[0madd\u001b[0m\u001b[0;34m(\u001b[0m\u001b[0;36m5\u001b[0m\u001b[0;34m)\u001b[0m\u001b[0;34m\u001b[0m\u001b[0;34m\u001b[0m\u001b[0m\n\u001b[0m",
            "\u001b[0;31mAttributeError\u001b[0m: 'frozenset' object has no attribute 'add'"
          ]
        }
      ]
    },
    {
      "cell_type": "code",
      "source": [
        "print(set1[1])"
      ],
      "metadata": {
        "colab": {
          "base_uri": "https://localhost:8080/",
          "height": 139
        },
        "id": "deThe0gaEbCA",
        "outputId": "c17e00cd-edd0-468c-a7b3-7fa1eabfaace"
      },
      "execution_count": null,
      "outputs": [
        {
          "output_type": "error",
          "ename": "TypeError",
          "evalue": "'frozenset' object is not subscriptable",
          "traceback": [
            "\u001b[0;31m---------------------------------------------------------------------------\u001b[0m",
            "\u001b[0;31mTypeError\u001b[0m                                 Traceback (most recent call last)",
            "\u001b[0;32m<ipython-input-48-be32ec393e2f>\u001b[0m in \u001b[0;36m<cell line: 0>\u001b[0;34m()\u001b[0m\n\u001b[0;32m----> 1\u001b[0;31m \u001b[0mprint\u001b[0m\u001b[0;34m(\u001b[0m\u001b[0mset1\u001b[0m\u001b[0;34m[\u001b[0m\u001b[0;36m1\u001b[0m\u001b[0;34m]\u001b[0m\u001b[0;34m)\u001b[0m\u001b[0;34m\u001b[0m\u001b[0;34m\u001b[0m\u001b[0m\n\u001b[0m",
            "\u001b[0;31mTypeError\u001b[0m: 'frozenset' object is not subscriptable"
          ]
        }
      ]
    },
    {
      "cell_type": "code",
      "source": [
        "print(set1 | set2)\n",
        "\n",
        "print(set1 & set2)\n",
        "\n",
        "print(set1 ^ set2)"
      ],
      "metadata": {
        "colab": {
          "base_uri": "https://localhost:8080/"
        },
        "id": "Eu0qrwd_Em_b",
        "outputId": "b8c920f5-114f-415c-e200-2478fbe2fb93"
      },
      "execution_count": null,
      "outputs": [
        {
          "output_type": "stream",
          "name": "stdout",
          "text": [
            "frozenset({1, 2, 3, 4, 5, 6})\n",
            "frozenset({3, 4})\n",
            "frozenset({1, 2, 5, 6})\n"
          ]
        }
      ]
    },
    {
      "cell_type": "markdown",
      "source": [
        "#Dictionary\n",
        "\n",
        "Python dictionary is an unordered collection of items. While other compound data types have only values as elements, a dictionary has a key:value pair."
      ],
      "metadata": {
        "id": "FpAFxBrTHGNt"
      }
    },
    {
      "cell_type": "markdown",
      "source": [
        "#Dict Creation"
      ],
      "metadata": {
        "id": "JWKsMwiCHYl9"
      }
    },
    {
      "cell_type": "code",
      "source": [
        "#empty dict\n",
        "my_dict = {}\n",
        "\n",
        "#dict with integer keys\n",
        "my_dict = {1 : 'abc', 2 : 'xyz'}\n",
        "print(my_dict)\n",
        "\n",
        "#dict with mixed keys\n",
        "my_dict = {'name' : 'Satish', 1 : ['abc', 'xyz']}\n",
        "print(my_dict)\n",
        "\n",
        "#creating empty dict using dict()\n",
        "my_dict = dict()\n",
        "\n",
        "#create a dict with a list of tuples\n",
        "my_dict = dict([(1, 'abc'), (2, 'xyz')])\n",
        "print(my_dict)"
      ],
      "metadata": {
        "colab": {
          "base_uri": "https://localhost:8080/"
        },
        "id": "7rKHtd4GEp4P",
        "outputId": "39077314-1860-42f4-a932-529b4f55d419"
      },
      "execution_count": null,
      "outputs": [
        {
          "output_type": "stream",
          "name": "stdout",
          "text": [
            "{1: 'abc', 2: 'xyz'}\n",
            "{'name': 'Satish', 1: ['abc', 'xyz']}\n",
            "{1: 'abc', 2: 'xyz'}\n"
          ]
        }
      ]
    },
    {
      "cell_type": "markdown",
      "source": [
        "#Dict Access"
      ],
      "metadata": {
        "id": "8ixda0anIS60"
      }
    },
    {
      "cell_type": "code",
      "source": [
        "my_dict = {'name' : 'Satish', 'age' :  27, 'address' : 'Patna'}\n",
        "\n",
        "print(my_dict['name'])"
      ],
      "metadata": {
        "colab": {
          "base_uri": "https://localhost:8080/"
        },
        "id": "SQmr5xYFIO8F",
        "outputId": "49a16d9d-e7fc-4550-bd6d-18d50c2ef32b"
      },
      "execution_count": null,
      "outputs": [
        {
          "output_type": "stream",
          "name": "stdout",
          "text": [
            "Satish\n"
          ]
        }
      ]
    },
    {
      "cell_type": "code",
      "source": [
        "#if key is not present, it gives KeyError\n",
        "\n",
        "print(my_dict['degree'])"
      ],
      "metadata": {
        "colab": {
          "base_uri": "https://localhost:8080/",
          "height": 173
        },
        "id": "UluOjUnNIopA",
        "outputId": "9c9a15fe-4b9a-4765-e647-a76ef621a37a"
      },
      "execution_count": null,
      "outputs": [
        {
          "output_type": "error",
          "ename": "KeyError",
          "evalue": "'degree'",
          "traceback": [
            "\u001b[0;31m---------------------------------------------------------------------------\u001b[0m",
            "\u001b[0;31mKeyError\u001b[0m                                  Traceback (most recent call last)",
            "\u001b[0;32m<ipython-input-53-20dfe5fd69c1>\u001b[0m in \u001b[0;36m<cell line: 0>\u001b[0;34m()\u001b[0m\n\u001b[1;32m      1\u001b[0m \u001b[0;31m#if key is not present, it gives KeyError\u001b[0m\u001b[0;34m\u001b[0m\u001b[0;34m\u001b[0m\u001b[0m\n\u001b[1;32m      2\u001b[0m \u001b[0;34m\u001b[0m\u001b[0m\n\u001b[0;32m----> 3\u001b[0;31m \u001b[0mprint\u001b[0m\u001b[0;34m(\u001b[0m\u001b[0mmy_dict\u001b[0m\u001b[0;34m[\u001b[0m\u001b[0;34m'degree'\u001b[0m\u001b[0;34m]\u001b[0m\u001b[0;34m)\u001b[0m\u001b[0;34m\u001b[0m\u001b[0;34m\u001b[0m\u001b[0m\n\u001b[0m",
            "\u001b[0;31mKeyError\u001b[0m: 'degree'"
          ]
        }
      ]
    },
    {
      "cell_type": "code",
      "source": [
        "#another way of accessing keys using get method\n",
        "print(my_dict.get('address'))\n",
        "\n",
        "#if key is not present, it will give none while using get method\n",
        "print(my_dict.get('degree'))"
      ],
      "metadata": {
        "colab": {
          "base_uri": "https://localhost:8080/"
        },
        "id": "j-oGKWa6Iu91",
        "outputId": "de8884d5-b5b3-4586-ce1b-3605fe5a3ed2"
      },
      "execution_count": null,
      "outputs": [
        {
          "output_type": "stream",
          "name": "stdout",
          "text": [
            "Patna\n",
            "None\n"
          ]
        }
      ]
    },
    {
      "cell_type": "markdown",
      "source": [
        "#Dict Add or Modify Elements"
      ],
      "metadata": {
        "id": "jyPgGAcvJEBQ"
      }
    },
    {
      "cell_type": "code",
      "source": [
        "my_dict = {'name' : 'Satish', 'age' :  27, 'address' : 'Patna'}\n",
        "\n",
        "my_dict['name'] = \"Raju\"\n",
        "\n",
        "print(my_dict)"
      ],
      "metadata": {
        "colab": {
          "base_uri": "https://localhost:8080/"
        },
        "id": "y-XoGH5tI2w6",
        "outputId": "e0dfcd9f-d814-44a0-b94b-0c42f765dbdb"
      },
      "execution_count": null,
      "outputs": [
        {
          "output_type": "stream",
          "name": "stdout",
          "text": [
            "{'name': 'Raju', 'age': 27, 'address': 'Patna'}\n"
          ]
        }
      ]
    },
    {
      "cell_type": "code",
      "source": [
        "my_dict['degree'] = \"M.S.\"\n",
        "\n",
        "print(my_dict)"
      ],
      "metadata": {
        "colab": {
          "base_uri": "https://localhost:8080/"
        },
        "id": "KC4n84z53mLC",
        "outputId": "81f2a0c2-49ed-4037-e6f0-fa7444249844"
      },
      "execution_count": null,
      "outputs": [
        {
          "output_type": "stream",
          "name": "stdout",
          "text": [
            "{'name': 'Raju', 'age': 27, 'address': 'Patna', 'degree': 'M.S.'}\n"
          ]
        }
      ]
    },
    {
      "cell_type": "markdown",
      "source": [
        "#Dict Delete or Remove Element"
      ],
      "metadata": {
        "id": "CzcrNtxB3sib"
      }
    },
    {
      "cell_type": "code",
      "source": [
        "my_dict = {'name' : 'Satish', 'age' :  27, 'address' : 'Patna'}\n",
        "\n",
        "#remove a particular item\n",
        "print(my_dict.pop('age'))\n",
        "\n",
        "print(my_dict)"
      ],
      "metadata": {
        "colab": {
          "base_uri": "https://localhost:8080/"
        },
        "id": "O__Iaf9C3qAs",
        "outputId": "5139a39c-1778-4fbc-93e9-974a3709c369"
      },
      "execution_count": null,
      "outputs": [
        {
          "output_type": "stream",
          "name": "stdout",
          "text": [
            "27\n",
            "{'name': 'Satish', 'address': 'Patna'}\n"
          ]
        }
      ]
    },
    {
      "cell_type": "code",
      "source": [
        "my_dict = {'name' : 'Satish', 'age' :  27, 'address' : 'Patna'}\n",
        "\n",
        "#remove an arbitrary item\n",
        "my_dict.popitem()\n",
        "\n",
        "print(my_dict)"
      ],
      "metadata": {
        "colab": {
          "base_uri": "https://localhost:8080/"
        },
        "id": "wGOhRqP135IY",
        "outputId": "c95424b7-bd32-4a9d-8901-e01bc493504c"
      },
      "execution_count": null,
      "outputs": [
        {
          "output_type": "stream",
          "name": "stdout",
          "text": [
            "{'name': 'Satish', 'age': 27}\n"
          ]
        }
      ]
    },
    {
      "cell_type": "code",
      "source": [
        "squares = {2 : 4, 3 : 9, 4 : 16, 5 : 25}\n",
        "\n",
        "#delete particular key\n",
        "del squares[2]\n",
        "\n",
        "print(squares)"
      ],
      "metadata": {
        "colab": {
          "base_uri": "https://localhost:8080/"
        },
        "id": "ZUfWPQoJ4Ao1",
        "outputId": "59b31ffd-b35f-46d2-e8e0-9549c23e9eeb"
      },
      "execution_count": null,
      "outputs": [
        {
          "output_type": "stream",
          "name": "stdout",
          "text": [
            "{3: 9, 4: 16, 5: 25}\n"
          ]
        }
      ]
    },
    {
      "cell_type": "code",
      "source": [
        "#remove all items\n",
        "squares.clear()\n",
        "\n",
        "print(squares)"
      ],
      "metadata": {
        "colab": {
          "base_uri": "https://localhost:8080/"
        },
        "id": "_x3ZW1eh4Qfk",
        "outputId": "36714c9e-d9ce-42b9-8f9d-b15302a74d38"
      },
      "execution_count": null,
      "outputs": [
        {
          "output_type": "stream",
          "name": "stdout",
          "text": [
            "{}\n"
          ]
        }
      ]
    },
    {
      "cell_type": "code",
      "source": [
        "squares = {2 : 4, 3 : 9, 4 : 16, 5 : 25}\n",
        "\n",
        "#delete dictionary itself\n",
        "del squares\n",
        "\n",
        "print(squares)"
      ],
      "metadata": {
        "colab": {
          "base_uri": "https://localhost:8080/",
          "height": 173
        },
        "id": "xYD4SlDX4Wyl",
        "outputId": "e23ff122-8da8-49e6-8dbc-04d2ffa19114"
      },
      "execution_count": null,
      "outputs": [
        {
          "output_type": "error",
          "ename": "NameError",
          "evalue": "name 'squares' is not defined",
          "traceback": [
            "\u001b[0;31m---------------------------------------------------------------------------\u001b[0m",
            "\u001b[0;31mNameError\u001b[0m                                 Traceback (most recent call last)",
            "\u001b[0;32m<ipython-input-8-187f7977b991>\u001b[0m in \u001b[0;36m<cell line: 0>\u001b[0;34m()\u001b[0m\n\u001b[1;32m      4\u001b[0m \u001b[0;32mdel\u001b[0m \u001b[0msquares\u001b[0m\u001b[0;34m\u001b[0m\u001b[0;34m\u001b[0m\u001b[0m\n\u001b[1;32m      5\u001b[0m \u001b[0;34m\u001b[0m\u001b[0m\n\u001b[0;32m----> 6\u001b[0;31m \u001b[0mprint\u001b[0m\u001b[0;34m(\u001b[0m\u001b[0msquares\u001b[0m\u001b[0;34m)\u001b[0m\u001b[0;34m\u001b[0m\u001b[0;34m\u001b[0m\u001b[0m\n\u001b[0m",
            "\u001b[0;31mNameError\u001b[0m: name 'squares' is not defined"
          ]
        }
      ]
    },
    {
      "cell_type": "markdown",
      "source": [
        "#Dictionary Methods\n",
        "\n"
      ],
      "metadata": {
        "id": "PAgCfCEB4lCE"
      }
    },
    {
      "cell_type": "code",
      "source": [
        "squares = {2 : 4, 3 : 9, 4 : 16, 5 : 25}\n",
        "\n",
        "my_dict = squares.copy()\n",
        "\n",
        "print(my_dict)"
      ],
      "metadata": {
        "colab": {
          "base_uri": "https://localhost:8080/"
        },
        "id": "GUa4Wgv94iZn",
        "outputId": "a4029b3e-334b-464f-b39b-34f2c95bd336"
      },
      "execution_count": null,
      "outputs": [
        {
          "output_type": "stream",
          "name": "stdout",
          "text": [
            "{2: 4, 3: 9, 4: 16, 5: 25}\n"
          ]
        }
      ]
    },
    {
      "cell_type": "code",
      "source": [
        "#fromkeys(seq[, v]) -> returns a new dictionary with keys from seq and value v\n",
        "subjects = {}.fromkeys([\"Hindi\", \"English\", \"French\"], 0)\n",
        "print(subjects)"
      ],
      "metadata": {
        "colab": {
          "base_uri": "https://localhost:8080/"
        },
        "id": "Zy7grCjF4tM5",
        "outputId": "4a48621f-f9e6-4ba7-8555-98972121d2fa"
      },
      "execution_count": null,
      "outputs": [
        {
          "output_type": "stream",
          "name": "stdout",
          "text": [
            "{'Hindi': 0, 'English': 0, 'French': 0}\n"
          ]
        }
      ]
    },
    {
      "cell_type": "code",
      "source": [
        "my_dict = {2 : 4, 3 : 9, 4 : 16, 5 : 25}\n",
        "\n",
        "print(f\"The dictionary's items are : {my_dict.items()}\")\n",
        "print(f\"The dictionary's keys are : {my_dict.keys()}\")\n",
        "print(f\"The dictionary's values are : {my_dict.values()}\")"
      ],
      "metadata": {
        "colab": {
          "base_uri": "https://localhost:8080/"
        },
        "id": "oSw0x34S5Jp6",
        "outputId": "fbd65e2e-f474-4565-af41-b44ff49429ee"
      },
      "execution_count": null,
      "outputs": [
        {
          "output_type": "stream",
          "name": "stdout",
          "text": [
            "The dictionary's items are : dict_items([(2, 4), (3, 9), (4, 16), (5, 25)])\n",
            "The dictionary's keys are : dict_keys([2, 3, 4, 5])\n",
            "The dictionary's values are : dict_values([4, 9, 16, 25])\n"
          ]
        }
      ]
    },
    {
      "cell_type": "code",
      "source": [
        "#get list of all available attributes and methods of dictionary\n",
        "d = {}\n",
        "print(dir(d))"
      ],
      "metadata": {
        "colab": {
          "base_uri": "https://localhost:8080/"
        },
        "id": "GkdWPfwR51Eo",
        "outputId": "86efb920-8fff-4b62-deed-ed068e057c00"
      },
      "execution_count": null,
      "outputs": [
        {
          "output_type": "stream",
          "name": "stdout",
          "text": [
            "['__class__', '__class_getitem__', '__contains__', '__delattr__', '__delitem__', '__dir__', '__doc__', '__eq__', '__format__', '__ge__', '__getattribute__', '__getitem__', '__getstate__', '__gt__', '__hash__', '__init__', '__init_subclass__', '__ior__', '__iter__', '__le__', '__len__', '__lt__', '__ne__', '__new__', '__or__', '__reduce__', '__reduce_ex__', '__repr__', '__reversed__', '__ror__', '__setattr__', '__setitem__', '__sizeof__', '__str__', '__subclasshook__', 'clear', 'copy', 'fromkeys', 'get', 'items', 'keys', 'pop', 'popitem', 'setdefault', 'update', 'values']\n"
          ]
        }
      ]
    },
    {
      "cell_type": "markdown",
      "source": [
        "#Dict Comprehension"
      ],
      "metadata": {
        "id": "p3GJ44A96CKj"
      }
    },
    {
      "cell_type": "code",
      "source": [
        "d = {'a' : 1, 'b' : 2, 'c' : 3}\n",
        "for pair in d.items():\n",
        "  print(pair)"
      ],
      "metadata": {
        "colab": {
          "base_uri": "https://localhost:8080/"
        },
        "id": "IdZdfDpE5_6s",
        "outputId": "53f8a45c-5ee4-44ef-97b3-18328401398f"
      },
      "execution_count": null,
      "outputs": [
        {
          "output_type": "stream",
          "name": "stdout",
          "text": [
            "('a', 1)\n",
            "('b', 2)\n",
            "('c', 3)\n"
          ]
        }
      ]
    },
    {
      "cell_type": "code",
      "source": [
        "d = {'a' : 1, 'b' : 2, 'c' : 3}\n",
        "new_dict = {k:v for k, v in d.items() if v > 2}\n",
        "\n",
        "print(new_dict)"
      ],
      "metadata": {
        "colab": {
          "base_uri": "https://localhost:8080/"
        },
        "id": "DH8CfvGt6PQh",
        "outputId": "d22a761d-1315-41e3-e5b0-535d80359046"
      },
      "execution_count": null,
      "outputs": [
        {
          "output_type": "stream",
          "name": "stdout",
          "text": [
            "{'c': 3}\n"
          ]
        }
      ]
    },
    {
      "cell_type": "code",
      "source": [
        "d = {'a' : 1, 'b' : 2, 'c' : 3}\n",
        "new_dict = {k + '_item':v*5 for k, v in d.items() if v > 2}\n",
        "\n",
        "print(new_dict)"
      ],
      "metadata": {
        "colab": {
          "base_uri": "https://localhost:8080/"
        },
        "id": "aQqAVQSD6abe",
        "outputId": "b488d7e4-3593-4d70-f287-06c5264162dc"
      },
      "execution_count": null,
      "outputs": [
        {
          "output_type": "stream",
          "name": "stdout",
          "text": [
            "{'c_item': 15}\n"
          ]
        }
      ]
    },
    {
      "cell_type": "markdown",
      "source": [
        "#Strings\n",
        "\n",
        "A string is a sequence of characters.\n",
        "\n",
        "Computers deal with numbers, not characters. The conversion of a character to a number is called encoding and the opposite is called decoding. ASCII and Unicode are some of the popular encodings used.\n",
        "\n",
        "In Python, a string is a set of Unicode characters."
      ],
      "metadata": {
        "id": "-L0xztoJ3OIN"
      }
    },
    {
      "cell_type": "markdown",
      "source": [
        "#Accessing Characters in a String"
      ],
      "metadata": {
        "id": "16PxO7WLMLMK"
      }
    },
    {
      "cell_type": "code",
      "source": [
        "myString = 'Hello'\n",
        "\n",
        "#subscriptin/indexing\n",
        "print(myString[1])\n",
        "\n",
        "#slicing\n",
        "print(myString[2:5])"
      ],
      "metadata": {
        "colab": {
          "base_uri": "https://localhost:8080/"
        },
        "id": "_RRSmuDs6uMZ",
        "outputId": "6ec14da0-a78e-489d-80a5-f03ba3b78b63"
      },
      "execution_count": null,
      "outputs": [
        {
          "output_type": "stream",
          "name": "stdout",
          "text": [
            "e\n",
            "llo\n"
          ]
        }
      ]
    },
    {
      "cell_type": "markdown",
      "source": [
        "If we try to index out of range or use decimals, we get an error"
      ],
      "metadata": {
        "id": "0fmpf8ljV3Or"
      }
    },
    {
      "cell_type": "code",
      "source": [
        "print(myString[30])"
      ],
      "metadata": {
        "colab": {
          "base_uri": "https://localhost:8080/",
          "height": 139
        },
        "id": "FFSRs7lVMSYB",
        "outputId": "14a8e020-ae93-42df-ddee-f0debf207ebd"
      },
      "execution_count": null,
      "outputs": [
        {
          "output_type": "error",
          "ename": "IndexError",
          "evalue": "string index out of range",
          "traceback": [
            "\u001b[0;31m---------------------------------------------------------------------------\u001b[0m",
            "\u001b[0;31mIndexError\u001b[0m                                Traceback (most recent call last)",
            "\u001b[0;32m<ipython-input-5-48f58d4907cc>\u001b[0m in \u001b[0;36m<cell line: 0>\u001b[0;34m()\u001b[0m\n\u001b[0;32m----> 1\u001b[0;31m \u001b[0mprint\u001b[0m\u001b[0;34m(\u001b[0m\u001b[0mmyString\u001b[0m\u001b[0;34m[\u001b[0m\u001b[0;36m30\u001b[0m\u001b[0;34m]\u001b[0m\u001b[0;34m)\u001b[0m\u001b[0;34m\u001b[0m\u001b[0;34m\u001b[0m\u001b[0m\n\u001b[0m",
            "\u001b[0;31mIndexError\u001b[0m: string index out of range"
          ]
        }
      ]
    },
    {
      "cell_type": "code",
      "source": [
        "print(myString[1.3])"
      ],
      "metadata": {
        "colab": {
          "base_uri": "https://localhost:8080/",
          "height": 139
        },
        "id": "paCE3MvjV-B8",
        "outputId": "04749d32-57c6-4311-fe2d-ce8575afeab5"
      },
      "execution_count": null,
      "outputs": [
        {
          "output_type": "error",
          "ename": "TypeError",
          "evalue": "string indices must be integers, not 'float'",
          "traceback": [
            "\u001b[0;31m---------------------------------------------------------------------------\u001b[0m",
            "\u001b[0;31mTypeError\u001b[0m                                 Traceback (most recent call last)",
            "\u001b[0;32m<ipython-input-6-ff65728ccb09>\u001b[0m in \u001b[0;36m<cell line: 0>\u001b[0;34m()\u001b[0m\n\u001b[0;32m----> 1\u001b[0;31m \u001b[0mprint\u001b[0m\u001b[0;34m(\u001b[0m\u001b[0mmyString\u001b[0m\u001b[0;34m[\u001b[0m\u001b[0;36m1.3\u001b[0m\u001b[0;34m]\u001b[0m\u001b[0;34m)\u001b[0m\u001b[0;34m\u001b[0m\u001b[0;34m\u001b[0m\u001b[0m\n\u001b[0m",
            "\u001b[0;31mTypeError\u001b[0m: string indices must be integers, not 'float'"
          ]
        }
      ]
    },
    {
      "cell_type": "markdown",
      "source": [
        "#Changing/Deleting Strings\n",
        "\n",
        "Strings are immutable, and so, we cannot change the characters of a string once assigned.\n",
        "\n",
        "We can simply reassign different strings to the same name."
      ],
      "metadata": {
        "id": "vDaErd-oWFbU"
      }
    },
    {
      "cell_type": "code",
      "source": [
        "s = \"Hello\"\n",
        "\n",
        "s[4] = 'p'"
      ],
      "metadata": {
        "colab": {
          "base_uri": "https://localhost:8080/",
          "height": 173
        },
        "id": "9e2-JxWQV_xz",
        "outputId": "f23453b5-2f86-4d06-b542-acdbabe2a909"
      },
      "execution_count": null,
      "outputs": [
        {
          "output_type": "error",
          "ename": "TypeError",
          "evalue": "'str' object does not support item assignment",
          "traceback": [
            "\u001b[0;31m---------------------------------------------------------------------------\u001b[0m",
            "\u001b[0;31mTypeError\u001b[0m                                 Traceback (most recent call last)",
            "\u001b[0;32m<ipython-input-7-b9f8a8579dd0>\u001b[0m in \u001b[0;36m<cell line: 0>\u001b[0;34m()\u001b[0m\n\u001b[1;32m      1\u001b[0m \u001b[0ms\u001b[0m \u001b[0;34m=\u001b[0m \u001b[0;34m\"Hello\"\u001b[0m\u001b[0;34m\u001b[0m\u001b[0;34m\u001b[0m\u001b[0m\n\u001b[1;32m      2\u001b[0m \u001b[0;34m\u001b[0m\u001b[0m\n\u001b[0;32m----> 3\u001b[0;31m \u001b[0ms\u001b[0m\u001b[0;34m[\u001b[0m\u001b[0;36m4\u001b[0m\u001b[0;34m]\u001b[0m \u001b[0;34m=\u001b[0m \u001b[0;34m'p'\u001b[0m\u001b[0;34m\u001b[0m\u001b[0;34m\u001b[0m\u001b[0m\n\u001b[0m",
            "\u001b[0;31mTypeError\u001b[0m: 'str' object does not support item assignment"
          ]
        }
      ]
    },
    {
      "cell_type": "markdown",
      "source": [
        "We cannot delete or remove individual characters from a string, but can delete the string as a whole."
      ],
      "metadata": {
        "id": "9dFW7O-iWhn9"
      }
    },
    {
      "cell_type": "code",
      "source": [
        "del s"
      ],
      "metadata": {
        "id": "izs4Y_WgWdzU"
      },
      "execution_count": null,
      "outputs": []
    },
    {
      "cell_type": "code",
      "source": [
        "s"
      ],
      "metadata": {
        "colab": {
          "base_uri": "https://localhost:8080/",
          "height": 139
        },
        "id": "lQ-6WrMRWqMT",
        "outputId": "a303438a-77ec-4609-e67a-77cde4179b4d"
      },
      "execution_count": null,
      "outputs": [
        {
          "output_type": "error",
          "ename": "NameError",
          "evalue": "name 's' is not defined",
          "traceback": [
            "\u001b[0;31m---------------------------------------------------------------------------\u001b[0m",
            "\u001b[0;31mNameError\u001b[0m                                 Traceback (most recent call last)",
            "\u001b[0;32m<ipython-input-9-ded5ba42480f>\u001b[0m in \u001b[0;36m<cell line: 0>\u001b[0;34m()\u001b[0m\n\u001b[0;32m----> 1\u001b[0;31m \u001b[0ms\u001b[0m\u001b[0;34m\u001b[0m\u001b[0;34m\u001b[0m\u001b[0m\n\u001b[0m",
            "\u001b[0;31mNameError\u001b[0m: name 's' is not defined"
          ]
        }
      ]
    },
    {
      "cell_type": "markdown",
      "source": [
        "#String Operations"
      ],
      "metadata": {
        "id": "WcmuYURgWvLo"
      }
    },
    {
      "cell_type": "markdown",
      "source": [
        "#String Concatenation"
      ],
      "metadata": {
        "id": "qqgclA9gWxuK"
      }
    },
    {
      "cell_type": "code",
      "source": [
        "s1 = \"Hello\"\n",
        "s2 = \"Morty\"\n",
        "\n",
        "print(s1 + \" \" + s2)\n",
        "print(s2*5)"
      ],
      "metadata": {
        "colab": {
          "base_uri": "https://localhost:8080/"
        },
        "id": "SSwIYYh3Wqlk",
        "outputId": "437d581a-80df-4403-9f01-1aa5f3e5e315"
      },
      "execution_count": null,
      "outputs": [
        {
          "output_type": "stream",
          "name": "stdout",
          "text": [
            "Hello Morty\n",
            "MortyMortyMortyMortyMorty\n"
          ]
        }
      ]
    },
    {
      "cell_type": "markdown",
      "source": [
        "#Iterating Through a String"
      ],
      "metadata": {
        "id": "PDQ1Vez3XF2L"
      }
    },
    {
      "cell_type": "code",
      "source": [
        "count = 0\n",
        "mystr = \"Gregory House\"\n",
        "for l in mystr:\n",
        "  if l == 'r':\n",
        "    count += 1\n",
        "\n",
        "print(f\"The letter 'r' appears {count} times in \\\"{mystr}\\\".\")"
      ],
      "metadata": {
        "colab": {
          "base_uri": "https://localhost:8080/"
        },
        "id": "Ilz_fqCwW9Mz",
        "outputId": "324aafc0-bc26-47b2-fee4-87f698a75dad"
      },
      "execution_count": null,
      "outputs": [
        {
          "output_type": "stream",
          "name": "stdout",
          "text": [
            "The letter 'r' appears 2 times in \"Gregory House\".\n"
          ]
        }
      ]
    },
    {
      "cell_type": "markdown",
      "source": [
        "#String Membership Test"
      ],
      "metadata": {
        "id": "nEICVw2RXvFR"
      }
    },
    {
      "cell_type": "code",
      "source": [
        "print('k' in 'Family')"
      ],
      "metadata": {
        "colab": {
          "base_uri": "https://localhost:8080/"
        },
        "id": "jl9SPg40XhNw",
        "outputId": "7a8980c4-33bb-4237-8669-d923dd743128"
      },
      "execution_count": null,
      "outputs": [
        {
          "output_type": "stream",
          "name": "stdout",
          "text": [
            "False\n"
          ]
        }
      ]
    },
    {
      "cell_type": "code",
      "source": [
        "print('R' in 'Rohit')"
      ],
      "metadata": {
        "colab": {
          "base_uri": "https://localhost:8080/"
        },
        "id": "J_9xvjTmX08q",
        "outputId": "08f0dbde-bf23-46e0-cb6e-beb222b6ae3a"
      },
      "execution_count": null,
      "outputs": [
        {
          "output_type": "stream",
          "name": "stdout",
          "text": [
            "True\n"
          ]
        }
      ]
    },
    {
      "cell_type": "markdown",
      "source": [
        "#String Methods\n",
        "\n",
        "Some of the commonly used methods are upper(), lower(), join(), split(), find(), replace(), etc."
      ],
      "metadata": {
        "id": "ohGEyLYbX4fF"
      }
    },
    {
      "cell_type": "code",
      "source": [
        "s1 = \"Disdain\"\n",
        "s2 = s1.lower()\n",
        "\n",
        "print(s1)\n",
        "print(s2)"
      ],
      "metadata": {
        "colab": {
          "base_uri": "https://localhost:8080/"
        },
        "id": "TH6-ImI0X2tM",
        "outputId": "b7992479-383f-44e2-cca4-dfa58561ff1d"
      },
      "execution_count": null,
      "outputs": [
        {
          "output_type": "stream",
          "name": "stdout",
          "text": [
            "Disdain\n",
            "disdain\n"
          ]
        }
      ]
    },
    {
      "cell_type": "code",
      "source": [
        "\"Trophy\".upper()"
      ],
      "metadata": {
        "colab": {
          "base_uri": "https://localhost:8080/",
          "height": 35
        },
        "id": "E85e3fTjYOJE",
        "outputId": "b469688e-4df6-483b-a294-a4a6f9b433de"
      },
      "execution_count": null,
      "outputs": [
        {
          "output_type": "execute_result",
          "data": {
            "text/plain": [
              "'TROPHY'"
            ],
            "application/vnd.google.colaboratory.intrinsic+json": {
              "type": "string"
            }
          },
          "metadata": {},
          "execution_count": 24
        }
      ]
    },
    {
      "cell_type": "code",
      "source": [
        "\"The History and Philosophy of Science\".split()"
      ],
      "metadata": {
        "colab": {
          "base_uri": "https://localhost:8080/"
        },
        "id": "71RT3dnaYQ-v",
        "outputId": "ecacd033-7d58-45a3-9e5d-e987c5ee4c06"
      },
      "execution_count": null,
      "outputs": [
        {
          "output_type": "execute_result",
          "data": {
            "text/plain": [
              "['The', 'History', 'and', 'Philosophy', 'of', 'Science']"
            ]
          },
          "metadata": {},
          "execution_count": 26
        }
      ]
    },
    {
      "cell_type": "code",
      "source": [
        "print(' '.join(['The', 'History', 'and', 'Philosophy', 'of', 'Science']))\n",
        "\n",
        "print(''.join(['The', 'History', 'and', 'Philosophy', 'of', 'Science']))\n",
        "\n",
        "print(','.join(['The', 'History', 'and', 'Philosophy', 'of', 'Science']))"
      ],
      "metadata": {
        "colab": {
          "base_uri": "https://localhost:8080/"
        },
        "id": "qYuYx-BZYWGR",
        "outputId": "7bb81247-7f31-4a78-bd13-c0c18fdb9482"
      },
      "execution_count": null,
      "outputs": [
        {
          "output_type": "stream",
          "name": "stdout",
          "text": [
            "<class 'str'>\n",
            "TheHistoryandPhilosophyofScience\n",
            "The,History,and,Philosophy,of,Science\n"
          ]
        }
      ]
    },
    {
      "cell_type": "code",
      "source": [
        "\"Good Morning\".find('or')"
      ],
      "metadata": {
        "colab": {
          "base_uri": "https://localhost:8080/"
        },
        "id": "XjVOwV8YYgke",
        "outputId": "fe615f22-da10-496c-ebbe-5947aa004340"
      },
      "execution_count": null,
      "outputs": [
        {
          "output_type": "execute_result",
          "data": {
            "text/plain": [
              "6"
            ]
          },
          "metadata": {},
          "execution_count": 35
        }
      ]
    },
    {
      "cell_type": "markdown",
      "source": [
        "replace() creates a new string. It doesn't modify the original string (since strings are immutable)."
      ],
      "metadata": {
        "id": "aZEBkQ9dZHSG"
      }
    },
    {
      "cell_type": "code",
      "source": [
        "s1 = \"Good Morning\"\n",
        "s2 = s1.replace(\"Good\", \"Great\")\n",
        "\n",
        "#original unchanged\n",
        "print(s1)\n",
        "#new string changed\n",
        "print(s2)"
      ],
      "metadata": {
        "colab": {
          "base_uri": "https://localhost:8080/"
        },
        "id": "Wo0QYKM6Y7vZ",
        "outputId": "72a51930-7ee2-482f-cfa3-d27b8ae08103"
      },
      "execution_count": null,
      "outputs": [
        {
          "output_type": "stream",
          "name": "stdout",
          "text": [
            "Good Morning\n",
            "Great Morning\n"
          ]
        }
      ]
    },
    {
      "cell_type": "code",
      "source": [
        "string = \"Hello\"\n",
        "\n",
        "rev_str = reversed(string)\n",
        "\n",
        "print(type(string))\n",
        "print(type(rev_str))"
      ],
      "metadata": {
        "colab": {
          "base_uri": "https://localhost:8080/"
        },
        "id": "Y2qFU9-Da3z5",
        "outputId": "b220d5e2-c6e0-47e4-d3b1-33a5908b81ca"
      },
      "execution_count": null,
      "outputs": [
        {
          "output_type": "stream",
          "name": "stdout",
          "text": [
            "<class 'str'>\n",
            "<class 'reversed'>\n"
          ]
        }
      ]
    },
    {
      "cell_type": "code",
      "source": [
        "s1 = \"abc\"\n",
        "print(s1)\n",
        "\n",
        "#Here, it makes new string, and then reassigns s1 to the new string. It does not change s1 itself.\n",
        "s1 = s1.upper()\n",
        "print(s1)\n",
        "\n"
      ],
      "metadata": {
        "colab": {
          "base_uri": "https://localhost:8080/"
        },
        "id": "XmmhxlqDb7Fk",
        "outputId": "bb934aa8-c849-434c-bcba-3fa68ce71216"
      },
      "execution_count": null,
      "outputs": [
        {
          "output_type": "stream",
          "name": "stdout",
          "text": [
            "abc\n",
            "ABC\n"
          ]
        }
      ]
    },
    {
      "cell_type": "markdown",
      "source": [
        "#Python Program to Check if a Given String is a Palindrome"
      ],
      "metadata": {
        "id": "5kHJK6xAZcjw"
      }
    },
    {
      "cell_type": "code",
      "source": [
        "string = \"madam\"\n",
        "\n",
        "#maybe better to have new variable as one might not want to erase the original assignment that string has. Might need it elsewhere at some point.\n",
        "string_lower = string.lower()\n",
        "print(list(string_lower))\n",
        "\n",
        "rev_str = reversed(string_lower)\n",
        "print(rev_str)\n",
        "\n",
        "#Check\n",
        "if list(string_lower)==list(rev_str):\n",
        "  print(\"Pal\")\n",
        "else:\n",
        "  print(\"not Pal\")"
      ],
      "metadata": {
        "colab": {
          "base_uri": "https://localhost:8080/"
        },
        "id": "ZQtviXBnaeZn",
        "outputId": "670cc11d-8de4-4f4b-e01c-78b35fa16f86"
      },
      "execution_count": null,
      "outputs": [
        {
          "output_type": "stream",
          "name": "stdout",
          "text": [
            "['m', 'a', 'd', 'a', 'm']\n",
            "<reversed object at 0x7d58a1ff9900>\n",
            "Pal\n"
          ]
        }
      ]
    },
    {
      "cell_type": "markdown",
      "source": [
        "#Python Program to Sort Words in Alphabetical Order"
      ],
      "metadata": {
        "id": "A33Isox7gXH-"
      }
    },
    {
      "cell_type": "code",
      "source": [
        "sent = \"Utilitarianism is a school of thought that places emphasis on the greater good rather than the individual.\"\n",
        "\n",
        "words = sent.split()\n",
        "\n",
        "words.sort()\n",
        "\n",
        "for word in words:\n",
        "  print(word)"
      ],
      "metadata": {
        "colab": {
          "base_uri": "https://localhost:8080/"
        },
        "id": "koPTNlZne2xl",
        "outputId": "5ef0c564-a12f-44d9-bfb6-988e60d94a75"
      },
      "execution_count": null,
      "outputs": [
        {
          "output_type": "stream",
          "name": "stdout",
          "text": [
            "Utilitarianism\n",
            "a\n",
            "emphasis\n",
            "good\n",
            "greater\n",
            "individual.\n",
            "is\n",
            "of\n",
            "on\n",
            "places\n",
            "rather\n",
            "school\n",
            "than\n",
            "that\n",
            "the\n",
            "the\n",
            "thought\n"
          ]
        }
      ]
    },
    {
      "cell_type": "code",
      "source": [
        "s = \"abc\"\n",
        "\n",
        "len(s)"
      ],
      "metadata": {
        "colab": {
          "base_uri": "https://localhost:8080/"
        },
        "id": "3SEBVaclhiS0",
        "outputId": "677bbb4f-93a1-4046-f693-1c8a542be412"
      },
      "execution_count": null,
      "outputs": [
        {
          "output_type": "execute_result",
          "data": {
            "text/plain": [
              "3"
            ]
          },
          "metadata": {},
          "execution_count": 93
        }
      ]
    },
    {
      "cell_type": "code",
      "source": [],
      "metadata": {
        "id": "x43b7yXbiWcq"
      },
      "execution_count": null,
      "outputs": []
    }
  ]
}

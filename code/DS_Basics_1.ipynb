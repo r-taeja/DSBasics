{
  "nbformat": 4,
  "nbformat_minor": 0,
  "metadata": {
    "colab": {
      "provenance": [],
      "authorship_tag": "ABX9TyMRG2EaIe5r2cDfqHSP8EH+"
    },
    "kernelspec": {
      "name": "python3",
      "display_name": "Python 3"
    },
    "language_info": {
      "name": "python"
    }
  },
  "cells": [
    {
      "cell_type": "markdown",
      "source": [
        "# Python Keywords\n",
        "\n",
        "Keywords are reserved words. They can't be used as a variable name, function name or any other identifier. They are also case-sensitive."
      ],
      "metadata": {
        "id": "FSwNnHxDtuMa"
      }
    },
    {
      "cell_type": "code",
      "execution_count": null,
      "metadata": {
        "colab": {
          "base_uri": "https://localhost:8080/"
        },
        "id": "gTdhywJktRkX",
        "outputId": "62ca886a-89d1-45b3-df30-8d163247268c"
      },
      "outputs": [
        {
          "output_type": "stream",
          "name": "stdout",
          "text": [
            "['False', 'None', 'True', 'and', 'as', 'assert', 'async', 'await', 'break', 'class', 'continue', 'def', 'del', 'elif', 'else', 'except', 'finally', 'for', 'from', 'global', 'if', 'import', 'in', 'is', 'lambda', 'nonlocal', 'not', 'or', 'pass', 'raise', 'return', 'try', 'while', 'with', 'yield']\n",
            "\n",
            "The total number of keywords in Python are : 35\n"
          ]
        }
      ],
      "source": [
        "import keyword\n",
        "\n",
        "print(keyword.kwlist)\n",
        "\n",
        "print(f\"\\nThe total number of keywords in Python are : {len(keyword.kwlist)}\")"
      ]
    },
    {
      "cell_type": "markdown",
      "source": [
        "# Python Identifiers\n",
        "\n",
        "Identifiers are words used to name entities like functions, variables and classes, thereby helping to differentiate them. They can:\n",
        "\n",
        "* be a combination of upper case alphabets (A-Z), lower case alphabets (a-z), underscore and numbers (1-9)\n",
        "* not begin with a number\n",
        "* not have a Python keyword\n",
        "* noy have any special characters (such as !, @, #, $, &, etc.)"
      ],
      "metadata": {
        "id": "oGvJkEngwHyE"
      }
    },
    {
      "cell_type": "code",
      "source": [
        "abc_12 = 3\n",
        "print(abc_12)"
      ],
      "metadata": {
        "colab": {
          "base_uri": "https://localhost:8080/"
        },
        "id": "2ly82tTPua47",
        "outputId": "2d363da2-248c-416a-9331-18be1026d4a9"
      },
      "execution_count": null,
      "outputs": [
        {
          "output_type": "stream",
          "name": "stdout",
          "text": [
            "3\n"
          ]
        }
      ]
    },
    {
      "cell_type": "code",
      "source": [
        "12abc = 3"
      ],
      "metadata": {
        "colab": {
          "base_uri": "https://localhost:8080/",
          "height": 105
        },
        "id": "jntgNeenxNB4",
        "outputId": "661ee11a-69b7-416c-a873-a143b553f835"
      },
      "execution_count": null,
      "outputs": [
        {
          "output_type": "error",
          "ename": "SyntaxError",
          "evalue": "invalid decimal literal (<ipython-input-4-f4264c063368>, line 1)",
          "traceback": [
            "\u001b[0;36m  File \u001b[0;32m\"<ipython-input-4-f4264c063368>\"\u001b[0;36m, line \u001b[0;32m1\u001b[0m\n\u001b[0;31m    12abc = 3\u001b[0m\n\u001b[0m     ^\u001b[0m\n\u001b[0;31mSyntaxError\u001b[0m\u001b[0;31m:\u001b[0m invalid decimal literal\n"
          ]
        }
      ]
    },
    {
      "cell_type": "code",
      "source": [
        "global = 2"
      ],
      "metadata": {
        "colab": {
          "base_uri": "https://localhost:8080/",
          "height": 105
        },
        "id": "zNe-j1j8xQSe",
        "outputId": "110235e9-156c-48a1-b28c-e6a961fbcd9e"
      },
      "execution_count": null,
      "outputs": [
        {
          "output_type": "error",
          "ename": "SyntaxError",
          "evalue": "invalid syntax (<ipython-input-5-f8e7e1d15b1b>, line 1)",
          "traceback": [
            "\u001b[0;36m  File \u001b[0;32m\"<ipython-input-5-f8e7e1d15b1b>\"\u001b[0;36m, line \u001b[0;32m1\u001b[0m\n\u001b[0;31m    global = 2\u001b[0m\n\u001b[0m           ^\u001b[0m\n\u001b[0;31mSyntaxError\u001b[0m\u001b[0;31m:\u001b[0m invalid syntax\n"
          ]
        }
      ]
    },
    {
      "cell_type": "code",
      "source": [
        "a& = 4"
      ],
      "metadata": {
        "colab": {
          "base_uri": "https://localhost:8080/",
          "height": 105
        },
        "id": "Z88ezqoExWpk",
        "outputId": "9419414a-f1bc-4fba-bbe1-ab1b68d9b4e2"
      },
      "execution_count": null,
      "outputs": [
        {
          "output_type": "error",
          "ename": "SyntaxError",
          "evalue": "invalid syntax (<ipython-input-6-535a38f2b23d>, line 1)",
          "traceback": [
            "\u001b[0;36m  File \u001b[0;32m\"<ipython-input-6-535a38f2b23d>\"\u001b[0;36m, line \u001b[0;32m1\u001b[0m\n\u001b[0;31m    a& = 4\u001b[0m\n\u001b[0m       ^\u001b[0m\n\u001b[0;31mSyntaxError\u001b[0m\u001b[0;31m:\u001b[0m invalid syntax\n"
          ]
        }
      ]
    },
    {
      "cell_type": "markdown",
      "source": [
        "# Variables\n",
        "\n",
        "A variable is a location in memory used to store some data.\n",
        "\n",
        "They are given unique names, with the rules of naming similar to identifiers.\n",
        "\n",
        "In Python, we do not have ot declare the data type of the variable before assigning data. It is handled internally."
      ],
      "metadata": {
        "id": "-6lblvqWxa0c"
      }
    },
    {
      "cell_type": "code",
      "source": [
        "a = 3\n",
        "\n",
        "b = 2\n",
        "\n",
        "c = 1\n",
        "\n",
        "d = e = f = \"stage\""
      ],
      "metadata": {
        "id": "BF1fWE46xZxZ"
      },
      "execution_count": null,
      "outputs": []
    },
    {
      "cell_type": "markdown",
      "source": [
        "# Storage Locations"
      ],
      "metadata": {
        "id": "NUqLzX-Wte-I"
      }
    },
    {
      "cell_type": "code",
      "source": [
        "x = 3\n",
        "\n",
        "print(id(x))"
      ],
      "metadata": {
        "colab": {
          "base_uri": "https://localhost:8080/"
        },
        "id": "UKZu2-tbtYV7",
        "outputId": "d50e0d99-5a0e-4ad3-ed6a-5751b1181e36"
      },
      "execution_count": null,
      "outputs": [
        {
          "output_type": "stream",
          "name": "stdout",
          "text": [
            "10750920\n"
          ]
        }
      ]
    },
    {
      "cell_type": "code",
      "source": [
        "y = 3\n",
        "\n",
        "print(id(y))"
      ],
      "metadata": {
        "colab": {
          "base_uri": "https://localhost:8080/"
        },
        "id": "hR6sQqDVtmGd",
        "outputId": "7d5a461e-aac1-47f2-fff4-f5c81e4832ef"
      },
      "execution_count": null,
      "outputs": [
        {
          "output_type": "stream",
          "name": "stdout",
          "text": [
            "10750920\n"
          ]
        }
      ]
    },
    {
      "cell_type": "markdown",
      "source": [
        "So, the observation is that x and y point to the same location. So, Python reuses memory locations."
      ],
      "metadata": {
        "id": "bkyxxd_Vtqde"
      }
    },
    {
      "cell_type": "code",
      "source": [
        "y = 2\n",
        "\n",
        "print(id(y))"
      ],
      "metadata": {
        "colab": {
          "base_uri": "https://localhost:8080/"
        },
        "id": "IKjw7u52tpTh",
        "outputId": "a451e61c-fd65-463b-f34c-9a1fb69f9406"
      },
      "execution_count": null,
      "outputs": [
        {
          "output_type": "stream",
          "name": "stdout",
          "text": [
            "10750888\n"
          ]
        }
      ]
    },
    {
      "cell_type": "markdown",
      "source": [
        "# Data Types\n",
        "\n",
        "Every value in Python has a data type. Since everything is an object in Python programming, data types are actually classes and variables are instances of these classes."
      ],
      "metadata": {
        "id": "YH0D4ljct75F"
      }
    },
    {
      "cell_type": "code",
      "source": [
        "a = 5\n",
        "\n",
        "print(f\"a is of type {type(a)}\")"
      ],
      "metadata": {
        "colab": {
          "base_uri": "https://localhost:8080/"
        },
        "id": "RuaI651at3Em",
        "outputId": "6feb10fc-68f8-4ad8-ce51-0b0b02f1e6fb"
      },
      "execution_count": null,
      "outputs": [
        {
          "output_type": "stream",
          "name": "stdout",
          "text": [
            "a is of type <class 'int'>\n"
          ]
        }
      ]
    },
    {
      "cell_type": "code",
      "source": [
        "b = 2.5\n",
        "\n",
        "print(f\"b is of type {type(b)}\")"
      ],
      "metadata": {
        "colab": {
          "base_uri": "https://localhost:8080/"
        },
        "id": "RF2Sgsjiug-K",
        "outputId": "2ddae2f1-42c7-4614-9ecf-116a9a395522"
      },
      "execution_count": null,
      "outputs": [
        {
          "output_type": "stream",
          "name": "stdout",
          "text": [
            "b is of type <class 'float'>\n"
          ]
        }
      ]
    },
    {
      "cell_type": "code",
      "source": [
        "c = 2 + 3j\n",
        "\n",
        "print(f\"c is of type {type(c)}\")"
      ],
      "metadata": {
        "colab": {
          "base_uri": "https://localhost:8080/"
        },
        "id": "P9mmOZlRumR2",
        "outputId": "17b601b6-773c-46ca-856e-d234e23a0815"
      },
      "execution_count": null,
      "outputs": [
        {
          "output_type": "stream",
          "name": "stdout",
          "text": [
            "c is of type <class 'complex'>\n"
          ]
        }
      ]
    },
    {
      "cell_type": "code",
      "source": [
        "d = True\n",
        "\n",
        "print(f\"d is of type {type(d)}\")"
      ],
      "metadata": {
        "colab": {
          "base_uri": "https://localhost:8080/"
        },
        "id": "cLGjxJ7ruqrB",
        "outputId": "b06872a7-3ff4-49f9-b2bf-b7ad464d143a"
      },
      "execution_count": null,
      "outputs": [
        {
          "output_type": "stream",
          "name": "stdout",
          "text": [
            "d is of type <class 'bool'>\n"
          ]
        }
      ]
    },
    {
      "cell_type": "code",
      "source": [],
      "metadata": {
        "id": "33Vni6tDuvx3"
      },
      "execution_count": null,
      "outputs": []
    },
    {
      "cell_type": "markdown",
      "source": [
        "# Python Strings\n",
        "\n",
        "A Python string is a sequence of unicode characters. We can use single quotes to represent strings. Multi-line strings can be represented using triple quotes ''' or \"\"\".\n",
        "\n",
        "Strings can be indexed (aka subscripted). Similar to C, the first character of a string has index 0."
      ],
      "metadata": {
        "id": "JFBCffT_u43Q"
      }
    },
    {
      "cell_type": "code",
      "source": [
        "s = \"This is a improving my Python basics and also doubles as interview prep.\"\n",
        "\n",
        "print(f\"s is of type {type(s)}\")"
      ],
      "metadata": {
        "colab": {
          "base_uri": "https://localhost:8080/"
        },
        "id": "NLoe5j3AvhfF",
        "outputId": "d5ff0eec-a14f-4b2b-aeae-aa64b9820c1d"
      },
      "execution_count": null,
      "outputs": [
        {
          "output_type": "stream",
          "name": "stdout",
          "text": [
            "s is of type <class 'str'>\n"
          ]
        }
      ]
    },
    {
      "cell_type": "code",
      "source": [
        "#print first and last character of string\n",
        "print(s[0])\n",
        "\n",
        "print(s[-1])\n",
        "\n",
        "print(s[len(s)-1])"
      ],
      "metadata": {
        "colab": {
          "base_uri": "https://localhost:8080/"
        },
        "id": "734epvu8vvbU",
        "outputId": "e76e1a98-5d12-46ff-a55e-6c4105774c2e"
      },
      "execution_count": null,
      "outputs": [
        {
          "output_type": "stream",
          "name": "stdout",
          "text": [
            "T\n",
            ".\n",
            ".\n"
          ]
        }
      ]
    },
    {
      "cell_type": "code",
      "source": [
        "#print everything from the 5th index of string\n",
        "print(s[5:])"
      ],
      "metadata": {
        "colab": {
          "base_uri": "https://localhost:8080/"
        },
        "id": "fWEEPv3gv0yV",
        "outputId": "49ce81e3-1dda-4170-bbbe-651ac426cd5d"
      },
      "execution_count": null,
      "outputs": [
        {
          "output_type": "stream",
          "name": "stdout",
          "text": [
            "is a improving my Python basics and also doubles as interview prep.\n"
          ]
        }
      ]
    },
    {
      "cell_type": "markdown",
      "source": [
        "# Python List\n",
        "\n",
        "List is an ordered sequence of items. It is one of the most used datatypes in Python and is very flexible. **All the items of a list need not be of the same data type**.\n",
        "\n",
        "In order to declare a list, you have the items inside square brackets separated by commas."
      ],
      "metadata": {
        "id": "O5gTU2fNwJIN"
      }
    },
    {
      "cell_type": "code",
      "source": [
        "a = [10, 20.5, \"Hello\"]\n",
        "\n",
        "print(a[0])\n",
        "\n",
        "print(a[1])\n",
        "\n",
        "print(a[2])"
      ],
      "metadata": {
        "colab": {
          "base_uri": "https://localhost:8080/"
        },
        "id": "pstdT_Kev5vz",
        "outputId": "429ff5c1-f8e7-424a-d0da-80f35844da98"
      },
      "execution_count": null,
      "outputs": [
        {
          "output_type": "stream",
          "name": "stdout",
          "text": [
            "10\n",
            "20.5\n",
            "Hello\n"
          ]
        }
      ]
    },
    {
      "cell_type": "markdown",
      "source": [
        "**Lists are mutable**, meaning, **the values of the elements of a list can be changed**."
      ],
      "metadata": {
        "id": "TVuZKlupwzPi"
      }
    },
    {
      "cell_type": "code",
      "source": [
        "a[1] = \"Bombogongo\"\n",
        "\n",
        "print(a)"
      ],
      "metadata": {
        "colab": {
          "base_uri": "https://localhost:8080/"
        },
        "id": "Rwq2FX-owsbU",
        "outputId": "ed4a4165-3af4-4cd8-af8c-0631a5bc33a4"
      },
      "execution_count": null,
      "outputs": [
        {
          "output_type": "stream",
          "name": "stdout",
          "text": [
            "[10, 'Bombogongo', 'Hello']\n"
          ]
        }
      ]
    },
    {
      "cell_type": "markdown",
      "source": [
        "# Python Tuple\n",
        "\n",
        "Tuple is an **ordered sequence of items**, just like a list. It can **hold elements of different data types**. It is declared using parantheses.\n",
        "\n",
        "The differenece between tuples and lists is that **tuples are immutable**. The elements of a tuple, once created, cannot be modified."
      ],
      "metadata": {
        "id": "_RPec5rOxI_a"
      }
    },
    {
      "cell_type": "code",
      "source": [
        "t = (1, 1.5, \"Bytesized\")\n",
        "\n",
        "print(f\"t is of type {type(t)}\")"
      ],
      "metadata": {
        "colab": {
          "base_uri": "https://localhost:8080/"
        },
        "id": "tE_XRN6jxHDu",
        "outputId": "53d3252b-cd8f-42ac-ab59-489cdaff70c6"
      },
      "execution_count": null,
      "outputs": [
        {
          "output_type": "stream",
          "name": "stdout",
          "text": [
            "t is of type <class 'tuple'>\n"
          ]
        }
      ]
    },
    {
      "cell_type": "code",
      "source": [
        "print(t[1])"
      ],
      "metadata": {
        "colab": {
          "base_uri": "https://localhost:8080/"
        },
        "id": "W6Tlbhvho9p4",
        "outputId": "6b5df188-c956-4ec3-9b02-fb64de3a1219"
      },
      "execution_count": null,
      "outputs": [
        {
          "output_type": "stream",
          "name": "stdout",
          "text": [
            "1.5\n"
          ]
        }
      ]
    },
    {
      "cell_type": "code",
      "source": [
        "t[1] = \"Beyhloo\""
      ],
      "metadata": {
        "colab": {
          "base_uri": "https://localhost:8080/",
          "height": 139
        },
        "id": "RjfALkuVpAXA",
        "outputId": "18707e90-316d-498e-a355-0ecd57d42785"
      },
      "execution_count": null,
      "outputs": [
        {
          "output_type": "error",
          "ename": "TypeError",
          "evalue": "'tuple' object does not support item assignment",
          "traceback": [
            "\u001b[0;31m---------------------------------------------------------------------------\u001b[0m",
            "\u001b[0;31mTypeError\u001b[0m                                 Traceback (most recent call last)",
            "\u001b[0;32m<ipython-input-3-5d53eb81eb6c>\u001b[0m in \u001b[0;36m<cell line: 0>\u001b[0;34m()\u001b[0m\n\u001b[0;32m----> 1\u001b[0;31m \u001b[0mt\u001b[0m\u001b[0;34m[\u001b[0m\u001b[0;36m1\u001b[0m\u001b[0;34m]\u001b[0m \u001b[0;34m=\u001b[0m \u001b[0;34m\"Beyhloo\"\u001b[0m\u001b[0;34m\u001b[0m\u001b[0;34m\u001b[0m\u001b[0m\n\u001b[0m",
            "\u001b[0;31mTypeError\u001b[0m: 'tuple' object does not support item assignment"
          ]
        }
      ]
    },
    {
      "cell_type": "markdown",
      "source": [
        "# Python Set\n",
        "\n",
        "Set is an **unordered collection of unique items**. It can hold elements of different data types. A set is declared by items seperated by commas inside curly braces { and }.\n",
        "\n",
        "The items in a set are not ordered.\n",
        "\n",
        "We can also perform set operations like union and intersection on two sets."
      ],
      "metadata": {
        "id": "dYe5_IfmpKIW"
      }
    },
    {
      "cell_type": "code",
      "source": [
        "s = {1, 2, 3, \"Hello\"}\n",
        "\n",
        "print(f\"s is of type {type(s)}\")"
      ],
      "metadata": {
        "colab": {
          "base_uri": "https://localhost:8080/"
        },
        "id": "qSF7dHwDpCgs",
        "outputId": "5f16613d-d180-4375-e956-8d25eae096c9"
      },
      "execution_count": null,
      "outputs": [
        {
          "output_type": "stream",
          "name": "stdout",
          "text": [
            "s is of type <class 'set'>\n"
          ]
        }
      ]
    },
    {
      "cell_type": "code",
      "source": [
        "#Set automatically does not consider duplicates.\n",
        "s = {10, 20, 20, 30, 30, 40, \"Hello\"}\n",
        "\n",
        "print(s)"
      ],
      "metadata": {
        "colab": {
          "base_uri": "https://localhost:8080/"
        },
        "id": "d-68RCbTpyTM",
        "outputId": "650e2b03-39f4-4eb7-ba73-ab8cdff92a59"
      },
      "execution_count": null,
      "outputs": [
        {
          "output_type": "stream",
          "name": "stdout",
          "text": [
            "{20, 'Hello', 40, 10, 30}\n"
          ]
        }
      ]
    },
    {
      "cell_type": "code",
      "source": [
        "#Set cannot be indexed because it is unordered. It cannot be indexed/subscripted.\n",
        "print(s[1])"
      ],
      "metadata": {
        "colab": {
          "base_uri": "https://localhost:8080/",
          "height": 156
        },
        "id": "E9aUSgw0qH47",
        "outputId": "24b2bf8f-aba0-455f-bb57-f1deed9d7119"
      },
      "execution_count": null,
      "outputs": [
        {
          "output_type": "error",
          "ename": "TypeError",
          "evalue": "'set' object is not subscriptable",
          "traceback": [
            "\u001b[0;31m---------------------------------------------------------------------------\u001b[0m",
            "\u001b[0;31mTypeError\u001b[0m                                 Traceback (most recent call last)",
            "\u001b[0;32m<ipython-input-7-2a0454d7c7d3>\u001b[0m in \u001b[0;36m<cell line: 0>\u001b[0;34m()\u001b[0m\n\u001b[1;32m      1\u001b[0m \u001b[0;31m#Set cannot be indexed because it is unordered.\u001b[0m\u001b[0;34m\u001b[0m\u001b[0;34m\u001b[0m\u001b[0m\n\u001b[0;32m----> 2\u001b[0;31m \u001b[0mprint\u001b[0m\u001b[0;34m(\u001b[0m\u001b[0ms\u001b[0m\u001b[0;34m[\u001b[0m\u001b[0;36m1\u001b[0m\u001b[0;34m]\u001b[0m\u001b[0;34m)\u001b[0m\u001b[0;34m\u001b[0m\u001b[0;34m\u001b[0m\u001b[0m\n\u001b[0m",
            "\u001b[0;31mTypeError\u001b[0m: 'set' object is not subscriptable"
          ]
        }
      ]
    },
    {
      "cell_type": "markdown",
      "source": [
        "# Python Dictionary\n",
        "\n",
        "A dictionary is an **unordered collection of key-value pairs**.\n",
        "\n",
        "Dictionaries are defined using curly braces { and }, with each element being a pair of the form key:value. The **key and the value can be of any data type**."
      ],
      "metadata": {
        "id": "GzEzW9P7qlaW"
      }
    },
    {
      "cell_type": "code",
      "source": [
        "d = {\"a\":\"Apple\", \"b\":\"Ball\", \"c\":\"cat\"}\n",
        "\n",
        "print(f\"d is of type {type(d)}\")"
      ],
      "metadata": {
        "colab": {
          "base_uri": "https://localhost:8080/"
        },
        "id": "QTiXGZnRqRnE",
        "outputId": "bf0b7c6d-ac05-481f-de80-10a2e48b52a8"
      },
      "execution_count": null,
      "outputs": [
        {
          "output_type": "stream",
          "name": "stdout",
          "text": [
            "d is of type <class 'dict'>\n"
          ]
        }
      ]
    },
    {
      "cell_type": "code",
      "source": [
        "print(d[\"a\"])"
      ],
      "metadata": {
        "colab": {
          "base_uri": "https://localhost:8080/"
        },
        "id": "eO78RUYAr6Ii",
        "outputId": "9f1ed14c-aabe-4e7c-ecc9-4e1737182909"
      },
      "execution_count": null,
      "outputs": [
        {
          "output_type": "stream",
          "name": "stdout",
          "text": [
            "Apple\n"
          ]
        }
      ]
    },
    {
      "cell_type": "code",
      "source": [
        "#If calling a key that does not exist in dictionary, it raises a KeyeError\n",
        "print(d[\"d\"])"
      ],
      "metadata": {
        "colab": {
          "base_uri": "https://localhost:8080/",
          "height": 156
        },
        "id": "BBgmRgstr8wq",
        "outputId": "ab7665a7-e304-4acc-8380-f55260404588"
      },
      "execution_count": null,
      "outputs": [
        {
          "output_type": "error",
          "ename": "KeyError",
          "evalue": "'d'",
          "traceback": [
            "\u001b[0;31m---------------------------------------------------------------------------\u001b[0m",
            "\u001b[0;31mKeyError\u001b[0m                                  Traceback (most recent call last)",
            "\u001b[0;32m<ipython-input-14-b1e1544a9654>\u001b[0m in \u001b[0;36m<cell line: 0>\u001b[0;34m()\u001b[0m\n\u001b[1;32m      1\u001b[0m \u001b[0;31m#If calling a key that does not exist in dictionary, it raises a KeyeError\u001b[0m\u001b[0;34m\u001b[0m\u001b[0;34m\u001b[0m\u001b[0m\n\u001b[0;32m----> 2\u001b[0;31m \u001b[0mprint\u001b[0m\u001b[0;34m(\u001b[0m\u001b[0md\u001b[0m\u001b[0;34m[\u001b[0m\u001b[0;34m\"d\"\u001b[0m\u001b[0;34m]\u001b[0m\u001b[0;34m)\u001b[0m\u001b[0;34m\u001b[0m\u001b[0;34m\u001b[0m\u001b[0m\n\u001b[0m",
            "\u001b[0;31mKeyError\u001b[0m: 'd'"
          ]
        }
      ]
    },
    {
      "cell_type": "markdown",
      "source": [
        "# Conversion between Datatypes\n",
        "\n",
        "We can convert between different Datatypes using different conversion functions like int(), float(), str() etc."
      ],
      "metadata": {
        "id": "Zd-1Z_OosLQF"
      }
    },
    {
      "cell_type": "code",
      "source": [
        "a = 50\n",
        "\n",
        "print(f\"a is of type {type(a)}\")\n",
        "\n",
        "b = float(a)\n",
        "\n",
        "print(f\"b is of type {type(b)}\")"
      ],
      "metadata": {
        "colab": {
          "base_uri": "https://localhost:8080/"
        },
        "id": "nBkwd_60sBwI",
        "outputId": "8214f2d0-0377-4854-8aad-67c849751846"
      },
      "execution_count": null,
      "outputs": [
        {
          "output_type": "stream",
          "name": "stdout",
          "text": [
            "a is of type <class 'int'>\n",
            "b is of type <class 'float'>\n"
          ]
        }
      ]
    },
    {
      "cell_type": "code",
      "source": [
        "a = 50\n",
        "\n",
        "print(f\"a is of type {type(a)}\")\n",
        "\n",
        "b = str(a)\n",
        "\n",
        "print(f\"b is of type {type(b)}\")"
      ],
      "metadata": {
        "colab": {
          "base_uri": "https://localhost:8080/"
        },
        "id": "bEK6q36BtCUM",
        "outputId": "3aa98210-89fe-4779-8a4e-320e7a927184"
      },
      "execution_count": null,
      "outputs": [
        {
          "output_type": "stream",
          "name": "stdout",
          "text": [
            "a is of type <class 'int'>\n",
            "b is of type <class 'str'>\n"
          ]
        }
      ]
    },
    {
      "cell_type": "markdown",
      "source": [
        "Conversion to and from a string must contain compatible values."
      ],
      "metadata": {
        "id": "Iot7-IbLuAZC"
      }
    },
    {
      "cell_type": "code",
      "source": [
        "a = \"50p\"\n",
        "\n",
        "print(f\"a is of type {type(a)}\")\n",
        "\n",
        "b = int(a)\n",
        "\n",
        "print(f\"b is of type {type(b)}\")\n",
        "\n",
        "print(b)"
      ],
      "metadata": {
        "colab": {
          "base_uri": "https://localhost:8080/",
          "height": 224
        },
        "id": "SmhF5kqHt2H8",
        "outputId": "34f81139-864f-463b-afb0-d2a808fa5151"
      },
      "execution_count": null,
      "outputs": [
        {
          "output_type": "stream",
          "name": "stdout",
          "text": [
            "a is of type <class 'str'>\n"
          ]
        },
        {
          "output_type": "error",
          "ename": "ValueError",
          "evalue": "invalid literal for int() with base 10: '50p'",
          "traceback": [
            "\u001b[0;31m---------------------------------------------------------------------------\u001b[0m",
            "\u001b[0;31mValueError\u001b[0m                                Traceback (most recent call last)",
            "\u001b[0;32m<ipython-input-29-76f6a6a91788>\u001b[0m in \u001b[0;36m<cell line: 0>\u001b[0;34m()\u001b[0m\n\u001b[1;32m      3\u001b[0m \u001b[0mprint\u001b[0m\u001b[0;34m(\u001b[0m\u001b[0;34mf\"a is of type {type(a)}\"\u001b[0m\u001b[0;34m)\u001b[0m\u001b[0;34m\u001b[0m\u001b[0;34m\u001b[0m\u001b[0m\n\u001b[1;32m      4\u001b[0m \u001b[0;34m\u001b[0m\u001b[0m\n\u001b[0;32m----> 5\u001b[0;31m \u001b[0mb\u001b[0m \u001b[0;34m=\u001b[0m \u001b[0mint\u001b[0m\u001b[0;34m(\u001b[0m\u001b[0ma\u001b[0m\u001b[0;34m)\u001b[0m\u001b[0;34m\u001b[0m\u001b[0;34m\u001b[0m\u001b[0m\n\u001b[0m\u001b[1;32m      6\u001b[0m \u001b[0;34m\u001b[0m\u001b[0m\n\u001b[1;32m      7\u001b[0m \u001b[0mprint\u001b[0m\u001b[0;34m(\u001b[0m\u001b[0;34mf\"b is of type {type(b)}\"\u001b[0m\u001b[0;34m)\u001b[0m\u001b[0;34m\u001b[0m\u001b[0;34m\u001b[0m\u001b[0m\n",
            "\u001b[0;31mValueError\u001b[0m: invalid literal for int() with base 10: '50p'"
          ]
        }
      ]
    },
    {
      "cell_type": "code",
      "source": [
        "a = \"50\"\n",
        "\n",
        "print(f\"a is of type {type(a)}\")\n",
        "\n",
        "b = float(a)\n",
        "\n",
        "print(f\"b is of type {type(b)}\")\n",
        "\n",
        "print(b)"
      ],
      "metadata": {
        "colab": {
          "base_uri": "https://localhost:8080/"
        },
        "id": "YJuhz5RxtwlO",
        "outputId": "9d1830da-7ab9-47de-bd55-81112998a915"
      },
      "execution_count": null,
      "outputs": [
        {
          "output_type": "stream",
          "name": "stdout",
          "text": [
            "a is of type <class 'str'>\n",
            "b is of type <class 'float'>\n",
            "50.0\n"
          ]
        }
      ]
    },
    {
      "cell_type": "code",
      "source": [
        "user = \"Rohit\"\n",
        "lines = 100\n",
        "\n",
        "print(f\"Conragulations {user}! You just wrote {str(lines)} lines of code.\")"
      ],
      "metadata": {
        "colab": {
          "base_uri": "https://localhost:8080/"
        },
        "id": "Vkwq_qARuH63",
        "outputId": "bf20071a-4d81-4ac0-bed2-701b504d2055"
      },
      "execution_count": null,
      "outputs": [
        {
          "output_type": "stream",
          "name": "stdout",
          "text": [
            "Conragulations Rohit! You just wrote 100 lines of code.\n"
          ]
        }
      ]
    },
    {
      "cell_type": "markdown",
      "source": [
        "We can also convert one sequence to another."
      ],
      "metadata": {
        "id": "god7_ZTGvDN4"
      }
    },
    {
      "cell_type": "code",
      "source": [
        "a = [1, 2, 3, 4, 5, \"Hello\", 9.54]\n",
        "\n",
        "print(f\"a is of type {type(a)}\")\n",
        "\n",
        "s = set(a)\n",
        "\n",
        "print(f\"s is of type {type(s)}\")"
      ],
      "metadata": {
        "colab": {
          "base_uri": "https://localhost:8080/"
        },
        "id": "tmWXdEpOufE7",
        "outputId": "1cb7c52e-e981-4f0c-a9d2-659615aa248e"
      },
      "execution_count": null,
      "outputs": [
        {
          "output_type": "stream",
          "name": "stdout",
          "text": [
            "a is of type <class 'list'>\n",
            "s is of type <class 'set'>\n"
          ]
        }
      ]
    },
    {
      "cell_type": "code",
      "source": [
        "a = \"Hello\"\n",
        "\n",
        "print(list(a))"
      ],
      "metadata": {
        "colab": {
          "base_uri": "https://localhost:8080/"
        },
        "id": "NGd8I5IDvRNH",
        "outputId": "98e74e63-b7af-4eff-8584-2991c08347d4"
      },
      "execution_count": null,
      "outputs": [
        {
          "output_type": "stream",
          "name": "stdout",
          "text": [
            "['H', 'e', 'l', 'l', 'o']\n"
          ]
        }
      ]
    },
    {
      "cell_type": "markdown",
      "source": [
        "# Python Input and Output\n",
        "\n",
        "If you want to output something, you use print(). If you want to take some input from the user, you use input()."
      ],
      "metadata": {
        "id": "tzHfP5epXrqV"
      }
    },
    {
      "cell_type": "code",
      "source": [
        "a = \"sunny\"\n",
        "\n",
        "print(f\"Today is very very {a}\")"
      ],
      "metadata": {
        "colab": {
          "base_uri": "https://localhost:8080/"
        },
        "id": "TjP-iqxTvUef",
        "outputId": "7fbbe079-7f9e-48bb-aea3-5731efd20068"
      },
      "execution_count": null,
      "outputs": [
        {
          "output_type": "stream",
          "name": "stdout",
          "text": [
            "Today is very very sunny\n"
          ]
        }
      ]
    },
    {
      "cell_type": "code",
      "source": [
        "b = input(\"Enter an adjective: \")\n",
        "\n",
        "print(f\"You are {b}.\")"
      ],
      "metadata": {
        "colab": {
          "base_uri": "https://localhost:8080/"
        },
        "id": "Y59_EMxGX7X4",
        "outputId": "13c8a7e4-f1f7-4619-8c72-b8c424a0bfc7"
      },
      "execution_count": null,
      "outputs": [
        {
          "output_type": "stream",
          "name": "stdout",
          "text": [
            "Enter an adjective: kind\n",
            "You are kind.\n"
          ]
        }
      ]
    },
    {
      "cell_type": "markdown",
      "source": [
        "# Operators\n",
        "\n",
        "Operators are special symbols used to carry out arithematic and logical computations.\n",
        "\n",
        "# Operator Types\n",
        "\n",
        "*   Arithematic (+, -,  *, /, //, %, **)\n",
        "*   Comparison (>, <, ==, !=, >=, <=)\n",
        "*   Logical (AND, OR, NOT)\n",
        "*   Bitwise (&, |, -, ^, >>, <<)\n",
        "*   Assignment (=, +=, -=, \\*=, /=, %=, //=, **=, &=, |=, ^=, >>=, <<=)\n",
        "*   Special (is, is not, in, not in)"
      ],
      "metadata": {
        "id": "j9R0TzWFaPgP"
      }
    },
    {
      "cell_type": "markdown",
      "source": [
        "# Python If ... Else Statement\n",
        "\n",
        "The if... elif ... else statement in Python is used for decision making.\n",
        "\n",
        "\n",
        "    if test expression:\n",
        "\n",
        "        Body of if\n",
        "    elif test expression:\n",
        "\n",
        "        Body of elif\n",
        "\n",
        "    else:\n",
        "        Body of else\n",
        "\n",
        "The program evaluvates the test expressions and will execute the Body only if the respective test expression is true. If the test expression is false, the statement is not executed.\n",
        "\n",
        "**If the test expression is just a 0, None or False, the test expression is considered to be False. Everything else is considered to be True.**\n"
      ],
      "metadata": {
        "id": "Wzi4h7cAdYsz"
      }
    },
    {
      "cell_type": "markdown",
      "source": [
        "# Python while Loop\n",
        "\n",
        "The while loop in Python is used to iterate over a block of code as long as the test expression (condition) is True.\n",
        "\n",
        "      while test_expression:\n",
        "\n",
        "          Body of while\n",
        "\n",
        "The body of the while loop is entered only if the test_expression evaluates to True. After one iteration, the test_expression is checked again.\n",
        "\n",
        "# while Loop with else\n",
        "\n",
        "Similar to the of for loop, we can have an additional else statement in the while loop. The else part is executed if the test_statement in the while loop evaluates to False.\n",
        "\n",
        "The while loop can be terminated with a break statement. In such cases, the else part is ignored. Hence, the else part of a while loop runs if the test_condition in the while loop evaluates to False and there is no break statement."
      ],
      "metadata": {
        "id": "nNpmLVrifOzk"
      }
    },
    {
      "cell_type": "markdown",
      "source": [
        "# Python for Loop\n",
        "\n",
        "The for loop in Python is used to iterate over a list or a sequence(list, tuple, string) or other iterable objects. Iterating over a sequence is called traversal.\n",
        "\n",
        "        for element in sequence:\n",
        "\n",
        "            Body of for\n",
        "\n",
        "Here, element is the variable that takes the value of the item inside the sequence of each iteration. The loop continues till we reach the last item in the sequence.\n",
        "\n",
        "# range() function\n",
        "\n",
        "We can generate a sequence of numbers using the range() function. range(10) will generate numbers starting from 0 to 9 (10 numbers).\n",
        "\n",
        "We can also define the start, stop and stepsize as range(start, stop, stepsize). Step size defaults to 1 if not provided.\n",
        "\n",
        "**This function does not store all the values in memory, since it would be inefficient.** So, it remembers the start, stop and stepsize and generates the next number on the go."
      ],
      "metadata": {
        "id": "96B_uHfUlKkY"
      }
    },
    {
      "cell_type": "markdown",
      "source": [
        "# Python break and continue Statements\n",
        "\n",
        "In Python, break and continue statements can alter the flow of a normal loop.\n",
        "\n",
        "If we wish to terminate the current iteration or even the whole loop without testing the test expression, the break and continue statements are used."
      ],
      "metadata": {
        "id": "wnJi6PnUpVjK"
      }
    },
    {
      "cell_type": "code",
      "source": [],
      "metadata": {
        "id": "-hqNHrQnkOz2"
      },
      "execution_count": null,
      "outputs": []
    }
  ]
}

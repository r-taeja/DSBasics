{
  "nbformat": 4,
  "nbformat_minor": 0,
  "metadata": {
    "colab": {
      "provenance": [],
      "authorship_tag": "ABX9TyP2GG17uw0jXQRdYatH3niA"
    },
    "kernelspec": {
      "name": "python3",
      "display_name": "Python 3"
    },
    "language_info": {
      "name": "python"
    }
  },
  "cells": [
    {
      "cell_type": "markdown",
      "source": [
        "#Functions\n",
        "\n",
        "Functions are a group of related statements that perform a specific task.\n",
        "\n",
        "Functions help break our program into small and modular chunks. As our programs grow larger and larger, functions help make them more managable and organised.\n",
        "\n",
        "It avoids repetition and makes code reusable.\n",
        "\n",
        "#Syntax\n",
        "\n",
        "    def dunction_name(parameters):\n",
        "        \"\"\"\n",
        "        DOC STRING\n",
        "        \"\"\"\n",
        "\n",
        "        Statement(s)\n",
        "\n",
        "\n",
        "\n",
        "1. Keyword \"def\" marks the start of the function\n",
        "2. Parameters (arguments) through which we pass values to the function. These are optional.\n",
        "3. A colon to mark the end of the function header.\n",
        "4. Doc string to describe what the function does. This is good programming practice and while optional, should be used.\n",
        "5. \"return\" statement to return a value from the function. This is optional.\n",
        "\n"
      ],
      "metadata": {
        "id": "HawzShwz-JPv"
      }
    },
    {
      "cell_type": "markdown",
      "source": [
        "#Example"
      ],
      "metadata": {
        "id": "CcE4O0jN_bic"
      }
    },
    {
      "cell_type": "code",
      "execution_count": null,
      "metadata": {
        "id": "onNuFnOW-GKX"
      },
      "outputs": [],
      "source": [
        "def print_name(name):\n",
        "  \"\"\"\n",
        "  This function prints your name.\n",
        "  \"\"\"\n",
        "\n",
        "  print(f\"Hello {str(name)}!\")"
      ]
    },
    {
      "cell_type": "markdown",
      "source": [
        "#Function Call\n",
        "\n",
        "Once we have defined a function, we can call it from anywhere."
      ],
      "metadata": {
        "id": "5qhwX8vk_v-4"
      }
    },
    {
      "cell_type": "code",
      "source": [
        "print_name('Rohit')"
      ],
      "metadata": {
        "colab": {
          "base_uri": "https://localhost:8080/"
        },
        "id": "Ns1oIXzd_qYg",
        "outputId": "0c08e822-d2d6-4bd7-a98c-86090a24695f"
      },
      "execution_count": null,
      "outputs": [
        {
          "output_type": "stream",
          "name": "stdout",
          "text": [
            "Hello Rohit!\n"
          ]
        }
      ]
    },
    {
      "cell_type": "markdown",
      "source": [
        "#DOC String\n",
        "\n",
        "The first string after the function header is called the doc string. It is short for documentation string.\n",
        "\n",
        "Although optional, documentation is good programming practice. Always document your code.\n",
        "\n",
        "DOC String will be written in triple quotes so that docstring can extend up to multiple lines."
      ],
      "metadata": {
        "id": "Pz570HAI_7Hq"
      }
    },
    {
      "cell_type": "code",
      "source": [
        "print(print_name.__doc__)"
      ],
      "metadata": {
        "colab": {
          "base_uri": "https://localhost:8080/"
        },
        "id": "R5xQxssB_6F2",
        "outputId": "d2ca4a6f-530f-4184-b42b-ccd3686ba4a4"
      },
      "execution_count": null,
      "outputs": [
        {
          "output_type": "stream",
          "name": "stdout",
          "text": [
            "\n",
            "  This function prints your name.\n",
            "  \n"
          ]
        }
      ]
    },
    {
      "cell_type": "markdown",
      "source": [
        "#return Statement\n",
        "\n",
        "return statement is used to exit a function and go back to the place from where it was called.\n",
        "\n",
        "#Syntax:\n",
        "\n",
        "    return (expression)\n",
        "\n",
        "return statement can contain an expression which gets evaluated and the value is returned.\n",
        "\n",
        "if there is no expression in the statement or the return statement is not present inside a function, the function will return a None object."
      ],
      "metadata": {
        "id": "N9xvgSltAfD7"
      }
    },
    {
      "cell_type": "code",
      "source": [
        "def get_sum(list):\n",
        "  \"\"\"\n",
        "  This function returns the sum of all numbers in a list.\n",
        "  \"\"\"\n",
        "\n",
        "  #initialise\n",
        "  _sum = 0\n",
        "\n",
        "  #iterating over list\n",
        "  for num in list:\n",
        "    _sum += num\n",
        "\n",
        "  return _sum"
      ],
      "metadata": {
        "id": "3Rpc79q0AYa-"
      },
      "execution_count": null,
      "outputs": []
    },
    {
      "cell_type": "code",
      "source": [
        "s = get_sum([1, 2, 3, 4, 5])\n",
        "print(s)"
      ],
      "metadata": {
        "colab": {
          "base_uri": "https://localhost:8080/"
        },
        "id": "ambSw9csBlEF",
        "outputId": "b6378cae-a79f-40fc-a428-21c188f1bb94"
      },
      "execution_count": null,
      "outputs": [
        {
          "output_type": "stream",
          "name": "stdout",
          "text": [
            "15\n"
          ]
        }
      ]
    },
    {
      "cell_type": "code",
      "source": [
        "print(get_sum.__doc__)"
      ],
      "metadata": {
        "colab": {
          "base_uri": "https://localhost:8080/"
        },
        "id": "f0POeKSrBr0v",
        "outputId": "3c0a55f4-43bf-440f-ba9f-c04e9737ee5b"
      },
      "execution_count": null,
      "outputs": [
        {
          "output_type": "stream",
          "name": "stdout",
          "text": [
            "\n",
            "  This function returns the sum of all numbers in a list.\n",
            "  \n"
          ]
        }
      ]
    },
    {
      "cell_type": "markdown",
      "source": [
        "#Scope and lifetime of Variables\n",
        "\n",
        "1. Scope of a variable is the portion of the program where the variable is recognised.\n",
        "2. Variables defined inside a function is not visible from the outside. Hence, they have local scope.\n",
        "3. Lifetime of a variable is the time throughout which the variable exists in the memory.\n",
        "4. The lifetime of a variable defined inside a function is as long as the function executes.\n",
        "5. Variables are destroyed once we return from a function.\n",
        "\n",
        "#Example"
      ],
      "metadata": {
        "id": "uvoIV1iSC6bb"
      }
    },
    {
      "cell_type": "code",
      "source": [
        "global_var = \"This is a global variable\"\n",
        "\n",
        "def test_life_time():\n",
        "  \"\"\"\n",
        "  This function tests the lifetime of variables.\n",
        "  \"\"\"\n",
        "\n",
        "  local_var = \"This is a local variable\"\n",
        "\n",
        "  print(local_var)\n",
        "  print(global_var)\n",
        "\n",
        "\n",
        "#calling test function\n",
        "test_life_time()\n",
        "\n",
        "#calling variables outside the function\n",
        "print(local_var)\n",
        "print(global_var)"
      ],
      "metadata": {
        "colab": {
          "base_uri": "https://localhost:8080/",
          "height": 224
        },
        "id": "5Jqsd3zzCDhM",
        "outputId": "15d19506-23d8-4910-ec2f-ae6b7a0335b4"
      },
      "execution_count": null,
      "outputs": [
        {
          "output_type": "stream",
          "name": "stdout",
          "text": [
            "This is a local variable\n",
            "This is a global variable\n"
          ]
        },
        {
          "output_type": "error",
          "ename": "NameError",
          "evalue": "name 'local_var' is not defined",
          "traceback": [
            "\u001b[0;31m---------------------------------------------------------------------------\u001b[0m",
            "\u001b[0;31mNameError\u001b[0m                                 Traceback (most recent call last)",
            "\u001b[0;32m<ipython-input-14-1a99f85c714f>\u001b[0m in \u001b[0;36m<cell line: 0>\u001b[0;34m()\u001b[0m\n\u001b[1;32m     16\u001b[0m \u001b[0;34m\u001b[0m\u001b[0m\n\u001b[1;32m     17\u001b[0m \u001b[0;31m#calling variables outside the function\u001b[0m\u001b[0;34m\u001b[0m\u001b[0;34m\u001b[0m\u001b[0m\n\u001b[0;32m---> 18\u001b[0;31m \u001b[0mprint\u001b[0m\u001b[0;34m(\u001b[0m\u001b[0mlocal_var\u001b[0m\u001b[0;34m)\u001b[0m\u001b[0;34m\u001b[0m\u001b[0;34m\u001b[0m\u001b[0m\n\u001b[0m\u001b[1;32m     19\u001b[0m \u001b[0mprint\u001b[0m\u001b[0;34m(\u001b[0m\u001b[0mglobal_var\u001b[0m\u001b[0;34m)\u001b[0m\u001b[0;34m\u001b[0m\u001b[0;34m\u001b[0m\u001b[0m\n",
            "\u001b[0;31mNameError\u001b[0m: name 'local_var' is not defined"
          ]
        }
      ]
    },
    {
      "cell_type": "markdown",
      "source": [
        "#Python Program to Print HCF of Two Numbers"
      ],
      "metadata": {
        "id": "ruBq9GedF3e_"
      }
    },
    {
      "cell_type": "code",
      "source": [
        "def computeHCF(a, b):\n",
        "  \"\"\"\n",
        "  This program computes the HCF of two numbers.\n",
        "  \"\"\"\n",
        "\n",
        "  #smaller of the two numbers\n",
        "  smaller = b if b < a else a\n",
        "\n",
        "  #initialise\n",
        "  hcf = 1\n",
        "\n",
        "  #loop through factors\n",
        "  for i in range(1, smaller+1):\n",
        "      if (a % i == 0) and (b % i == 0):\n",
        "          hcf = i\n",
        "\n",
        "  return hcf"
      ],
      "metadata": {
        "id": "8vXIyoP3FyNF"
      },
      "execution_count": null,
      "outputs": []
    },
    {
      "cell_type": "code",
      "source": [
        "num1 = 98\n",
        "num2 = 78\n",
        "\n",
        "print(f\"The HCF of {num1} and {num2} is {computeHCF(num1, num2)}.\")"
      ],
      "metadata": {
        "colab": {
          "base_uri": "https://localhost:8080/"
        },
        "id": "oONMk8o6HAI8",
        "outputId": "dacc7e29-42d5-42fa-92de-9f7052b8b669"
      },
      "execution_count": null,
      "outputs": [
        {
          "output_type": "stream",
          "name": "stdout",
          "text": [
            "The HCF of 98 and 78 is 2.\n"
          ]
        }
      ]
    },
    {
      "cell_type": "markdown",
      "source": [
        "#Type of Functions\n",
        "\n",
        "1. Built-in Fucntions\n",
        "2. User-defined Functions"
      ],
      "metadata": {
        "id": "2ajjRvdHHisA"
      }
    },
    {
      "cell_type": "markdown",
      "source": [
        "#Built-in Functions"
      ],
      "metadata": {
        "id": "ge7PZHd3HqCk"
      }
    },
    {
      "cell_type": "markdown",
      "source": [
        "# 1. abs()\n"
      ],
      "metadata": {
        "id": "tr8c_INyHxqE"
      }
    },
    {
      "cell_type": "code",
      "source": [
        "#find the absolute value\n",
        "num = -100\n",
        "print(abs(num))"
      ],
      "metadata": {
        "colab": {
          "base_uri": "https://localhost:8080/"
        },
        "id": "4RoSONJ3HIsh",
        "outputId": "b2d4e9e4-6cf5-47da-9e74-773c88cf7a4d"
      },
      "execution_count": null,
      "outputs": [
        {
          "output_type": "stream",
          "name": "stdout",
          "text": [
            "100\n"
          ]
        }
      ]
    },
    {
      "cell_type": "markdown",
      "source": [
        "#2. all()\n",
        "\n",
        "It returns value of all() function.\n",
        "* True : If all elements in an iterable are true.\n",
        "* False : If any element in an iterable is False."
      ],
      "metadata": {
        "id": "b3Gr5bCbH7ty"
      }
    },
    {
      "cell_type": "code",
      "source": [
        "lst = [1, 2, 3, 4, 5, 6]\n",
        "print(all(lst))"
      ],
      "metadata": {
        "colab": {
          "base_uri": "https://localhost:8080/"
        },
        "id": "OT6oafV_H6xx",
        "outputId": "09ccea6a-06fd-4d67-907e-ae5564e9253f"
      },
      "execution_count": null,
      "outputs": [
        {
          "output_type": "stream",
          "name": "stdout",
          "text": [
            "True\n"
          ]
        }
      ]
    },
    {
      "cell_type": "code",
      "source": [
        "lst = [0, 1, 2, 3]          #0 present in list.\n",
        "print(all(lst))"
      ],
      "metadata": {
        "colab": {
          "base_uri": "https://localhost:8080/"
        },
        "id": "a-lUBxiVIZCZ",
        "outputId": "4f6bd7bd-f197-45a4-be87-0559efcd5fb6"
      },
      "execution_count": null,
      "outputs": [
        {
          "output_type": "stream",
          "name": "stdout",
          "text": [
            "False\n"
          ]
        }
      ]
    },
    {
      "cell_type": "code",
      "source": [
        "lst = []                    #empty list is always True.\n",
        "print(all(lst))"
      ],
      "metadata": {
        "colab": {
          "base_uri": "https://localhost:8080/"
        },
        "id": "l1Q7FprfIbve",
        "outputId": "0b297e81-c8a9-4116-edfd-f58b1aa0ddbb"
      },
      "execution_count": null,
      "outputs": [
        {
          "output_type": "stream",
          "name": "stdout",
          "text": [
            "True\n"
          ]
        }
      ]
    },
    {
      "cell_type": "code",
      "source": [
        "lst = [False, 3, 1]\n",
        "print(all(lst))"
      ],
      "metadata": {
        "colab": {
          "base_uri": "https://localhost:8080/"
        },
        "id": "86cUDyH0Iu69",
        "outputId": "562c819a-627c-4e66-fcfe-0a8985f9db5f"
      },
      "execution_count": null,
      "outputs": [
        {
          "output_type": "stream",
          "name": "stdout",
          "text": [
            "False\n"
          ]
        }
      ]
    },
    {
      "cell_type": "code",
      "source": [
        "lst = [\"False\", 3, 1]      #String False is not Boolean False. It is considered True.\n",
        "print(all(lst))"
      ],
      "metadata": {
        "id": "iqmJ0wE8I1IN"
      },
      "execution_count": null,
      "outputs": []
    },
    {
      "cell_type": "markdown",
      "source": [
        "#3. dir()\n",
        "\n",
        "The dir() tries to return a list of valid attributes of the object.\n",
        "\n",
        "If the object doesn't have dir() method, this method tries to find attribute from the dict attribute (if defined), and from type object. IIn this case, the list returned from the dir() object may not be complete."
      ],
      "metadata": {
        "id": "ZgO2IQPOJBLq"
      }
    },
    {
      "cell_type": "code",
      "source": [
        "numbers = [1, 2, 3]\n",
        "\n",
        "print(dir(computeHCF))"
      ],
      "metadata": {
        "colab": {
          "base_uri": "https://localhost:8080/"
        },
        "id": "WvDz5W-fJ7b3",
        "outputId": "cdca347c-0d3c-4ae3-fa3a-856e7733b81c"
      },
      "execution_count": null,
      "outputs": [
        {
          "output_type": "stream",
          "name": "stdout",
          "text": [
            "['__annotations__', '__builtins__', '__call__', '__class__', '__closure__', '__code__', '__defaults__', '__delattr__', '__dict__', '__dir__', '__doc__', '__eq__', '__format__', '__ge__', '__get__', '__getattribute__', '__getstate__', '__globals__', '__gt__', '__hash__', '__init__', '__init_subclass__', '__kwdefaults__', '__le__', '__lt__', '__module__', '__name__', '__ne__', '__new__', '__qualname__', '__reduce__', '__reduce_ex__', '__repr__', '__setattr__', '__sizeof__', '__str__', '__subclasshook__']\n"
          ]
        }
      ]
    },
    {
      "cell_type": "code",
      "source": [
        "print(dir(numbers))"
      ],
      "metadata": {
        "colab": {
          "base_uri": "https://localhost:8080/"
        },
        "id": "7flmr4YOJ_Hi",
        "outputId": "9459763d-5fe6-4a92-af59-61eb0182392c"
      },
      "execution_count": null,
      "outputs": [
        {
          "output_type": "stream",
          "name": "stdout",
          "text": [
            "['__add__', '__class__', '__class_getitem__', '__contains__', '__delattr__', '__delitem__', '__dir__', '__doc__', '__eq__', '__format__', '__ge__', '__getattribute__', '__getitem__', '__getstate__', '__gt__', '__hash__', '__iadd__', '__imul__', '__init__', '__init_subclass__', '__iter__', '__le__', '__len__', '__lt__', '__mul__', '__ne__', '__new__', '__reduce__', '__reduce_ex__', '__repr__', '__reversed__', '__rmul__', '__setattr__', '__setitem__', '__sizeof__', '__str__', '__subclasshook__', 'append', 'clear', 'copy', 'count', 'extend', 'index', 'insert', 'pop', 'remove', 'reverse', 'sort']\n"
          ]
        }
      ]
    },
    {
      "cell_type": "markdown",
      "source": [
        "#4. divmod()\n",
        "\n",
        "The divmod() method takes two numbers and returns a pair of numbers (a tuple) consitsting of thei rquotient and reminder."
      ],
      "metadata": {
        "id": "hHYvOL1BKuuW"
      }
    },
    {
      "cell_type": "code",
      "source": [
        "print(divmod(9, 2))"
      ],
      "metadata": {
        "colab": {
          "base_uri": "https://localhost:8080/"
        },
        "id": "bJ9LT_jqKMa7",
        "outputId": "243e7922-540c-4173-b0f5-f7a76769e3b7"
      },
      "execution_count": null,
      "outputs": [
        {
          "output_type": "stream",
          "name": "stdout",
          "text": [
            "(4, 1)\n"
          ]
        }
      ]
    },
    {
      "cell_type": "code",
      "source": [
        "print(divmod.__doc__)"
      ],
      "metadata": {
        "colab": {
          "base_uri": "https://localhost:8080/"
        },
        "id": "e6ItmVvcLDR1",
        "outputId": "6e8ec637-ca59-465a-ce74-049a3065aee3"
      },
      "execution_count": null,
      "outputs": [
        {
          "output_type": "stream",
          "name": "stdout",
          "text": [
            "Return the tuple (x//y, x%y).  Invariant: div*y + mod == x.\n"
          ]
        }
      ]
    },
    {
      "cell_type": "markdown",
      "source": [
        "#5. enumerate()\n",
        "\n",
        "The enumerate method adds a counter to an iterable and returns it."
      ],
      "metadata": {
        "id": "XpUTaUYELSYr"
      }
    },
    {
      "cell_type": "code",
      "source": [
        "numbers = [10, 20, 30, 40, 50]\n",
        "\n",
        "for index, value in enumerate(numbers, start = 5):        #change start value to start with different index.\n",
        "  print(f\"Index {index} has value {value}.\")"
      ],
      "metadata": {
        "colab": {
          "base_uri": "https://localhost:8080/"
        },
        "id": "AVajWAXYLGSB",
        "outputId": "bc725611-d007-4419-9078-6ef9a407c4f9"
      },
      "execution_count": null,
      "outputs": [
        {
          "output_type": "stream",
          "name": "stdout",
          "text": [
            "Index 5 has value 10.\n",
            "Index 6 has value 20.\n",
            "Index 7 has value 30.\n",
            "Index 8 has value 40.\n",
            "Index 9 has value 50.\n"
          ]
        }
      ]
    },
    {
      "cell_type": "markdown",
      "source": [
        "#6. filter()\n",
        "\n",
        "The filter() method constructs an iterator from elements of an iterable for which a function rerturns True."
      ],
      "metadata": {
        "id": "h-v4uJLsMJJq"
      }
    },
    {
      "cell_type": "code",
      "source": [
        "def find_positive_number(num):\n",
        "  \"\"\"\n",
        "  This function returns the number if num is positive.\n",
        "  \"\"\"\n",
        "\n",
        "  if num > 0:\n",
        "    return num"
      ],
      "metadata": {
        "id": "WL93dbOxLxZo"
      },
      "execution_count": null,
      "outputs": []
    },
    {
      "cell_type": "code",
      "source": [
        "number_list = range(-10, 10)\n",
        "print(list(number_list))\n",
        "\n",
        "positive_num_list = list(filter(find_positive_number, number_list))\n",
        "print(positive_num_list)"
      ],
      "metadata": {
        "colab": {
          "base_uri": "https://localhost:8080/"
        },
        "id": "8eyOVVRRM-2N",
        "outputId": "b1e94bed-73fa-4ad3-cae0-906ced05333b"
      },
      "execution_count": null,
      "outputs": [
        {
          "output_type": "stream",
          "name": "stdout",
          "text": [
            "[-10, -9, -8, -7, -6, -5, -4, -3, -2, -1, 0, 1, 2, 3, 4, 5, 6, 7, 8, 9]\n",
            "[1, 2, 3, 4, 5, 6, 7, 8, 9]\n"
          ]
        }
      ]
    },
    {
      "cell_type": "markdown",
      "source": [
        "#7. isinstance()\n",
        "\n",
        "This function checks if the object (first argument) is an instance or subclass of the classinfo class (second argument)."
      ],
      "metadata": {
        "id": "qaes0VEVNjvh"
      }
    },
    {
      "cell_type": "code",
      "source": [
        "lst = [1, 2, 3, 4]\n",
        "print(isinstance(lst, list))\n",
        "\n",
        "t = (1, 2, 3)\n",
        "print(isinstance(t, list))"
      ],
      "metadata": {
        "colab": {
          "base_uri": "https://localhost:8080/"
        },
        "id": "mpdQYCztNa2U",
        "outputId": "746c9070-f4af-4af7-8ec8-1eca4fe7426d"
      },
      "execution_count": null,
      "outputs": [
        {
          "output_type": "stream",
          "name": "stdout",
          "text": [
            "True\n",
            "False\n"
          ]
        }
      ]
    },
    {
      "cell_type": "markdown",
      "source": [
        "#8. map()\n",
        "\n",
        "This function applies a function to all elements in an input_list.\n",
        "\n"
      ],
      "metadata": {
        "id": "K1R0bN11OOd7"
      }
    },
    {
      "cell_type": "code",
      "source": [
        "numbers = [1, 2, 3, 4, 5]\n",
        "\n",
        "squared = []\n",
        "for num in numbers:\n",
        "    squared.append(num ** 2)\n",
        "\n",
        "print(squared)"
      ],
      "metadata": {
        "colab": {
          "base_uri": "https://localhost:8080/"
        },
        "id": "nYRwto81OFi5",
        "outputId": "11f2f948-a543-4f73-9592-e74f2641fbfb"
      },
      "execution_count": null,
      "outputs": [
        {
          "output_type": "stream",
          "name": "stdout",
          "text": [
            "[1, 4, 9, 16, 25]\n"
          ]
        }
      ]
    },
    {
      "cell_type": "code",
      "source": [
        "numbers = [1, 2, 3, 4, 5]\n",
        "\n",
        "def PowerofTwo(num):\n",
        "    return num ** 2\n",
        "\n",
        "squared = list(map(PowerofTwo, numbers))\n",
        "print(squared)"
      ],
      "metadata": {
        "colab": {
          "base_uri": "https://localhost:8080/"
        },
        "id": "VOFJXfXDOtwI",
        "outputId": "ae03fce2-4fd1-476e-9347-4e446bccb39a"
      },
      "execution_count": null,
      "outputs": [
        {
          "output_type": "stream",
          "name": "stdout",
          "text": [
            "[1, 4, 9, 16, 25]\n"
          ]
        }
      ]
    },
    {
      "cell_type": "markdown",
      "source": [
        "#9. reduce()\n",
        "\n",
        "This function is for performing some computation on a list and returning the result.\n",
        "\n",
        "It applies a rolling computation to sequential pairs of values in a list."
      ],
      "metadata": {
        "id": "yYIc1LPtPLqW"
      }
    },
    {
      "cell_type": "code",
      "source": [
        "from functools import reduce\n",
        "\n",
        "lst = [1, 2, 3, 4, 5]\n",
        "\n",
        "def multiply(x, y):\n",
        "  return x * y\n",
        "\n",
        "product = reduce(multiply, lst)\n",
        "print(product)"
      ],
      "metadata": {
        "colab": {
          "base_uri": "https://localhost:8080/"
        },
        "id": "xnhfWi4IPABk",
        "outputId": "d07c80ca-07d2-4d1e-dfd0-1ff5257ec8c0"
      },
      "execution_count": null,
      "outputs": [
        {
          "output_type": "stream",
          "name": "stdout",
          "text": [
            "120\n"
          ]
        }
      ]
    },
    {
      "cell_type": "markdown",
      "source": [
        "#2. User-defined Functions\n",
        "\n",
        "Functions we define ourselves to perform a specific task are called user-defined functions.\n",
        "\n",
        "If we use functions written by others in the form of libraries, it can be termed as library functions.\n",
        "\n",
        "#Advantages\n",
        "\n",
        "1. User-defined functions help to decompose a large program into small segments which makes the program easier to understand, maintain and debug.\n",
        "\n",
        "2. If repeated code occurs in a program, functions can be used to include those codes and execute when needed by calling that function.\n",
        "\n",
        "3. Programmers working on large projects can divide the workload by maintaining functions."
      ],
      "metadata": {
        "id": "tZJ1dkKJQNS4"
      }
    },
    {
      "cell_type": "markdown",
      "source": [
        "#Example"
      ],
      "metadata": {
        "id": "89eHdW1UQP9t"
      }
    },
    {
      "cell_type": "code",
      "source": [
        "def product_numbers(a, b):\n",
        "  \"\"\"\n",
        "  This function returns the product of two numbers.\n",
        "  \"\"\"\n",
        "\n",
        "  return a * b"
      ],
      "metadata": {
        "id": "meIM9rZwP4rc"
      },
      "execution_count": null,
      "outputs": []
    },
    {
      "cell_type": "code",
      "source": [
        "num1 = 34\n",
        "num2 = 90\n",
        "\n",
        "print(f\"Product of the numbers {num1} and {num2} is {product_numbers(num1, num2)}.\")"
      ],
      "metadata": {
        "colab": {
          "base_uri": "https://localhost:8080/"
        },
        "id": "-LeEvIYwRd72",
        "outputId": "99e42a62-5025-45bf-efad-2342c940662b"
      },
      "execution_count": null,
      "outputs": [
        {
          "output_type": "stream",
          "name": "stdout",
          "text": [
            "Product of the numbers 34 and 90 is 3060.\n"
          ]
        }
      ]
    },
    {
      "cell_type": "markdown",
      "source": [
        "#Python program to make a simple calculator that can add, subtract, multiply and divide."
      ],
      "metadata": {
        "id": "PLKK_Zx4RvC2"
      }
    },
    {
      "cell_type": "code",
      "source": [
        "#functions\n",
        "def add(a, b):\n",
        "  \"\"\"\n",
        "  This function adds two numbers.\n",
        "  \"\"\"\n",
        "\n",
        "  return a + b\n",
        "\n",
        "def subtract(a, b):\n",
        "  \"\"\"\n",
        "  This function subtracts two numbers.\n",
        "  \"\"\"\n",
        "\n",
        "  return a - b\n",
        "\n",
        "def multiply(a, b):\n",
        "  \"\"\"\n",
        "  This function multiplies two numbers.\n",
        "  \"\"\"\n",
        "\n",
        "  return a * b\n",
        "\n",
        "def divide(a, b):\n",
        "  \"\"\"\n",
        "  This function divides two numbers.\n",
        "  \"\"\"\n",
        "\n",
        "  return a / b\n",
        "\n",
        "\n",
        "#UI\n",
        "\n",
        "print(\"Select Option\")\n",
        "print(\"1. Addition\")\n",
        "print(\"2. Subtraction\")\n",
        "print(\"3. Multiplication\")\n",
        "print(\"4. Division\")\n",
        "\n",
        "#Ask for choice\n",
        "choice = int(input(\"Enter choice 1/2/3/4 : \"))\n",
        "\n",
        "num1 = float(input(\"Enter first number : \"))\n",
        "num1 = float(input(\"Enter second number : \"))\n",
        "\n",
        "#Perform Computation\n",
        "if choice == 1:\n",
        "    print(f\"Addition of the numbers {num1} and {num2} is {add(num1, num2)}.\")\n",
        "\n",
        "elif choice == 2:\n",
        "    print(f\"Subtraction of the numbers {num1} and {num2} is {subtract(num1, num2)}.\")\n",
        "\n",
        "elif choice == 3:\n",
        "    print(f\"Multiplication of the numbers {num1} and {num2} is {multiply(num1, num2)}.\")\n",
        "\n",
        "elif choice == 4:\n",
        "    print(f\"Division of the numbers {num1} and {num2} is {divide(num1, num2)}.\")\n",
        "\n",
        "else:\n",
        "    print(f\"Invalid choice.\")"
      ],
      "metadata": {
        "colab": {
          "base_uri": "https://localhost:8080/",
          "height": 343
        },
        "id": "5G5iizp2RqHY",
        "outputId": "e33dc6e6-b3e8-44d9-80d9-b54b1d862265"
      },
      "execution_count": null,
      "outputs": [
        {
          "name": "stdout",
          "output_type": "stream",
          "text": [
            "Select Option\n",
            "1. Addition\n",
            "2. Subtraction\n",
            "3. Multiplication\n",
            "4. Division\n",
            "Enter choice 1/2/3/4 : 2\n",
            "Enter first number : 34\n",
            "Enter second number : 43t45\n"
          ]
        },
        {
          "output_type": "error",
          "ename": "ValueError",
          "evalue": "could not convert string to float: '43t45'",
          "traceback": [
            "\u001b[0;31m---------------------------------------------------------------------------\u001b[0m",
            "\u001b[0;31mValueError\u001b[0m                                Traceback (most recent call last)",
            "\u001b[0;32m<ipython-input-64-ad0ad50baad0>\u001b[0m in \u001b[0;36m<cell line: 0>\u001b[0;34m()\u001b[0m\n\u001b[1;32m     41\u001b[0m \u001b[0;34m\u001b[0m\u001b[0m\n\u001b[1;32m     42\u001b[0m \u001b[0mnum1\u001b[0m \u001b[0;34m=\u001b[0m \u001b[0mfloat\u001b[0m\u001b[0;34m(\u001b[0m\u001b[0minput\u001b[0m\u001b[0;34m(\u001b[0m\u001b[0;34m\"Enter first number : \"\u001b[0m\u001b[0;34m)\u001b[0m\u001b[0;34m)\u001b[0m\u001b[0;34m\u001b[0m\u001b[0;34m\u001b[0m\u001b[0m\n\u001b[0;32m---> 43\u001b[0;31m \u001b[0mnum1\u001b[0m \u001b[0;34m=\u001b[0m \u001b[0mfloat\u001b[0m\u001b[0;34m(\u001b[0m\u001b[0minput\u001b[0m\u001b[0;34m(\u001b[0m\u001b[0;34m\"Enter second number : \"\u001b[0m\u001b[0;34m)\u001b[0m\u001b[0;34m)\u001b[0m\u001b[0;34m\u001b[0m\u001b[0;34m\u001b[0m\u001b[0m\n\u001b[0m\u001b[1;32m     44\u001b[0m \u001b[0;34m\u001b[0m\u001b[0m\n\u001b[1;32m     45\u001b[0m \u001b[0;31m#Perform Computation\u001b[0m\u001b[0;34m\u001b[0m\u001b[0;34m\u001b[0m\u001b[0m\n",
            "\u001b[0;31mValueError\u001b[0m: could not convert string to float: '43t45'"
          ]
        }
      ]
    },
    {
      "cell_type": "markdown",
      "source": [
        "#Function Arguments"
      ],
      "metadata": {
        "id": "h17Aed2-ThKA"
      }
    },
    {
      "cell_type": "code",
      "source": [
        "def greet(name, msg):\n",
        "  \"\"\"\n",
        "  This function greets a person with the provided message.\n",
        "  \"\"\"\n",
        "\n",
        "  print(f\"Hello {name}! {msg}\")"
      ],
      "metadata": {
        "id": "zFinJaFOTSTO"
      },
      "execution_count": null,
      "outputs": []
    },
    {
      "cell_type": "code",
      "source": [
        "greet(\"Rohit\", \"You look good as ever.\")"
      ],
      "metadata": {
        "colab": {
          "base_uri": "https://localhost:8080/"
        },
        "id": "xwJXiTvzTz8V",
        "outputId": "ddd8e912-9e34-41ef-eff2-16af1ba82e7f"
      },
      "execution_count": null,
      "outputs": [
        {
          "output_type": "stream",
          "name": "stdout",
          "text": [
            "Hello Rohit! You look good as ever.\n"
          ]
        }
      ]
    },
    {
      "cell_type": "code",
      "source": [
        "#If we pass only one argument:\n",
        "\n",
        "greet(\"Rohit\")"
      ],
      "metadata": {
        "colab": {
          "base_uri": "https://localhost:8080/",
          "height": 173
        },
        "id": "R6P4GnijT6FF",
        "outputId": "cd0e2407-b425-4159-ea2d-4c7cb07d8277"
      },
      "execution_count": null,
      "outputs": [
        {
          "output_type": "error",
          "ename": "TypeError",
          "evalue": "greet() missing 1 required positional argument: 'msg'",
          "traceback": [
            "\u001b[0;31m---------------------------------------------------------------------------\u001b[0m",
            "\u001b[0;31mTypeError\u001b[0m                                 Traceback (most recent call last)",
            "\u001b[0;32m<ipython-input-70-91c23de70a0a>\u001b[0m in \u001b[0;36m<cell line: 0>\u001b[0;34m()\u001b[0m\n\u001b[1;32m      1\u001b[0m \u001b[0;31m#If we pass only one argument:\u001b[0m\u001b[0;34m\u001b[0m\u001b[0;34m\u001b[0m\u001b[0m\n\u001b[1;32m      2\u001b[0m \u001b[0;34m\u001b[0m\u001b[0m\n\u001b[0;32m----> 3\u001b[0;31m \u001b[0mgreet\u001b[0m\u001b[0;34m(\u001b[0m\u001b[0;34m\"Rohit\"\u001b[0m\u001b[0;34m)\u001b[0m\u001b[0;34m\u001b[0m\u001b[0;34m\u001b[0m\u001b[0m\n\u001b[0m",
            "\u001b[0;31mTypeError\u001b[0m: greet() missing 1 required positional argument: 'msg'"
          ]
        }
      ]
    },
    {
      "cell_type": "markdown",
      "source": [
        "#Different Types of Arguments"
      ],
      "metadata": {
        "id": "uirgHQSpUKhY"
      }
    },
    {
      "cell_type": "markdown",
      "source": [
        "#1. Default Arguments\n",
        "\n",
        "We can provide a default value to an argument by using the assignment operator (=)."
      ],
      "metadata": {
        "id": "XiUznn_BUTrD"
      }
    },
    {
      "cell_type": "code",
      "source": [
        "def greet(name, msg = \"It's a pleasure.\"):\n",
        "  \"\"\"\n",
        "  This function greets a person with the provided message.\n",
        "  If no message is provided, it provides the default message, \"It's a pleasure.\"\n",
        "  \"\"\"\n",
        "\n",
        "  print(f\"Hello {name}! {msg}\")"
      ],
      "metadata": {
        "id": "Go2edmAzUFKv"
      },
      "execution_count": null,
      "outputs": []
    },
    {
      "cell_type": "code",
      "source": [
        "greet(\"Rohit\", \"You look good as ever.\")"
      ],
      "metadata": {
        "colab": {
          "base_uri": "https://localhost:8080/"
        },
        "id": "ynHaQibZU0Fm",
        "outputId": "6488a01b-73e6-481b-f68c-e37e11eb630e"
      },
      "execution_count": null,
      "outputs": [
        {
          "output_type": "stream",
          "name": "stdout",
          "text": [
            "Hello Rohit! You look good as ever.\n"
          ]
        }
      ]
    },
    {
      "cell_type": "code",
      "source": [
        "#defaults to default message if none given.\n",
        "greet(\"Rohit\")"
      ],
      "metadata": {
        "colab": {
          "base_uri": "https://localhost:8080/"
        },
        "id": "qiOwttNZUxts",
        "outputId": "60162df6-4ef8-4846-ed27-39bff2818101"
      },
      "execution_count": null,
      "outputs": [
        {
          "output_type": "stream",
          "name": "stdout",
          "text": [
            "Hello Rohit! It's a pleasure.\n"
          ]
        }
      ]
    },
    {
      "cell_type": "markdown",
      "source": [
        "**Once we have a default argument, all arguments to its right should also have default values.**"
      ],
      "metadata": {
        "id": "LOAVn27RVJ3i"
      }
    },
    {
      "cell_type": "code",
      "source": [
        "def greet(msg = \"It's a pleasure\", name):\n",
        "  \"\"\"\n",
        "  This function greets a person with the provided message.\n",
        "  If no message is provided, it provides the default message, \"It's a pleasure.\"\n",
        "  \"\"\"\n",
        "\n",
        "  print(f\"{msg}, {name}.\")"
      ],
      "metadata": {
        "colab": {
          "base_uri": "https://localhost:8080/",
          "height": 105
        },
        "id": "qCzgLyP_U4el",
        "outputId": "aaeec56d-0af0-4f4a-b251-ead472c1300e"
      },
      "execution_count": null,
      "outputs": [
        {
          "output_type": "error",
          "ename": "SyntaxError",
          "evalue": "non-default argument follows default argument (<ipython-input-80-dfc5eeb0a1e0>, line 1)",
          "traceback": [
            "\u001b[0;36m  File \u001b[0;32m\"<ipython-input-80-dfc5eeb0a1e0>\"\u001b[0;36m, line \u001b[0;32m1\u001b[0m\n\u001b[0;31m    def greet(msg = \"It's a pleasure\", name):\u001b[0m\n\u001b[0m                                       ^\u001b[0m\n\u001b[0;31mSyntaxError\u001b[0m\u001b[0;31m:\u001b[0m non-default argument follows default argument\n"
          ]
        }
      ]
    },
    {
      "cell_type": "markdown",
      "source": [
        "#2. Keyword Arguments\n",
        "\n",
        "kwargs allow you to pass keywrded arguments of variable lengths to a function. You should use **kwargs if you want to handle named arguments in a function.\n"
      ],
      "metadata": {
        "id": "wezR-p6OVoqG"
      }
    },
    {
      "cell_type": "markdown",
      "source": [
        "#Example"
      ],
      "metadata": {
        "id": "UHtgp1iy91T9"
      }
    },
    {
      "cell_type": "code",
      "source": [
        "def greet(**kwargs):\n",
        "  \"\"\"\n",
        "  This function greets a person with the provided message.\n",
        "  \"\"\"\n",
        "  if kwargs:\n",
        "      print(f\"Hello {kwargs['name']}! {kwargs['msg']}\")"
      ],
      "metadata": {
        "id": "S2aVWKYFVlqS"
      },
      "execution_count": null,
      "outputs": []
    },
    {
      "cell_type": "code",
      "source": [
        "greet(name = \"Rohit\", msg = \"Looking good today, aren't we?\")"
      ],
      "metadata": {
        "colab": {
          "base_uri": "https://localhost:8080/"
        },
        "id": "uAtWQ9ks96LU",
        "outputId": "5c9a84db-565f-4784-b0a3-d16b7d3c892e"
      },
      "execution_count": null,
      "outputs": [
        {
          "output_type": "stream",
          "name": "stdout",
          "text": [
            "Hello Rohit! Looking good today, aren't we?\n"
          ]
        }
      ]
    },
    {
      "cell_type": "markdown",
      "source": [
        "#3. Arbitrary Arguments\n",
        "\n",
        "Sometimes, we do not know in advance the number of arguments that are to be passed into a function. Python allows us to handle this kind of situation through function calls with arbitrary number of arguments."
      ],
      "metadata": {
        "id": "eWCmJHWN-zUg"
      }
    },
    {
      "cell_type": "code",
      "source": [
        "def greet(*names):\n",
        "  \"\"\"\n",
        "  This function greets all names given to it.\n",
        "  \"\"\"\n",
        "\n",
        "  print(names)\n",
        "\n",
        "  for name in names:\n",
        "    print(f\"Hello {name}!\")"
      ],
      "metadata": {
        "id": "J_s7pebY-URH"
      },
      "execution_count": null,
      "outputs": []
    },
    {
      "cell_type": "code",
      "source": [
        "greet(\"Rohit\", \"Aryan\", \"Anshuman\", \"Supreeth\")"
      ],
      "metadata": {
        "colab": {
          "base_uri": "https://localhost:8080/"
        },
        "id": "PrUx_UQP_mgP",
        "outputId": "a1ff31fd-750e-4211-b1c1-34a6377538a2"
      },
      "execution_count": null,
      "outputs": [
        {
          "output_type": "stream",
          "name": "stdout",
          "text": [
            "('Rohit', 'Aryan', 'Anshuman', 'Supreeth')\n",
            "Hello Rohit!\n",
            "Hello Aryan!\n",
            "Hello Anshuman!\n",
            "Hello Supreeth!\n"
          ]
        }
      ]
    },
    {
      "cell_type": "markdown",
      "source": [
        "#Recursion\n",
        "\n",
        "In Python, a function can call other functions. It is even possible for the function to call itself. Such types of functions are called recursive functions."
      ],
      "metadata": {
        "id": "gZ5Uv-Jj_stp"
      }
    },
    {
      "cell_type": "markdown",
      "source": [
        "#Example"
      ],
      "metadata": {
        "id": "ZIcyowh1ABhK"
      }
    },
    {
      "cell_type": "code",
      "source": [
        "def factorial(num):\n",
        "  \"\"\"\n",
        "  This is a recursive function to find the factorial of a given number.\n",
        "  \"\"\"\n",
        "\n",
        "  if not isinstance(num, int):\n",
        "      raise TypeError(\"Input must be an integer.\")\n",
        "  elif num < 0:\n",
        "      raise ValueError(\"Factorial is not defined for negative numbers.\")\n",
        "\n",
        "  def compute_fact(num):\n",
        "      if num == 0 or num == 1:\n",
        "          result = 1\n",
        "      else:\n",
        "          result = num * compute_fact(num - 1)\n",
        "\n",
        "      return result\n",
        "\n",
        "  return f\"The factorial of {num} is {compute_fact(num)}.\""
      ],
      "metadata": {
        "id": "srbuEFDi_qMt"
      },
      "execution_count": null,
      "outputs": []
    },
    {
      "cell_type": "code",
      "source": [
        "factorial(5)"
      ],
      "metadata": {
        "colab": {
          "base_uri": "https://localhost:8080/",
          "height": 35
        },
        "id": "3hGqI4dKAUir",
        "outputId": "ca675618-9ebb-4f88-84c3-fada1bc5eb85"
      },
      "execution_count": null,
      "outputs": [
        {
          "output_type": "execute_result",
          "data": {
            "text/plain": [
              "'The factorial of 5 is 120.'"
            ],
            "application/vnd.google.colaboratory.intrinsic+json": {
              "type": "string"
            }
          },
          "metadata": {},
          "execution_count": 49
        }
      ]
    },
    {
      "cell_type": "markdown",
      "source": [
        "#Advantages\n",
        "\n",
        "1. Recursive functions make the code look clean and elegant.\n",
        "2. A complex task can be broke down into simpler sub-problems using recursion.\n",
        "3. Sequence generation is easier using recursion than using some nested generation.\n",
        "\n",
        "#Disadvantages\n",
        "\n",
        "1. Sometimes, the logic behind recursion is hard to follow.\n",
        "2. Recursive calls are expensive (inefficient) as they take up a lot of time and memory.\n",
        "3. Recursive functions are hard to debug."
      ],
      "metadata": {
        "id": "tOm_Dq9nGKvI"
      }
    },
    {
      "cell_type": "markdown",
      "source": [
        "#Python function to Display the n-th Fibonacci number"
      ],
      "metadata": {
        "id": "RKsXHSIYG4nx"
      }
    },
    {
      "cell_type": "code",
      "source": [
        "def fibonacci_num(n):\n",
        "  \"\"\"\n",
        "  This function will print the n-th (given input) Fibonacci number.\n",
        "  \"\"\"\n",
        "\n",
        "  if not isinstance(n, int):\n",
        "      raise TypeError(\"Input must be an integer.\")\n",
        "  elif n < 0:\n",
        "      raise ValueError(\"Fibonacci sequence is not defined for negative-valued terms.\")\n",
        "\n",
        "  def compute_fib(n):\n",
        "      if n <= 1:\n",
        "          result = n\n",
        "      else:\n",
        "          result = compute_fib(n - 1) + compute_fib(n - 2)\n",
        "\n",
        "      return result\n",
        "\n",
        "  return f\"The {n}-th Fibonacci number is {compute_fib(n)}.\""
      ],
      "metadata": {
        "id": "ovMf5VFLAVy3"
      },
      "execution_count": null,
      "outputs": []
    },
    {
      "cell_type": "code",
      "source": [
        "print(fibonacci_num(10))"
      ],
      "metadata": {
        "colab": {
          "base_uri": "https://localhost:8080/"
        },
        "id": "q5A0ygejIclL",
        "outputId": "28c66769-06af-4f02-e4bb-1ab734de5091"
      },
      "execution_count": null,
      "outputs": [
        {
          "output_type": "stream",
          "name": "stdout",
          "text": [
            "The 10-th Fibonacci number is 55.\n"
          ]
        }
      ]
    },
    {
      "cell_type": "markdown",
      "source": [
        "#Python function to Display the Fibonacci sequence upto the n-th term"
      ],
      "metadata": {
        "id": "CuBKA634KPEJ"
      }
    },
    {
      "cell_type": "code",
      "source": [
        "def fibonacci_num(n):\n",
        "  \"\"\"\n",
        "  This function will print the n-th (given input) Fibonacci number.\n",
        "  \"\"\"\n",
        "\n",
        "  if not isinstance(n, int):\n",
        "      raise TypeError(\"Input must be an integer.\")\n",
        "  elif n < 0:\n",
        "      raise ValueError(\"Fibonacci sequence is not defined for negative-valued terms.\")\n",
        "\n",
        "  sequence = []\n",
        "  a, b = 0, 1\n",
        "  for i in range(n+1):\n",
        "      sequence.append(a)\n",
        "      a, b = b, a + b\n",
        "\n",
        "  print(f\"The Fibonacci sequence upto the {n}-th term is {sequence}.\")\n",
        "  return f\"The {n}-th Fibonacci number is {sequence[-1]}.\""
      ],
      "metadata": {
        "id": "TpxxetCNIelu"
      },
      "execution_count": null,
      "outputs": []
    },
    {
      "cell_type": "code",
      "source": [
        "fibonacci_num(10)"
      ],
      "metadata": {
        "colab": {
          "base_uri": "https://localhost:8080/"
        },
        "id": "Dn0m0pwMKyE4",
        "outputId": "d735189e-df8c-407d-a47a-50eaafcd52c4"
      },
      "execution_count": null,
      "outputs": [
        {
          "output_type": "stream",
          "name": "stdout",
          "text": [
            "The Fibonacci sequence upto the 10-th term is [0, 1, 1, 2, 3, 5, 8, 13, 21, 34, 55].\n",
            "The 10-th Fibonacci number is 55.\n"
          ]
        }
      ]
    },
    {
      "cell_type": "markdown",
      "source": [
        "#Anonymous/Lambda Functions\n",
        "\n",
        "In Python, and anonymous function is a function that is defined without a name.\n",
        "\n",
        "While normal functions are defined using the def keyword, anonymous functions are defined using the lambda keyword.\n",
        "\n",
        "Lambda functions are used extensively along with built-in functions like filter(), map()."
      ],
      "metadata": {
        "id": "iN2IMP4ARc0M"
      }
    },
    {
      "cell_type": "code",
      "source": [
        "def double(x):\n",
        "  return 2 * x"
      ],
      "metadata": {
        "id": "EHDe1H8OK0CL"
      },
      "execution_count": null,
      "outputs": []
    },
    {
      "cell_type": "code",
      "source": [
        "double(2)"
      ],
      "metadata": {
        "colab": {
          "base_uri": "https://localhost:8080/"
        },
        "id": "OZ_eS3-zSDDa",
        "outputId": "cd69a499-4961-4611-8dae-5e13a408da38"
      },
      "execution_count": null,
      "outputs": [
        {
          "output_type": "execute_result",
          "data": {
            "text/plain": [
              "4"
            ]
          },
          "metadata": {},
          "execution_count": 74
        }
      ]
    },
    {
      "cell_type": "code",
      "source": [
        "#With lambda function\n",
        "double = lambda x : 2 * x\n",
        "\n",
        "print(double(4))"
      ],
      "metadata": {
        "colab": {
          "base_uri": "https://localhost:8080/"
        },
        "id": "kwPKdutZSEQ-",
        "outputId": "0fda8c68-13f2-4b4b-8de5-2c914246b4c6"
      },
      "execution_count": null,
      "outputs": [
        {
          "output_type": "stream",
          "name": "stdout",
          "text": [
            "8\n"
          ]
        }
      ]
    },
    {
      "cell_type": "code",
      "source": [
        "#Example using map() for doubling elements in a list\n",
        "lst = [1, 2, 3, 4, 5, 6]\n",
        "\n",
        "new_lst = list(map(lambda x: 2*x, lst))\n",
        "print(new_lst)"
      ],
      "metadata": {
        "colab": {
          "base_uri": "https://localhost:8080/"
        },
        "id": "DQ1qshOYSPx9",
        "outputId": "aae78f3f-a04b-451a-8147-8b789032c314"
      },
      "execution_count": null,
      "outputs": [
        {
          "output_type": "stream",
          "name": "stdout",
          "text": [
            "[2, 4, 6, 8, 10, 12]\n"
          ]
        }
      ]
    },
    {
      "cell_type": "code",
      "source": [
        "#Example using filter() for finding even elements in a list\n",
        "lst = [1, 2, 3, 4, 5, 6]\n",
        "\n",
        "even_lst = list(filter(lambda x: x % 2 == 0, lst))\n",
        "print(even_lst)"
      ],
      "metadata": {
        "colab": {
          "base_uri": "https://localhost:8080/"
        },
        "id": "vj3it5J_SwOc",
        "outputId": "4f527cb7-2b00-4478-995e-7ddbfb58a38e"
      },
      "execution_count": null,
      "outputs": [
        {
          "output_type": "stream",
          "name": "stdout",
          "text": [
            "[2, 4, 6]\n"
          ]
        }
      ]
    },
    {
      "cell_type": "code",
      "source": [
        "#Example using reduce() for finding product of all elements in a list\n",
        "from functools import reduce\n",
        "lst = [1, 2, 3, 4, 5, 6]\n",
        "\n",
        "product = reduce(lambda x, y : x * y, lst)\n",
        "print(product)"
      ],
      "metadata": {
        "colab": {
          "base_uri": "https://localhost:8080/"
        },
        "id": "P_ZoWXufTDb8",
        "outputId": "e5ff3726-e256-42ef-c326-7556593a52de"
      },
      "execution_count": null,
      "outputs": [
        {
          "output_type": "stream",
          "name": "stdout",
          "text": [
            "720\n"
          ]
        }
      ]
    },
    {
      "cell_type": "markdown",
      "source": [
        "#Modules\n",
        "\n",
        "Modules refer to a file containing Python statements and definitions.\n",
        "\n",
        "A file containing Python code, for e.g.: abc.py, is called a module. The name of the module would be \"abc\".\n",
        "\n",
        "We use modules to break down large programs into small, manageable and organisable chunks. Furthermore, modules provide reusability of code.\n",
        "\n",
        "We can define our most used functions in a module and import it, instead of copying their definitions into different programs."
      ],
      "metadata": {
        "id": "4P0nmqoDTnVC"
      }
    },
    {
      "cell_type": "markdown",
      "source": [
        "#Importing a module"
      ],
      "metadata": {
        "id": "Eyx3FRTAUiMe"
      }
    },
    {
      "cell_type": "code",
      "source": [
        "#Importing math module\n",
        "import math"
      ],
      "metadata": {
        "id": "1KiiAte4Tb9X"
      },
      "execution_count": null,
      "outputs": []
    },
    {
      "cell_type": "markdown",
      "source": [
        "Using the module name, we can access functions using the dot (.) operator.\n"
      ],
      "metadata": {
        "id": "ECfg_bsGUuzT"
      }
    },
    {
      "cell_type": "code",
      "source": [
        "#integer square root function from math module\n",
        "math.isqrt(10)"
      ],
      "metadata": {
        "colab": {
          "base_uri": "https://localhost:8080/"
        },
        "id": "vBISEqbxUsgA",
        "outputId": "c9d25333-a71c-450e-ece2-af5b7c188239"
      },
      "execution_count": null,
      "outputs": [
        {
          "output_type": "execute_result",
          "data": {
            "text/plain": [
              "3"
            ]
          },
          "metadata": {},
          "execution_count": 85
        }
      ]
    },
    {
      "cell_type": "markdown",
      "source": [
        "Python has a lot of standard modules available.\n",
        "\n",
        "https://docs.python.org/3/py-modindex.html"
      ],
      "metadata": {
        "id": "FjHD-OQkU8A3"
      }
    },
    {
      "cell_type": "markdown",
      "source": [
        "#Import with renaming"
      ],
      "metadata": {
        "id": "r_kmN5kYV0r7"
      }
    },
    {
      "cell_type": "code",
      "source": [
        "import math as m"
      ],
      "metadata": {
        "id": "lixhv8m8U2VC"
      },
      "execution_count": null,
      "outputs": []
    },
    {
      "cell_type": "code",
      "source": [
        "m.pi"
      ],
      "metadata": {
        "colab": {
          "base_uri": "https://localhost:8080/"
        },
        "id": "c3k5xX1MV4WJ",
        "outputId": "4c6a77f0-94cd-4b44-936d-2556be35775e"
      },
      "execution_count": null,
      "outputs": [
        {
          "output_type": "execute_result",
          "data": {
            "text/plain": [
              "3.141592653589793"
            ]
          },
          "metadata": {},
          "execution_count": 87
        }
      ]
    },
    {
      "cell_type": "markdown",
      "source": [
        "#from ... import statement\n",
        "\n",
        "We can import specific names from a module without importing the module as a whole."
      ],
      "metadata": {
        "id": "HSKL-OLlV9FZ"
      }
    },
    {
      "cell_type": "code",
      "source": [
        "from datetime import datetime"
      ],
      "metadata": {
        "id": "A1A36abDV5Ul"
      },
      "execution_count": null,
      "outputs": []
    },
    {
      "cell_type": "code",
      "source": [
        "datetime.now()"
      ],
      "metadata": {
        "colab": {
          "base_uri": "https://localhost:8080/"
        },
        "id": "-kGlHhCsWMcJ",
        "outputId": "65e540b3-1d34-48ab-9004-47e7020a562d"
      },
      "execution_count": null,
      "outputs": [
        {
          "output_type": "execute_result",
          "data": {
            "text/plain": [
              "datetime.datetime(2025, 5, 27, 1, 31, 45, 592425)"
            ]
          },
          "metadata": {},
          "execution_count": 99
        }
      ]
    },
    {
      "cell_type": "markdown",
      "source": [
        "#import all names"
      ],
      "metadata": {
        "id": "PXLM-ZruXr_F"
      }
    },
    {
      "cell_type": "code",
      "source": [
        "from math import *\n",
        "\n",
        "print(f\"The valye of pi is {str(pi)}\")"
      ],
      "metadata": {
        "colab": {
          "base_uri": "https://localhost:8080/"
        },
        "id": "1fWZO60FWOFH",
        "outputId": "74e80a46-5676-4d3c-ff6f-798f889e9115"
      },
      "execution_count": null,
      "outputs": [
        {
          "output_type": "stream",
          "name": "stdout",
          "text": [
            "The valye of pi is 3.141592653589793\n"
          ]
        }
      ]
    },
    {
      "cell_type": "markdown",
      "source": [
        "#dir() built-in function\n",
        "\n",
        "We can use the dir() function to find out the names that are defined inside a module."
      ],
      "metadata": {
        "id": "CIpNxluKX6Ui"
      }
    },
    {
      "cell_type": "code",
      "source": [
        "dir(math)"
      ],
      "metadata": {
        "colab": {
          "base_uri": "https://localhost:8080/"
        },
        "id": "0VMITwWiX3hX",
        "outputId": "f367888d-ef65-4547-8f0e-120d55e0a0f7"
      },
      "execution_count": null,
      "outputs": [
        {
          "output_type": "execute_result",
          "data": {
            "text/plain": [
              "['__doc__',\n",
              " '__loader__',\n",
              " '__name__',\n",
              " '__package__',\n",
              " '__spec__',\n",
              " 'acos',\n",
              " 'acosh',\n",
              " 'asin',\n",
              " 'asinh',\n",
              " 'atan',\n",
              " 'atan2',\n",
              " 'atanh',\n",
              " 'cbrt',\n",
              " 'ceil',\n",
              " 'comb',\n",
              " 'copysign',\n",
              " 'cos',\n",
              " 'cosh',\n",
              " 'degrees',\n",
              " 'dist',\n",
              " 'e',\n",
              " 'erf',\n",
              " 'erfc',\n",
              " 'exp',\n",
              " 'exp2',\n",
              " 'expm1',\n",
              " 'fabs',\n",
              " 'factorial',\n",
              " 'floor',\n",
              " 'fmod',\n",
              " 'frexp',\n",
              " 'fsum',\n",
              " 'gamma',\n",
              " 'gcd',\n",
              " 'hypot',\n",
              " 'inf',\n",
              " 'isclose',\n",
              " 'isfinite',\n",
              " 'isinf',\n",
              " 'isnan',\n",
              " 'isqrt',\n",
              " 'lcm',\n",
              " 'ldexp',\n",
              " 'lgamma',\n",
              " 'log',\n",
              " 'log10',\n",
              " 'log1p',\n",
              " 'log2',\n",
              " 'modf',\n",
              " 'nan',\n",
              " 'nextafter',\n",
              " 'perm',\n",
              " 'pi',\n",
              " 'pow',\n",
              " 'prod',\n",
              " 'radians',\n",
              " 'remainder',\n",
              " 'sin',\n",
              " 'sinh',\n",
              " 'sqrt',\n",
              " 'tan',\n",
              " 'tanh',\n",
              " 'tau',\n",
              " 'trunc',\n",
              " 'ulp']"
            ]
          },
          "metadata": {},
          "execution_count": 101
        }
      ]
    },
    {
      "cell_type": "code",
      "source": [
        "print(math.modf.__doc__)"
      ],
      "metadata": {
        "colab": {
          "base_uri": "https://localhost:8080/"
        },
        "id": "cZtbhocoYFLW",
        "outputId": "6161651e-a3d9-435d-fc25-e540066bff41"
      },
      "execution_count": null,
      "outputs": [
        {
          "output_type": "stream",
          "name": "stdout",
          "text": [
            "Return the fractional and integer parts of x.\n",
            "\n",
            "Both results carry the sign of x and are floats.\n"
          ]
        }
      ]
    },
    {
      "cell_type": "markdown",
      "source": [
        "#Packages\n",
        "\n",
        "Packages are a way of structuring Python's module namespace by using \"dotted module names\".\n",
        "\n",
        "A directory must contain a file named \\_\\_init\\_\\_.py in order for PPython to consider it as a package. This file can be left empty, but we generally place the intialisation code for the package in this file.\n",
        "\n",
        "Intuitively, one can think of packages as folders and modules as files."
      ],
      "metadata": {
        "id": "2JIvRSDlYXnS"
      }
    },
    {
      "cell_type": "markdown",
      "source": [
        "#Importing module from a package\n",
        "\n",
        "We can import modules from a package using the dot (.) operator."
      ],
      "metadata": {
        "id": "0BrICtooZ29o"
      }
    },
    {
      "cell_type": "code",
      "source": [
        "#import game.image.open for a package called game, that contains another package called image, which in turn contains a module called open.py"
      ],
      "metadata": {
        "id": "3_7Q-n0gYNs0"
      },
      "execution_count": null,
      "outputs": []
    },
    {
      "cell_type": "markdown",
      "source": [
        "#File I/O\n",
        "\n",
        "A file is a named location on a disk to store related information. It is used to store data permanently in a non-volatile memory (e.g., hard disk).\n",
        "\n",
        "Since RAM is volatile and loses memory when the computer is turned off, we use files for future use of the data.\n",
        "\n",
        "When we want to read from or write to a file, we need to open it first. When we are done with it, it needds to be closed, so that resources that are tied to the file are freed.\n",
        "\n",
        "File operations:\n",
        "\n",
        "1. Open the file,\n",
        "2. Read or write (perform operation),\n",
        "3. Close the file."
      ],
      "metadata": {
        "id": "an-XlH8xKpFT"
      }
    },
    {
      "cell_type": "markdown",
      "source": [
        "#Opening a File\n",
        "\n",
        "Python has a built-in function `open()` to open a file. This function returns a afile object, alos called a handle, as it is used to read or modify the file accordingly."
      ],
      "metadata": {
        "id": "YyFXe1MgLkr4"
      }
    },
    {
      "cell_type": "code",
      "source": [
        "#open file in current directory\n",
        "f = open('example.txt')"
      ],
      "metadata": {
        "colab": {
          "base_uri": "https://localhost:8080/",
          "height": 156
        },
        "id": "TvtDgg9NaLJg",
        "outputId": "9fca9299-2eca-4a8e-fd3a-6f97542f4bb1"
      },
      "execution_count": null,
      "outputs": [
        {
          "output_type": "error",
          "ename": "FileNotFoundError",
          "evalue": "[Errno 2] No such file or directory: 'example.txt'",
          "traceback": [
            "\u001b[0;31m---------------------------------------------------------------------------\u001b[0m",
            "\u001b[0;31mFileNotFoundError\u001b[0m                         Traceback (most recent call last)",
            "\u001b[0;32m<ipython-input-1-42789b0a2454>\u001b[0m in \u001b[0;36m<cell line: 0>\u001b[0;34m()\u001b[0m\n\u001b[1;32m      1\u001b[0m \u001b[0;31m#open file in current directory\u001b[0m\u001b[0;34m\u001b[0m\u001b[0;34m\u001b[0m\u001b[0m\n\u001b[0;32m----> 2\u001b[0;31m \u001b[0mf\u001b[0m \u001b[0;34m=\u001b[0m \u001b[0mopen\u001b[0m\u001b[0;34m(\u001b[0m\u001b[0;34m'example.txt'\u001b[0m\u001b[0;34m)\u001b[0m\u001b[0;34m\u001b[0m\u001b[0;34m\u001b[0m\u001b[0m\n\u001b[0m",
            "\u001b[0;31mFileNotFoundError\u001b[0m: [Errno 2] No such file or directory: 'example.txt'"
          ]
        }
      ]
    },
    {
      "cell_type": "markdown",
      "source": [
        "We can specify the mode while opening a file. In mode, we specify whether we want to read ('r'), write ('w'), or append ('a') to the file. We also specify if we want to open the file in text mode or binary mode."
      ],
      "metadata": {
        "id": "_9vzFIyRN5hr"
      }
    },
    {
      "cell_type": "markdown",
      "source": [
        "#Python File Modes\n",
        "\n",
        "* 'r' - Open a file for reading (default).\n",
        "\n",
        "* 'w' - Open a file for writing. Creates a new file if it does not exist or truncates the file if it exists.\n",
        "\n",
        "* 'x' - Open a file for exclusive creation. If the file already exists, the operation fails.\n",
        "\n",
        "* 'a' - Open for appending at the end of the file without truncating it. Creates a new file if it does not exist.\n",
        "\n",
        "* 't' - Open in text mode. (default)\n",
        "\n",
        "* 'b' - Open in binary mode.\n",
        "\n",
        "* '+' - Open a file for updating (reading and writing)."
      ],
      "metadata": {
        "id": "po86esdIOXYo"
      }
    },
    {
      "cell_type": "code",
      "source": [
        "f = open('example.txt', 'r')\n",
        "\n",
        "f = open('example.txt', 'w')"
      ],
      "metadata": {
        "colab": {
          "base_uri": "https://localhost:8080/",
          "height": 173
        },
        "id": "_I79EyomMN7E",
        "outputId": "c7c9bd36-df3b-458a-98f0-f9ddc000e3c9"
      },
      "execution_count": null,
      "outputs": [
        {
          "output_type": "error",
          "ename": "FileNotFoundError",
          "evalue": "[Errno 2] No such file or directory: 'example.txt'",
          "traceback": [
            "\u001b[0;31m---------------------------------------------------------------------------\u001b[0m",
            "\u001b[0;31mFileNotFoundError\u001b[0m                         Traceback (most recent call last)",
            "\u001b[0;32m<ipython-input-4-7891c924b700>\u001b[0m in \u001b[0;36m<cell line: 0>\u001b[0;34m()\u001b[0m\n\u001b[0;32m----> 1\u001b[0;31m \u001b[0mf\u001b[0m \u001b[0;34m=\u001b[0m \u001b[0mopen\u001b[0m\u001b[0;34m(\u001b[0m\u001b[0;34m'example.txt'\u001b[0m\u001b[0;34m,\u001b[0m \u001b[0;34m'r'\u001b[0m\u001b[0;34m)\u001b[0m\u001b[0;34m\u001b[0m\u001b[0;34m\u001b[0m\u001b[0m\n\u001b[0m\u001b[1;32m      2\u001b[0m \u001b[0;34m\u001b[0m\u001b[0m\n\u001b[1;32m      3\u001b[0m \u001b[0mf\u001b[0m \u001b[0;34m=\u001b[0m \u001b[0mopen\u001b[0m\u001b[0;34m(\u001b[0m\u001b[0;34m'example.txt'\u001b[0m\u001b[0;34m,\u001b[0m \u001b[0;34m'w'\u001b[0m\u001b[0;34m)\u001b[0m\u001b[0;34m\u001b[0m\u001b[0;34m\u001b[0m\u001b[0m\n",
            "\u001b[0;31mFileNotFoundError\u001b[0m: [Errno 2] No such file or directory: 'example.txt'"
          ]
        }
      ]
    },
    {
      "cell_type": "markdown",
      "source": [
        "The default encoding of characters is platform dependent. In windows, it is 'cp1252' but 'utf-8' in Linux.\n",
        "\n",
        "So, we also must not rely on the default encoding or else our code will behave differently in different platforms.\n",
        "\n",
        "Hence, when working with files in text mode, it is highly recommended to specify the encoding type."
      ],
      "metadata": {
        "id": "cm6fCSojQ0M3"
      }
    },
    {
      "cell_type": "markdown",
      "source": [
        "#Closing a File\n",
        "\n",
        "Closing a file will free up resources that were tied with the file and is done using the close() method.\n",
        "\n",
        "Python has a garbage collector to clean up unreferenced objects, but we must not rely on it to close the file."
      ],
      "metadata": {
        "id": "mqP-df71RSkB"
      }
    },
    {
      "cell_type": "code",
      "source": [
        "f = open('example.txt')\n",
        "f.close()"
      ],
      "metadata": {
        "colab": {
          "base_uri": "https://localhost:8080/",
          "height": 156
        },
        "id": "xUpufhg0NUrz",
        "outputId": "985c3541-8adb-4c62-b01d-a4b7617c9e0f"
      },
      "execution_count": null,
      "outputs": [
        {
          "output_type": "error",
          "ename": "FileNotFoundError",
          "evalue": "[Errno 2] No such file or directory: 'example.txt'",
          "traceback": [
            "\u001b[0;31m---------------------------------------------------------------------------\u001b[0m",
            "\u001b[0;31mFileNotFoundError\u001b[0m                         Traceback (most recent call last)",
            "\u001b[0;32m<ipython-input-1-5b323e2eefb2>\u001b[0m in \u001b[0;36m<cell line: 0>\u001b[0;34m()\u001b[0m\n\u001b[0;32m----> 1\u001b[0;31m \u001b[0mf\u001b[0m \u001b[0;34m=\u001b[0m \u001b[0mopen\u001b[0m\u001b[0;34m(\u001b[0m\u001b[0;34m'example.txt'\u001b[0m\u001b[0;34m)\u001b[0m\u001b[0;34m\u001b[0m\u001b[0;34m\u001b[0m\u001b[0m\n\u001b[0m\u001b[1;32m      2\u001b[0m \u001b[0mf\u001b[0m\u001b[0;34m.\u001b[0m\u001b[0mclose\u001b[0m\u001b[0;34m(\u001b[0m\u001b[0;34m)\u001b[0m\u001b[0;34m\u001b[0m\u001b[0;34m\u001b[0m\u001b[0m\n",
            "\u001b[0;31mFileNotFoundError\u001b[0m: [Errno 2] No such file or directory: 'example.txt'"
          ]
        }
      ]
    },
    {
      "cell_type": "markdown",
      "source": [
        "This method is not entirely safe. If an exception occurs when we are performing some operation with the file, the code exits without closing the file.\n",
        "\n",
        "a safer way is to use the try ... finally block."
      ],
      "metadata": {
        "id": "LUn1sbl-4bK0"
      }
    },
    {
      "cell_type": "code",
      "source": [
        "try :\n",
        "    f = open('example.txt')\n",
        "    #perform file operations\n",
        "\n",
        "finally :\n",
        "    f.close()"
      ],
      "metadata": {
        "colab": {
          "base_uri": "https://localhost:8080/",
          "height": 343
        },
        "id": "J4aUzl34QDNn",
        "outputId": "541b1901-4e1f-4697-beab-963399239108"
      },
      "execution_count": null,
      "outputs": [
        {
          "output_type": "error",
          "ename": "NameError",
          "evalue": "name 'f' is not defined",
          "traceback": [
            "\u001b[0;31m---------------------------------------------------------------------------\u001b[0m",
            "\u001b[0;31mFileNotFoundError\u001b[0m                         Traceback (most recent call last)",
            "\u001b[0;32m<ipython-input-2-c5da311f4b0e>\u001b[0m in \u001b[0;36m<cell line: 0>\u001b[0;34m()\u001b[0m\n\u001b[1;32m      1\u001b[0m \u001b[0;32mtry\u001b[0m \u001b[0;34m:\u001b[0m\u001b[0;34m\u001b[0m\u001b[0;34m\u001b[0m\u001b[0m\n\u001b[0;32m----> 2\u001b[0;31m     \u001b[0mf\u001b[0m \u001b[0;34m=\u001b[0m \u001b[0mopen\u001b[0m\u001b[0;34m(\u001b[0m\u001b[0;34m'example.txt'\u001b[0m\u001b[0;34m)\u001b[0m\u001b[0;34m\u001b[0m\u001b[0;34m\u001b[0m\u001b[0m\n\u001b[0m\u001b[1;32m      3\u001b[0m     \u001b[0;31m#perform file operations\u001b[0m\u001b[0;34m\u001b[0m\u001b[0;34m\u001b[0m\u001b[0m\n",
            "\u001b[0;31mFileNotFoundError\u001b[0m: [Errno 2] No such file or directory: 'example.txt'",
            "\nDuring handling of the above exception, another exception occurred:\n",
            "\u001b[0;31mNameError\u001b[0m                                 Traceback (most recent call last)",
            "\u001b[0;32m<ipython-input-2-c5da311f4b0e>\u001b[0m in \u001b[0;36m<cell line: 0>\u001b[0;34m()\u001b[0m\n\u001b[1;32m      4\u001b[0m \u001b[0;34m\u001b[0m\u001b[0m\n\u001b[1;32m      5\u001b[0m \u001b[0;32mfinally\u001b[0m \u001b[0;34m:\u001b[0m\u001b[0;34m\u001b[0m\u001b[0;34m\u001b[0m\u001b[0m\n\u001b[0;32m----> 6\u001b[0;31m     \u001b[0mf\u001b[0m\u001b[0;34m.\u001b[0m\u001b[0mclose\u001b[0m\u001b[0;34m(\u001b[0m\u001b[0;34m)\u001b[0m\u001b[0;34m\u001b[0m\u001b[0;34m\u001b[0m\u001b[0m\n\u001b[0m",
            "\u001b[0;31mNameError\u001b[0m: name 'f' is not defined"
          ]
        }
      ]
    },
    {
      "cell_type": "markdown",
      "source": [
        "This way, we are guaranteed that the file is properly closed even if an eception is raised, causing the program flow to stop.\n",
        "\n",
        "The best way to do this is using the with statement. This ensures that the file is closed when the block inside with is exited.\n",
        "\n",
        "We don't need to explicitly call the close() method. It is done internally.\n",
        "\n",
        "\n",
        "```\n",
        "with open(\"example.txt\", encoding = \"utf-8\") as f:\n",
        "    #perform file operations\n",
        "\n",
        "```\n",
        "\n"
      ],
      "metadata": {
        "id": "qDWyyOD55GKn"
      }
    },
    {
      "cell_type": "markdown",
      "source": [
        "#Writing to a File\n",
        "\n",
        "In order to write into a file, we need to open it in write 'w', append 'a' or exclusive creation 'x' mode.\n",
        "\n",
        "We need to be careful with the write 'w' mode as it will overwrite into the file if it already exists. All previous data are erased.\n",
        "\n",
        "Writing a string or sequence of bytes (for binary files) is done using the write() method. This method returns the number of characters written to the file."
      ],
      "metadata": {
        "id": "vsr8Jx6Z6K9-"
      }
    },
    {
      "cell_type": "code",
      "source": [
        "f = open('example.txt', 'w')\n",
        "f.write(\"This is the first file\\n\")\n",
        "f.write(\"It contains two lines.\\n\")\n",
        "f.close()"
      ],
      "metadata": {
        "id": "uZO7aFNQ4-5-"
      },
      "execution_count": null,
      "outputs": []
    },
    {
      "cell_type": "markdown",
      "source": [
        "The program will create a new file 'example.txt' if it doesn't already exist, and if it does, it is overwritten."
      ],
      "metadata": {
        "id": "n8yS2g7g7Myf"
      }
    },
    {
      "cell_type": "markdown",
      "source": [
        "#Reading from a File\n",
        "\n",
        "There are various methods available for this purpose. We can use the read(size) method to read in the size number of the data. If size parameter is not specified, it reads and returns upto the end of the file."
      ],
      "metadata": {
        "id": "CxBGTfLO7eTU"
      }
    },
    {
      "cell_type": "code",
      "source": [
        "f = open('example.txt', 'r')\n",
        "f.read()"
      ],
      "metadata": {
        "colab": {
          "base_uri": "https://localhost:8080/",
          "height": 35
        },
        "id": "xk9QCcja7F-C",
        "outputId": "f4ff7a56-e02e-469e-f8e1-29ae19334123"
      },
      "execution_count": null,
      "outputs": [
        {
          "output_type": "execute_result",
          "data": {
            "text/plain": [
              "'This is the first file\\nIt contains two lines.\\n'"
            ],
            "application/vnd.google.colaboratory.intrinsic+json": {
              "type": "string"
            }
          },
          "metadata": {},
          "execution_count": 7
        }
      ]
    },
    {
      "cell_type": "code",
      "source": [
        "f = open('example.txt', 'r')\n",
        "f.read(4)"
      ],
      "metadata": {
        "colab": {
          "base_uri": "https://localhost:8080/",
          "height": 35
        },
        "id": "rtGRWrE479v3",
        "outputId": "52b24bac-5dd1-4907-f77e-db97be9742b2"
      },
      "execution_count": null,
      "outputs": [
        {
          "output_type": "execute_result",
          "data": {
            "text/plain": [
              "'This'"
            ],
            "application/vnd.google.colaboratory.intrinsic+json": {
              "type": "string"
            }
          },
          "metadata": {},
          "execution_count": 8
        }
      ]
    },
    {
      "cell_type": "code",
      "source": [
        "f.read(10)"
      ],
      "metadata": {
        "colab": {
          "base_uri": "https://localhost:8080/",
          "height": 35
        },
        "id": "xuM3bOsA8FS8",
        "outputId": "0d9f3ffe-dbac-4aad-b195-a28ed2a158fb"
      },
      "execution_count": null,
      "outputs": [
        {
          "output_type": "execute_result",
          "data": {
            "text/plain": [
              "' is the fi'"
            ],
            "application/vnd.google.colaboratory.intrinsic+json": {
              "type": "string"
            }
          },
          "metadata": {},
          "execution_count": 9
        }
      ]
    },
    {
      "cell_type": "markdown",
      "source": [
        "We can change our current file cursor (position) using the `seek()` method.\n",
        "\n",
        "Similarly the `tell()` method returns our current position (in number of bytes)."
      ],
      "metadata": {
        "id": "1YbQqGL58Pdf"
      }
    },
    {
      "cell_type": "code",
      "source": [
        "f.tell()"
      ],
      "metadata": {
        "colab": {
          "base_uri": "https://localhost:8080/"
        },
        "id": "0vrJAztJ8MPY",
        "outputId": "76033a38-5dd5-4fb7-e67a-66d33ad6cb05"
      },
      "execution_count": null,
      "outputs": [
        {
          "output_type": "execute_result",
          "data": {
            "text/plain": [
              "14"
            ]
          },
          "metadata": {},
          "execution_count": 10
        }
      ]
    },
    {
      "cell_type": "code",
      "source": [
        "#Bring file cursor to initial position\n",
        "f.seek(0)"
      ],
      "metadata": {
        "colab": {
          "base_uri": "https://localhost:8080/"
        },
        "id": "gqjsxcsT8ivM",
        "outputId": "2693d020-8da8-4ca0-a71b-4f070e3a9ef4"
      },
      "execution_count": null,
      "outputs": [
        {
          "output_type": "execute_result",
          "data": {
            "text/plain": [
              "0"
            ]
          },
          "metadata": {},
          "execution_count": 11
        }
      ]
    },
    {
      "cell_type": "code",
      "source": [
        "#read the entire file\n",
        "print(f.read())"
      ],
      "metadata": {
        "colab": {
          "base_uri": "https://localhost:8080/"
        },
        "id": "nFz-EBfj8qxk",
        "outputId": "9e2db53a-7d29-4a87-cc42-4f8e1240482f"
      },
      "execution_count": null,
      "outputs": [
        {
          "output_type": "stream",
          "name": "stdout",
          "text": [
            "This is the first file\n",
            "It contains two lines.\n",
            "\n"
          ]
        }
      ]
    },
    {
      "cell_type": "markdown",
      "source": [
        "We can read a file line by line using the for loop. This is both efficient and fast."
      ],
      "metadata": {
        "id": "fpNfL8J_8-Kv"
      }
    },
    {
      "cell_type": "code",
      "source": [
        "f.seek(0)\n",
        "for line in f:\n",
        "  print(line)"
      ],
      "metadata": {
        "colab": {
          "base_uri": "https://localhost:8080/"
        },
        "id": "F3KfnI868zth",
        "outputId": "eff3ad78-2013-49fa-bdfa-b66927e377f3"
      },
      "execution_count": null,
      "outputs": [
        {
          "output_type": "stream",
          "name": "stdout",
          "text": [
            "This is the first file\n",
            "\n",
            "It contains two lines.\n",
            "\n"
          ]
        }
      ]
    },
    {
      "cell_type": "markdown",
      "source": [
        "Alternatively, we can use the `readline()` method to read individual lines of a file. This method reads a file till the newline, including the newline character."
      ],
      "metadata": {
        "id": "KjmRaeo19Otl"
      }
    },
    {
      "cell_type": "code",
      "source": [
        "f = open('example.txt', 'r')\n",
        "f.readline()"
      ],
      "metadata": {
        "colab": {
          "base_uri": "https://localhost:8080/",
          "height": 35
        },
        "id": "ZkPufndF9BX7",
        "outputId": "e0faad5c-0381-48a3-cad6-0874a5078165"
      },
      "execution_count": null,
      "outputs": [
        {
          "output_type": "execute_result",
          "data": {
            "text/plain": [
              "'This is the first file\\n'"
            ],
            "application/vnd.google.colaboratory.intrinsic+json": {
              "type": "string"
            }
          },
          "metadata": {},
          "execution_count": 15
        }
      ]
    },
    {
      "cell_type": "code",
      "source": [
        "f.readline()"
      ],
      "metadata": {
        "colab": {
          "base_uri": "https://localhost:8080/",
          "height": 35
        },
        "id": "QM4PN1V69mvg",
        "outputId": "3125d0b1-c82e-4c59-c05d-d13d4771591c"
      },
      "execution_count": null,
      "outputs": [
        {
          "output_type": "execute_result",
          "data": {
            "text/plain": [
              "'It contains two lines.\\n'"
            ],
            "application/vnd.google.colaboratory.intrinsic+json": {
              "type": "string"
            }
          },
          "metadata": {},
          "execution_count": 16
        }
      ]
    },
    {
      "cell_type": "code",
      "source": [
        "f.readline()"
      ],
      "metadata": {
        "colab": {
          "base_uri": "https://localhost:8080/",
          "height": 35
        },
        "id": "BCPjUQEj9sHE",
        "outputId": "f7ce0cbd-767c-4539-b795-5533d4b0fd6e"
      },
      "execution_count": null,
      "outputs": [
        {
          "output_type": "execute_result",
          "data": {
            "text/plain": [
              "''"
            ],
            "application/vnd.google.colaboratory.intrinsic+json": {
              "type": "string"
            }
          },
          "metadata": {},
          "execution_count": 17
        }
      ]
    },
    {
      "cell_type": "markdown",
      "source": [
        "The `readlines()` method returns a list of remaining lines of the entire file. All these reading methods return empty values when the End of File (EOF) has been reached."
      ],
      "metadata": {
        "id": "nYoGaJBH9vPG"
      }
    },
    {
      "cell_type": "code",
      "source": [
        "f.seek(0)\n",
        "f.readlines()"
      ],
      "metadata": {
        "colab": {
          "base_uri": "https://localhost:8080/"
        },
        "id": "dgOuJ-iU9sdq",
        "outputId": "dc5652c2-21d8-4195-b1f1-0a7fb6a4d503"
      },
      "execution_count": null,
      "outputs": [
        {
          "output_type": "execute_result",
          "data": {
            "text/plain": [
              "['This is the first file\\n', 'It contains two lines.\\n']"
            ]
          },
          "metadata": {},
          "execution_count": 18
        }
      ]
    },
    {
      "cell_type": "markdown",
      "source": [
        "#Renaming and Deleting Files in Python\n",
        "\n",
        "Whiile using read/write functions, one may also need rename/delete a file in Python. For this, there is an **os module** in Python which brings with it the support of rename/delete functions for files."
      ],
      "metadata": {
        "id": "rDYV_W8O-GSX"
      }
    },
    {
      "cell_type": "code",
      "source": [
        "import os\n",
        "\n",
        "#Rename 'example.txt' as 'sample.txt'\n",
        "os.rename('example.txt', 'sample.txt')"
      ],
      "metadata": {
        "id": "bku9bF5J-DZ2"
      },
      "execution_count": null,
      "outputs": []
    },
    {
      "cell_type": "code",
      "source": [
        "f = open('sample.txt', 'r')\n",
        "f.readlines()"
      ],
      "metadata": {
        "colab": {
          "base_uri": "https://localhost:8080/"
        },
        "id": "njk8JaNI-0Vk",
        "outputId": "681baabd-dd3a-4de1-bcc3-1d4b55f689c5"
      },
      "execution_count": null,
      "outputs": [
        {
          "output_type": "execute_result",
          "data": {
            "text/plain": [
              "['This is the first file\\n', 'It contains two lines.\\n']"
            ]
          },
          "metadata": {},
          "execution_count": 20
        }
      ]
    },
    {
      "cell_type": "code",
      "source": [
        "#Delete the file 'sample.txt'\n",
        "os.remove('sample.txt')"
      ],
      "metadata": {
        "id": "WOlfUlAr-7VX"
      },
      "execution_count": null,
      "outputs": []
    },
    {
      "cell_type": "code",
      "source": [
        "f = open('sample.txt', 'r')\n",
        "f.readlines()"
      ],
      "metadata": {
        "colab": {
          "base_uri": "https://localhost:8080/",
          "height": 156
        },
        "id": "seypbIqB_FbL",
        "outputId": "5352d45e-aaac-486f-d78b-03f2aaa66cbf"
      },
      "execution_count": null,
      "outputs": [
        {
          "output_type": "error",
          "ename": "FileNotFoundError",
          "evalue": "[Errno 2] No such file or directory: 'sample.txt'",
          "traceback": [
            "\u001b[0;31m---------------------------------------------------------------------------\u001b[0m",
            "\u001b[0;31mFileNotFoundError\u001b[0m                         Traceback (most recent call last)",
            "\u001b[0;32m<ipython-input-22-77d8d2024af2>\u001b[0m in \u001b[0;36m<cell line: 0>\u001b[0;34m()\u001b[0m\n\u001b[0;32m----> 1\u001b[0;31m \u001b[0mf\u001b[0m \u001b[0;34m=\u001b[0m \u001b[0mopen\u001b[0m\u001b[0;34m(\u001b[0m\u001b[0;34m'sample.txt'\u001b[0m\u001b[0;34m,\u001b[0m \u001b[0;34m'r'\u001b[0m\u001b[0;34m)\u001b[0m\u001b[0;34m\u001b[0m\u001b[0;34m\u001b[0m\u001b[0m\n\u001b[0m\u001b[1;32m      2\u001b[0m \u001b[0mf\u001b[0m\u001b[0;34m.\u001b[0m\u001b[0mreadlines\u001b[0m\u001b[0;34m(\u001b[0m\u001b[0;34m)\u001b[0m\u001b[0;34m\u001b[0m\u001b[0;34m\u001b[0m\u001b[0m\n",
            "\u001b[0;31mFileNotFoundError\u001b[0m: [Errno 2] No such file or directory: 'sample.txt'"
          ]
        }
      ]
    },
    {
      "cell_type": "markdown",
      "source": [
        "#Python File and Directory Management\n",
        "\n",
        "If there are a large number of programs to handle in a Python program, one can arrange the code with different directories to make things more manageable.\n",
        "\n",
        "A diretory or folder is a collection of files and subdirectories. Pyton has the os module, which provides us with many useful methods to work with directories (and files as well)."
      ],
      "metadata": {
        "id": "PJ3B9Ek4_OBA"
      }
    },
    {
      "cell_type": "markdown",
      "source": [
        "#Get current directory\n",
        "\n",
        "We can get the current working directory using the `getcwd()` method.\n",
        "\n",
        "This method returns the current working directory in the form of a string."
      ],
      "metadata": {
        "id": "f7n9Gdof_5A2"
      }
    },
    {
      "cell_type": "code",
      "source": [
        "import os\n",
        "os.getcwd()"
      ],
      "metadata": {
        "colab": {
          "base_uri": "https://localhost:8080/",
          "height": 35
        },
        "id": "y8NRsVLm_KDN",
        "outputId": "be4d269e-04ea-4c84-a89f-dd3b0bc9f6e2"
      },
      "execution_count": null,
      "outputs": [
        {
          "output_type": "execute_result",
          "data": {
            "text/plain": [
              "'/content'"
            ],
            "application/vnd.google.colaboratory.intrinsic+json": {
              "type": "string"
            }
          },
          "metadata": {},
          "execution_count": 23
        }
      ]
    },
    {
      "cell_type": "markdown",
      "source": [
        "#Changing directory\n",
        "\n",
        "We can change the current working directory using the `chdir()` method.\n",
        "\n",
        "The new path that we want to change to must be provided as a string to this method. We can use both the forward slash(/) or the backward slash (\\) to seperate path elements."
      ],
      "metadata": {
        "id": "14bpdkbRAPmr"
      }
    },
    {
      "cell_type": "code",
      "source": [
        "os.chdir('/content/sample_data/')\n",
        "\n",
        "os.getcwd()"
      ],
      "metadata": {
        "colab": {
          "base_uri": "https://localhost:8080/",
          "height": 35
        },
        "id": "Rw0Mj-8SAN0I",
        "outputId": "054e13a8-f415-4104-cd7d-6979ebbc8cb1"
      },
      "execution_count": null,
      "outputs": [
        {
          "output_type": "execute_result",
          "data": {
            "text/plain": [
              "'/content/sample_data'"
            ],
            "application/vnd.google.colaboratory.intrinsic+json": {
              "type": "string"
            }
          },
          "metadata": {},
          "execution_count": 25
        }
      ]
    },
    {
      "cell_type": "markdown",
      "source": [
        "#List directories and files\n",
        "\n",
        "All files and sub-directories inside a directory can be known using the listdir() method."
      ],
      "metadata": {
        "id": "Wp_8KZ9bBEek"
      }
    },
    {
      "cell_type": "code",
      "source": [
        "os.listdir(os.getcwd())"
      ],
      "metadata": {
        "colab": {
          "base_uri": "https://localhost:8080/"
        },
        "id": "fhBEHCqDA3rl",
        "outputId": "261d127b-1c74-4436-ef58-c9ffcd0015c7"
      },
      "execution_count": null,
      "outputs": [
        {
          "output_type": "execute_result",
          "data": {
            "text/plain": [
              "['anscombe.json',\n",
              " 'README.md',\n",
              " 'california_housing_train.csv',\n",
              " 'california_housing_test.csv',\n",
              " 'mnist_test.csv',\n",
              " 'mnist_train_small.csv']"
            ]
          },
          "metadata": {},
          "execution_count": 26
        }
      ]
    },
    {
      "cell_type": "markdown",
      "source": [
        "#Making new directory\n",
        "\n",
        "We can make a new directory using the `mkdir()` method.\n",
        "\n",
        "This method takes in the path of the new directory. If the full path is not specified, the new directory is created in the working directory."
      ],
      "metadata": {
        "id": "LbnAyvO9BZGD"
      }
    },
    {
      "cell_type": "code",
      "source": [
        "os.mkdir('test')"
      ],
      "metadata": {
        "id": "9DZDU26PBVEX"
      },
      "execution_count": null,
      "outputs": []
    },
    {
      "cell_type": "markdown",
      "source": [
        "However, note that `rmdir()` can only remove empty directories.\n",
        "\n",
        "In order to remove a non-empty directory, we can use the `rmtree()` method inside the shutil module."
      ],
      "metadata": {
        "id": "bjfDcc5lDDHN"
      }
    },
    {
      "cell_type": "code",
      "source": [
        "os.rmdir('test')"
      ],
      "metadata": {
        "id": "N1rudmQtC-62"
      },
      "execution_count": null,
      "outputs": []
    },
    {
      "cell_type": "code",
      "source": [
        "import shutil\n",
        "\n",
        "#make test directory\n",
        "os.mkdir('test')\n",
        "#Go inside test directory\n",
        "os.chdir('./test')\n",
        "\n",
        "#Create a file inside test directory\n",
        "f = open('test_file.txt', 'w')\n",
        "f.write(\"Hello World!\")\n",
        "f.close()"
      ],
      "metadata": {
        "id": "48aSw5_-Dba6"
      },
      "execution_count": null,
      "outputs": []
    },
    {
      "cell_type": "code",
      "source": [
        "os.getcwd()"
      ],
      "metadata": {
        "colab": {
          "base_uri": "https://localhost:8080/",
          "height": 35
        },
        "id": "V8SFaNsgE5oe",
        "outputId": "7156237d-6ecb-4579-d3a8-4fba174d2d27"
      },
      "execution_count": null,
      "outputs": [
        {
          "output_type": "execute_result",
          "data": {
            "text/plain": [
              "'/content/sample_data/test'"
            ],
            "application/vnd.google.colaboratory.intrinsic+json": {
              "type": "string"
            }
          },
          "metadata": {},
          "execution_count": 41
        }
      ]
    },
    {
      "cell_type": "code",
      "source": [
        "#We go out of the test directory back to the parent directory\n",
        "os.chdir('../')"
      ],
      "metadata": {
        "id": "HayVDXykD4JQ"
      },
      "execution_count": null,
      "outputs": []
    },
    {
      "cell_type": "code",
      "source": [
        "os.getcwd()"
      ],
      "metadata": {
        "colab": {
          "base_uri": "https://localhost:8080/",
          "height": 35
        },
        "id": "EF2jitw_FHRB",
        "outputId": "c1f0f632-d4f2-49f3-d58a-399cd0942ff2"
      },
      "execution_count": null,
      "outputs": [
        {
          "output_type": "execute_result",
          "data": {
            "text/plain": [
              "'/content/sample_data'"
            ],
            "application/vnd.google.colaboratory.intrinsic+json": {
              "type": "string"
            }
          },
          "metadata": {},
          "execution_count": 43
        }
      ]
    },
    {
      "cell_type": "code",
      "source": [
        "#Cannot remove a non-empty directory using rmdir()\n",
        "os.rmdir('test')"
      ],
      "metadata": {
        "colab": {
          "base_uri": "https://localhost:8080/",
          "height": 156
        },
        "id": "nLMSJJaGFI1S",
        "outputId": "5771dcf4-85e3-4ad6-a34f-ca004dbf592c"
      },
      "execution_count": null,
      "outputs": [
        {
          "output_type": "error",
          "ename": "OSError",
          "evalue": "[Errno 39] Directory not empty: 'test'",
          "traceback": [
            "\u001b[0;31m---------------------------------------------------------------------------\u001b[0m",
            "\u001b[0;31mOSError\u001b[0m                                   Traceback (most recent call last)",
            "\u001b[0;32m<ipython-input-44-b9b1e9cd99e3>\u001b[0m in \u001b[0;36m<cell line: 0>\u001b[0;34m()\u001b[0m\n\u001b[1;32m      1\u001b[0m \u001b[0;31m#Cannot remove a non-empty directory using rmdir()\u001b[0m\u001b[0;34m\u001b[0m\u001b[0;34m\u001b[0m\u001b[0m\n\u001b[0;32m----> 2\u001b[0;31m \u001b[0mos\u001b[0m\u001b[0;34m.\u001b[0m\u001b[0mrmdir\u001b[0m\u001b[0;34m(\u001b[0m\u001b[0;34m'test'\u001b[0m\u001b[0;34m)\u001b[0m\u001b[0;34m\u001b[0m\u001b[0;34m\u001b[0m\u001b[0m\n\u001b[0m",
            "\u001b[0;31mOSError\u001b[0m: [Errno 39] Directory not empty: 'test'"
          ]
        }
      ]
    },
    {
      "cell_type": "code",
      "source": [
        "#Using rmtree() to remove a non-empty directory\n",
        "shutil.rmtree('test')"
      ],
      "metadata": {
        "id": "93I0fi-7ELTv"
      },
      "execution_count": null,
      "outputs": []
    },
    {
      "cell_type": "code",
      "source": [
        "os.getcwd()"
      ],
      "metadata": {
        "colab": {
          "base_uri": "https://localhost:8080/",
          "height": 35
        },
        "id": "BcZPMsynEWWR",
        "outputId": "6cbfb883-5a1a-44ca-99b2-9afebd1d0978"
      },
      "execution_count": null,
      "outputs": [
        {
          "output_type": "execute_result",
          "data": {
            "text/plain": [
              "'/content/sample_data'"
            ],
            "application/vnd.google.colaboratory.intrinsic+json": {
              "type": "string"
            }
          },
          "metadata": {},
          "execution_count": 46
        }
      ]
    },
    {
      "cell_type": "markdown",
      "source": [
        "#Python Errors and Built-in Exceptions\n",
        "\n",
        "When writing a program, we, more often than not, will encounter errors.\n",
        "\n",
        "Errors that are caused by not following the proper structure (syntax) of the language is called syntax error or parsing error."
      ],
      "metadata": {
        "id": "78jj0Eg9F_D9"
      }
    },
    {
      "cell_type": "code",
      "source": [
        "if a < 3"
      ],
      "metadata": {
        "colab": {
          "base_uri": "https://localhost:8080/",
          "height": 105
        },
        "id": "X6dBpNLREqbu",
        "outputId": "afd05853-b909-46bc-f12a-56d2a04b1450"
      },
      "execution_count": null,
      "outputs": [
        {
          "output_type": "error",
          "ename": "SyntaxError",
          "evalue": "expected ':' (<ipython-input-47-3e28e520013d>, line 1)",
          "traceback": [
            "\u001b[0;36m  File \u001b[0;32m\"<ipython-input-47-3e28e520013d>\"\u001b[0;36m, line \u001b[0;32m1\u001b[0m\n\u001b[0;31m    if a < 3\u001b[0m\n\u001b[0m            ^\u001b[0m\n\u001b[0;31mSyntaxError\u001b[0m\u001b[0;31m:\u001b[0m expected ':'\n"
          ]
        }
      ]
    },
    {
      "cell_type": "markdown",
      "source": [
        "Errors can also occur at runtime, and these are called Exceptions.\n",
        "\n",
        "They occur, for example, when a file we try to open doe not exist (FileNotFOundError), dividing a number by zero (ZeroDivisionError), module we try to import is not found (ImportError), etc.\n",
        "\n",
        "Whenever these types of runtime errors occur, Python creates an exception object. If not handled properly, it prints a traceback to that error along with some details about why that error occured."
      ],
      "metadata": {
        "id": "aOQRiVdiGcL6"
      }
    },
    {
      "cell_type": "code",
      "source": [
        "1 / 0"
      ],
      "metadata": {
        "colab": {
          "base_uri": "https://localhost:8080/",
          "height": 139
        },
        "id": "N5g1pGpWGYZ7",
        "outputId": "8b568e83-2a3c-47e8-8b8d-cff27fa345c3"
      },
      "execution_count": null,
      "outputs": [
        {
          "output_type": "error",
          "ename": "ZeroDivisionError",
          "evalue": "division by zero",
          "traceback": [
            "\u001b[0;31m---------------------------------------------------------------------------\u001b[0m",
            "\u001b[0;31mZeroDivisionError\u001b[0m                         Traceback (most recent call last)",
            "\u001b[0;32m<ipython-input-48-bc757c3fda29>\u001b[0m in \u001b[0;36m<cell line: 0>\u001b[0;34m()\u001b[0m\n\u001b[0;32m----> 1\u001b[0;31m \u001b[0;36m1\u001b[0m \u001b[0;34m/\u001b[0m \u001b[0;36m0\u001b[0m\u001b[0;34m\u001b[0m\u001b[0;34m\u001b[0m\u001b[0m\n\u001b[0m",
            "\u001b[0;31mZeroDivisionError\u001b[0m: division by zero"
          ]
        }
      ]
    },
    {
      "cell_type": "code",
      "source": [
        "open('test.txt')"
      ],
      "metadata": {
        "colab": {
          "base_uri": "https://localhost:8080/",
          "height": 139
        },
        "id": "GjUgshpOHWRr",
        "outputId": "29489c8f-7354-49a5-ce89-07cb8cb591a2"
      },
      "execution_count": null,
      "outputs": [
        {
          "output_type": "error",
          "ename": "FileNotFoundError",
          "evalue": "[Errno 2] No such file or directory: 'test.txt'",
          "traceback": [
            "\u001b[0;31m---------------------------------------------------------------------------\u001b[0m",
            "\u001b[0;31mFileNotFoundError\u001b[0m                         Traceback (most recent call last)",
            "\u001b[0;32m<ipython-input-49-9b0596a0f2ca>\u001b[0m in \u001b[0;36m<cell line: 0>\u001b[0;34m()\u001b[0m\n\u001b[0;32m----> 1\u001b[0;31m \u001b[0mopen\u001b[0m\u001b[0;34m(\u001b[0m\u001b[0;34m'test.txt'\u001b[0m\u001b[0;34m)\u001b[0m\u001b[0;34m\u001b[0m\u001b[0;34m\u001b[0m\u001b[0m\n\u001b[0m",
            "\u001b[0;31mFileNotFoundError\u001b[0m: [Errno 2] No such file or directory: 'test.txt'"
          ]
        }
      ]
    },
    {
      "cell_type": "markdown",
      "source": [
        "#Python Built-In Exceptions"
      ],
      "metadata": {
        "id": "EJHJrnBlHdiw"
      }
    },
    {
      "cell_type": "code",
      "source": [
        "dir(__builtins__)"
      ],
      "metadata": {
        "colab": {
          "base_uri": "https://localhost:8080/"
        },
        "id": "nrhyilslHaOs",
        "outputId": "e0ca559d-b3ba-4edd-cd38-5b55c3170df0"
      },
      "execution_count": null,
      "outputs": [
        {
          "output_type": "execute_result",
          "data": {
            "text/plain": [
              "['ArithmeticError',\n",
              " 'AssertionError',\n",
              " 'AttributeError',\n",
              " 'BaseException',\n",
              " 'BaseExceptionGroup',\n",
              " 'BlockingIOError',\n",
              " 'BrokenPipeError',\n",
              " 'BufferError',\n",
              " 'BytesWarning',\n",
              " 'ChildProcessError',\n",
              " 'ConnectionAbortedError',\n",
              " 'ConnectionError',\n",
              " 'ConnectionRefusedError',\n",
              " 'ConnectionResetError',\n",
              " 'DeprecationWarning',\n",
              " 'EOFError',\n",
              " 'Ellipsis',\n",
              " 'EncodingWarning',\n",
              " 'EnvironmentError',\n",
              " 'Exception',\n",
              " 'ExceptionGroup',\n",
              " 'False',\n",
              " 'FileExistsError',\n",
              " 'FileNotFoundError',\n",
              " 'FloatingPointError',\n",
              " 'FutureWarning',\n",
              " 'GeneratorExit',\n",
              " 'IOError',\n",
              " 'ImportError',\n",
              " 'ImportWarning',\n",
              " 'IndentationError',\n",
              " 'IndexError',\n",
              " 'InterruptedError',\n",
              " 'IsADirectoryError',\n",
              " 'KeyError',\n",
              " 'KeyboardInterrupt',\n",
              " 'LookupError',\n",
              " 'MemoryError',\n",
              " 'ModuleNotFoundError',\n",
              " 'NameError',\n",
              " 'None',\n",
              " 'NotADirectoryError',\n",
              " 'NotImplemented',\n",
              " 'NotImplementedError',\n",
              " 'OSError',\n",
              " 'OverflowError',\n",
              " 'PendingDeprecationWarning',\n",
              " 'PermissionError',\n",
              " 'ProcessLookupError',\n",
              " 'RecursionError',\n",
              " 'ReferenceError',\n",
              " 'ResourceWarning',\n",
              " 'RuntimeError',\n",
              " 'RuntimeWarning',\n",
              " 'StopAsyncIteration',\n",
              " 'StopIteration',\n",
              " 'SyntaxError',\n",
              " 'SyntaxWarning',\n",
              " 'SystemError',\n",
              " 'SystemExit',\n",
              " 'TabError',\n",
              " 'TimeoutError',\n",
              " 'True',\n",
              " 'TypeError',\n",
              " 'UnboundLocalError',\n",
              " 'UnicodeDecodeError',\n",
              " 'UnicodeEncodeError',\n",
              " 'UnicodeError',\n",
              " 'UnicodeTranslateError',\n",
              " 'UnicodeWarning',\n",
              " 'UserWarning',\n",
              " 'ValueError',\n",
              " 'Warning',\n",
              " 'ZeroDivisionError',\n",
              " '__IPYTHON__',\n",
              " '__build_class__',\n",
              " '__debug__',\n",
              " '__doc__',\n",
              " '__import__',\n",
              " '__loader__',\n",
              " '__name__',\n",
              " '__package__',\n",
              " '__pybind11_internals_v4_gcc_libstdcpp_cxxabi1014__',\n",
              " '__spec__',\n",
              " 'abs',\n",
              " 'aiter',\n",
              " 'all',\n",
              " 'anext',\n",
              " 'any',\n",
              " 'ascii',\n",
              " 'bin',\n",
              " 'bool',\n",
              " 'breakpoint',\n",
              " 'bytearray',\n",
              " 'bytes',\n",
              " 'callable',\n",
              " 'chr',\n",
              " 'classmethod',\n",
              " 'compile',\n",
              " 'complex',\n",
              " 'copyright',\n",
              " 'credits',\n",
              " 'delattr',\n",
              " 'dict',\n",
              " 'dir',\n",
              " 'display',\n",
              " 'divmod',\n",
              " 'enumerate',\n",
              " 'eval',\n",
              " 'exec',\n",
              " 'execfile',\n",
              " 'filter',\n",
              " 'float',\n",
              " 'format',\n",
              " 'frozenset',\n",
              " 'get_ipython',\n",
              " 'getattr',\n",
              " 'globals',\n",
              " 'hasattr',\n",
              " 'hash',\n",
              " 'help',\n",
              " 'hex',\n",
              " 'id',\n",
              " 'input',\n",
              " 'int',\n",
              " 'isinstance',\n",
              " 'issubclass',\n",
              " 'iter',\n",
              " 'len',\n",
              " 'license',\n",
              " 'list',\n",
              " 'locals',\n",
              " 'map',\n",
              " 'max',\n",
              " 'memoryview',\n",
              " 'min',\n",
              " 'next',\n",
              " 'object',\n",
              " 'oct',\n",
              " 'open',\n",
              " 'ord',\n",
              " 'pow',\n",
              " 'print',\n",
              " 'property',\n",
              " 'range',\n",
              " 'repr',\n",
              " 'reversed',\n",
              " 'round',\n",
              " 'runfile',\n",
              " 'set',\n",
              " 'setattr',\n",
              " 'slice',\n",
              " 'sorted',\n",
              " 'staticmethod',\n",
              " 'str',\n",
              " 'sum',\n",
              " 'super',\n",
              " 'tuple',\n",
              " 'type',\n",
              " 'vars',\n",
              " 'zip']"
            ]
          },
          "metadata": {},
          "execution_count": 50
        }
      ]
    },
    {
      "cell_type": "markdown",
      "source": [
        "#Python Exception Handling - Try, Except and Finally\n",
        "\n",
        "Python has many built-in exceptions which force your program to output an error when something in it goes wrong.\n",
        "\n",
        "When these exxceptions occur, it causes the current process to stop and passes it to the calling process until it is handled. If not handled, our program will crash.\n",
        "\n",
        "For example, say function A calls function B which in turn calls function C and an exception occurs in function C. If it is not handled in C, the exception passes to B and then passes to A.\n",
        "\n",
        "If never handled, an error message is spit out, and our program comes to a sudden and unexpected halt."
      ],
      "metadata": {
        "id": "K40eiQ7GHz3L"
      }
    },
    {
      "cell_type": "markdown",
      "source": [
        "#Catching Exceptions in Python\n",
        "\n",
        "In Python, exceptions can be handled using a try statement.\n",
        "\n",
        "A critical operation which can raise exception is placed inside the try clause and the code that handles the exception is written in except clause."
      ],
      "metadata": {
        "id": "sRvIFYuLI-S-"
      }
    },
    {
      "cell_type": "code",
      "source": [
        "#import the module sys to get the type of exception\n",
        "import sys\n",
        "\n",
        "lst = ['b', 0, 2]\n",
        "\n",
        "for entry in lst:\n",
        "    try:\n",
        "        print(f\"The entry is {entry}\")\n",
        "        r = 1/int(entry)\n",
        "    except:\n",
        "        print(f\"Oops! {sys.exc_info()[0]} occured.\")\n",
        "        print(f\"************************************************************\\n\")\n",
        "        print(f\"Next entry:\")\n",
        "print(f\"The reciprocal of {entry} is {r}.\")"
      ],
      "metadata": {
        "colab": {
          "base_uri": "https://localhost:8080/"
        },
        "id": "TyLqZHuXId85",
        "outputId": "dfc373a5-7b1f-41ce-ffaf-827ff87a5432"
      },
      "execution_count": null,
      "outputs": [
        {
          "output_type": "stream",
          "name": "stdout",
          "text": [
            "The entry is b\n",
            "Oops! <class 'ValueError'> occured.\n",
            "************************************************************\n",
            "\n",
            "Next entry:\n",
            "The entry is 0\n",
            "Oops! <class 'ZeroDivisionError'> occured.\n",
            "************************************************************\n",
            "\n",
            "Next entry:\n",
            "The entry is 2\n",
            "The reciprocal of 2 is 0.5.\n"
          ]
        }
      ]
    },
    {
      "cell_type": "markdown",
      "source": [
        "#Catching Specific Exceptions in Python\n",
        "\n",
        "In the above example, we did not mention any exception in the except clause.\n",
        "\n",
        "This is not good programming practice as it will catch all exceptions and handle every case in the same way. We can soecify which exceptions an except clause will catch.\n",
        "\n",
        "A try clause can have any number of except clauses to handle them differently but only one will be executed in case an exception occurs."
      ],
      "metadata": {
        "id": "ciSC5oiLK4DJ"
      }
    },
    {
      "cell_type": "code",
      "source": [
        "#import the module sys to get the type of exception\n",
        "import sys\n",
        "\n",
        "lst = ['b', 0, 2]\n",
        "\n",
        "for entry in lst:\n",
        "    try:\n",
        "        print(f\"The entry is {entry}\")\n",
        "        r = 1/int(entry)\n",
        "    except (ValueError):\n",
        "        print(\"This is a ValueError.\")\n",
        "        print(f\"************************************************************\\n\")\n",
        "        print(f\"Next entry:\")\n",
        "    except(ZeroDivisionError):\n",
        "        print(\"This is a ZeroDivisionError.\")\n",
        "        print(f\"************************************************************\\n\")\n",
        "        print(f\"Next entry:\")\n",
        "    except:\n",
        "        print(\"This is some other error.\")\n",
        "        print(f\"************************************************************\\n\")\n",
        "        print(f\"Next entry:\")\n",
        "\n",
        "print(f\"The reciprocal of {entry} is {r}.\")"
      ],
      "metadata": {
        "colab": {
          "base_uri": "https://localhost:8080/"
        },
        "id": "NSi9dM6yHnl3",
        "outputId": "a1948efc-9737-4604-862e-83760db96910"
      },
      "execution_count": null,
      "outputs": [
        {
          "output_type": "stream",
          "name": "stdout",
          "text": [
            "The entry is b\n",
            "This is a ValueError.\n",
            "************************************************************\n",
            "\n",
            "Next entry:\n",
            "The entry is 0\n",
            "This is a ZeroDivisionError.\n",
            "************************************************************\n",
            "\n",
            "Next entry:\n",
            "The entry is 2\n",
            "The reciprocal of 2 is 0.5.\n"
          ]
        }
      ]
    },
    {
      "cell_type": "markdown",
      "source": [
        "#Raising Exceptions\n",
        "\n",
        "In Python programming, exceptions are raised when corresponding errors occur at runtime, but we can forcefully raise it using the keyword 'raise'.\n",
        "\n",
        "We can also optionally pass in a value to the exception to clarify why the exception was raised.\n",
        "\n",
        "The difference between the previous case and this case, is that, in the previous case, the interpreter was raising the error. But here, we are raising the Error."
      ],
      "metadata": {
        "id": "Bu3AbWO7Mvmt"
      }
    },
    {
      "cell_type": "code",
      "source": [
        "raise KeyboardInterrupt"
      ],
      "metadata": {
        "colab": {
          "base_uri": "https://localhost:8080/",
          "height": 139
        },
        "id": "ygw8uetkMHwk",
        "outputId": "d0fa245a-7d40-4ffe-ce51-327782433bf1"
      },
      "execution_count": null,
      "outputs": [
        {
          "output_type": "error",
          "ename": "KeyboardInterrupt",
          "evalue": "",
          "traceback": [
            "\u001b[0;31m---------------------------------------------------------------------------\u001b[0m",
            "\u001b[0;31mKeyboardInterrupt\u001b[0m                         Traceback (most recent call last)",
            "\u001b[0;32m<ipython-input-62-c761920b81b0>\u001b[0m in \u001b[0;36m<cell line: 0>\u001b[0;34m()\u001b[0m\n\u001b[0;32m----> 1\u001b[0;31m \u001b[0;32mraise\u001b[0m \u001b[0mKeyboardInterrupt\u001b[0m\u001b[0;34m\u001b[0m\u001b[0;34m\u001b[0m\u001b[0m\n\u001b[0m",
            "\u001b[0;31mKeyboardInterrupt\u001b[0m: "
          ]
        }
      ]
    },
    {
      "cell_type": "code",
      "source": [
        "raise MemoryError(\"This is a Memory Error.\")"
      ],
      "metadata": {
        "colab": {
          "base_uri": "https://localhost:8080/",
          "height": 139
        },
        "id": "Cx_WOwojNWqc",
        "outputId": "274709e3-d60b-4a59-e725-c848805f29ec"
      },
      "execution_count": null,
      "outputs": [
        {
          "output_type": "error",
          "ename": "MemoryError",
          "evalue": "This is a Memory Error.",
          "traceback": [
            "\u001b[0;31m---------------------------------------------------------------------------\u001b[0m",
            "\u001b[0;31mMemoryError\u001b[0m                               Traceback (most recent call last)",
            "\u001b[0;32m<ipython-input-63-69bd7b8f12a3>\u001b[0m in \u001b[0;36m<cell line: 0>\u001b[0;34m()\u001b[0m\n\u001b[0;32m----> 1\u001b[0;31m \u001b[0;32mraise\u001b[0m \u001b[0mMemoryError\u001b[0m\u001b[0;34m(\u001b[0m\u001b[0;34m\"This is a Memory Error.\"\u001b[0m\u001b[0;34m)\u001b[0m\u001b[0;34m\u001b[0m\u001b[0;34m\u001b[0m\u001b[0m\n\u001b[0m",
            "\u001b[0;31mMemoryError\u001b[0m: This is a Memory Error."
          ]
        }
      ]
    },
    {
      "cell_type": "code",
      "source": [
        "try:\n",
        "    num = int(input(\"Enter a positive integer : \"))\n",
        "    if num <= 0:\n",
        "        raise ValueError(\"Error : Entered negative number.\")\n",
        "except ValueError as e:\n",
        "    print(e)"
      ],
      "metadata": {
        "colab": {
          "base_uri": "https://localhost:8080/"
        },
        "id": "IU7-p7Q0Ndyx",
        "outputId": "5c73b130-c713-4a32-ece4-7bf4474dbdd3"
      },
      "execution_count": null,
      "outputs": [
        {
          "output_type": "stream",
          "name": "stdout",
          "text": [
            "Enter a positive integer : -5\n",
            "Error : Entered negative number.\n"
          ]
        }
      ]
    },
    {
      "cell_type": "markdown",
      "source": [
        "#try ... finally\n",
        "\n",
        "the try statement in Python can have an optional finally clause. This clause is executed no matter what, and is generally used to release external resources."
      ],
      "metadata": {
        "id": "Lua9iI2yOkZw"
      }
    },
    {
      "cell_type": "code",
      "source": [
        "try:\n",
        "    f = open('sample.txt')\n",
        "    #perform file operations\n",
        "\n",
        "finally:\n",
        "    f.close()"
      ],
      "metadata": {
        "colab": {
          "base_uri": "https://localhost:8080/",
          "height": 207
        },
        "id": "-IwMsY5QOXgk",
        "outputId": "8370023b-9b46-49c8-d07f-fe1cf80da8ed"
      },
      "execution_count": null,
      "outputs": [
        {
          "output_type": "error",
          "ename": "FileNotFoundError",
          "evalue": "[Errno 2] No such file or directory: 'sample.txt'",
          "traceback": [
            "\u001b[0;31m---------------------------------------------------------------------------\u001b[0m",
            "\u001b[0;31mFileNotFoundError\u001b[0m                         Traceback (most recent call last)",
            "\u001b[0;32m<ipython-input-68-6258807ea4d9>\u001b[0m in \u001b[0;36m<cell line: 0>\u001b[0;34m()\u001b[0m\n\u001b[1;32m      1\u001b[0m \u001b[0;32mtry\u001b[0m\u001b[0;34m:\u001b[0m\u001b[0;34m\u001b[0m\u001b[0;34m\u001b[0m\u001b[0m\n\u001b[0;32m----> 2\u001b[0;31m     \u001b[0mf\u001b[0m \u001b[0;34m=\u001b[0m \u001b[0mopen\u001b[0m\u001b[0;34m(\u001b[0m\u001b[0;34m'sample.txt'\u001b[0m\u001b[0;34m)\u001b[0m\u001b[0;34m\u001b[0m\u001b[0;34m\u001b[0m\u001b[0m\n\u001b[0m\u001b[1;32m      3\u001b[0m     \u001b[0;31m#perform file operations\u001b[0m\u001b[0;34m\u001b[0m\u001b[0;34m\u001b[0m\u001b[0m\n\u001b[1;32m      4\u001b[0m \u001b[0;34m\u001b[0m\u001b[0m\n\u001b[1;32m      5\u001b[0m \u001b[0;32mfinally\u001b[0m\u001b[0;34m:\u001b[0m\u001b[0;34m\u001b[0m\u001b[0;34m\u001b[0m\u001b[0m\n",
            "\u001b[0;31mFileNotFoundError\u001b[0m: [Errno 2] No such file or directory: 'sample.txt'"
          ]
        }
      ]
    },
    {
      "cell_type": "markdown",
      "source": [
        "#debugging\n",
        "\n",
        "**pdb** implements an interactive debugging environment for Python programs. It includes features to let you pause your program, look at the values of variables, and watch program execution step-by-step, so you can understand what your program actually does and find bugs in the logic."
      ],
      "metadata": {
        "id": "z4YFD1SEPSTz"
      }
    },
    {
      "cell_type": "markdown",
      "source": [
        "#Starting the Debugger\n",
        "\n",
        "\n"
      ],
      "metadata": {
        "id": "cFnAOLVYPtxz"
      }
    },
    {
      "cell_type": "code",
      "source": [
        "def seq(n):\n",
        "    for i in range(n):\n",
        "      print(i)\n",
        "\n",
        "    return"
      ],
      "metadata": {
        "id": "QmBJsDOcPCbN"
      },
      "execution_count": null,
      "outputs": []
    },
    {
      "cell_type": "code",
      "source": [
        "seq(5)"
      ],
      "metadata": {
        "colab": {
          "base_uri": "https://localhost:8080/"
        },
        "id": "U1IJft8ZlkXq",
        "outputId": "31e00364-8a9d-41db-fa7c-aa7555d7d1ff"
      },
      "execution_count": null,
      "outputs": [
        {
          "output_type": "stream",
          "name": "stdout",
          "text": [
            "0\n",
            "1\n",
            "2\n",
            "3\n",
            "4\n"
          ]
        }
      ]
    },
    {
      "cell_type": "code",
      "source": [
        "import pdb\n",
        "\n",
        "#interactive debugging\n",
        "def seq(n):\n",
        "    for i in range(n):\n",
        "      pdb.set_trace()       #breakpoint\n",
        "      print(i)\n",
        "\n",
        "    return\n",
        "\n",
        "seq(5)\n",
        "\n",
        "# c : continue      -> continues execution till it comes back to breakpoint\n",
        "# q : quit          -> comes out of the pdb and executes the program\n",
        "# h : help          -> gives you all the debugger functions you can use\n",
        "# list              -> where you are in the program\n",
        "# p : print         -> prints value\n",
        "# p locals()        -> prints all local variables\n",
        "# p globals()       -> prints all global variables"
      ],
      "metadata": {
        "colab": {
          "base_uri": "https://localhost:8080/"
        },
        "id": "rDu_5TLullkF",
        "outputId": "e2b71ac0-3da2-4d08-a7e8-6515e508243c"
      },
      "execution_count": null,
      "outputs": [
        {
          "output_type": "stream",
          "name": "stderr",
          "text": [
            "\n",
            "PYDEV DEBUGGER WARNING:\n",
            "sys.settrace() should not be used when the debugger is being used.\n",
            "This may cause the debugger to stop working correctly.\n",
            "If this is needed, please check: \n",
            "http://pydev.blogspot.com/2007/06/why-cant-pydev-debugger-work-with.html\n",
            "to see how to restore the debug tracing back correctly.\n",
            "Call Location:\n",
            "  File \"/usr/lib/python3.11/bdb.py\", line 336, in set_trace\n",
            "    sys.settrace(self.trace_dispatch)\n",
            "\n"
          ]
        },
        {
          "name": "stdout",
          "output_type": "stream",
          "text": [
            "> \u001b[0;32m<ipython-input-71-8d7f4d492244>\u001b[0m(7)\u001b[0;36mseq\u001b[0;34m()\u001b[0m\n",
            "\u001b[0;32m      5 \u001b[0;31m    \u001b[0;32mfor\u001b[0m \u001b[0mi\u001b[0m \u001b[0;32min\u001b[0m \u001b[0mrange\u001b[0m\u001b[0;34m(\u001b[0m\u001b[0mn\u001b[0m\u001b[0;34m)\u001b[0m\u001b[0;34m:\u001b[0m\u001b[0;34m\u001b[0m\u001b[0;34m\u001b[0m\u001b[0m\n",
            "\u001b[0m\u001b[0;32m      6 \u001b[0;31m      \u001b[0mpdb\u001b[0m\u001b[0;34m.\u001b[0m\u001b[0mset_trace\u001b[0m\u001b[0;34m(\u001b[0m\u001b[0;34m)\u001b[0m       \u001b[0;31m#breakpoint\u001b[0m\u001b[0;34m\u001b[0m\u001b[0;34m\u001b[0m\u001b[0m\n",
            "\u001b[0m\u001b[0;32m----> 7 \u001b[0;31m      \u001b[0mprint\u001b[0m\u001b[0;34m(\u001b[0m\u001b[0mi\u001b[0m\u001b[0;34m)\u001b[0m\u001b[0;34m\u001b[0m\u001b[0;34m\u001b[0m\u001b[0m\n",
            "\u001b[0m\u001b[0;32m      8 \u001b[0;31m\u001b[0;34m\u001b[0m\u001b[0m\n",
            "\u001b[0m\u001b[0;32m      9 \u001b[0;31m    \u001b[0;32mreturn\u001b[0m\u001b[0;34m\u001b[0m\u001b[0;34m\u001b[0m\u001b[0m\n",
            "\u001b[0m\n",
            "ipdb> p locals()\n",
            "{'n': 5, 'i': 0}\n",
            "ipdb> c\n"
          ]
        },
        {
          "output_type": "stream",
          "name": "stderr",
          "text": [
            "\n",
            "PYDEV DEBUGGER WARNING:\n",
            "sys.settrace() should not be used when the debugger is being used.\n",
            "This may cause the debugger to stop working correctly.\n",
            "If this is needed, please check: \n",
            "http://pydev.blogspot.com/2007/06/why-cant-pydev-debugger-work-with.html\n",
            "to see how to restore the debug tracing back correctly.\n",
            "Call Location:\n",
            "  File \"/usr/lib/python3.11/bdb.py\", line 347, in set_continue\n",
            "    sys.settrace(None)\n",
            "\n"
          ]
        },
        {
          "output_type": "stream",
          "name": "stdout",
          "text": [
            "0\n",
            "> \u001b[0;32m<ipython-input-71-8d7f4d492244>\u001b[0m(7)\u001b[0;36mseq\u001b[0;34m()\u001b[0m\n",
            "\u001b[0;32m      5 \u001b[0;31m    \u001b[0;32mfor\u001b[0m \u001b[0mi\u001b[0m \u001b[0;32min\u001b[0m \u001b[0mrange\u001b[0m\u001b[0;34m(\u001b[0m\u001b[0mn\u001b[0m\u001b[0;34m)\u001b[0m\u001b[0;34m:\u001b[0m\u001b[0;34m\u001b[0m\u001b[0;34m\u001b[0m\u001b[0m\n",
            "\u001b[0m\u001b[0;32m      6 \u001b[0;31m      \u001b[0mpdb\u001b[0m\u001b[0;34m.\u001b[0m\u001b[0mset_trace\u001b[0m\u001b[0;34m(\u001b[0m\u001b[0;34m)\u001b[0m       \u001b[0;31m#breakpoint\u001b[0m\u001b[0;34m\u001b[0m\u001b[0;34m\u001b[0m\u001b[0m\n",
            "\u001b[0m\u001b[0;32m----> 7 \u001b[0;31m      \u001b[0mprint\u001b[0m\u001b[0;34m(\u001b[0m\u001b[0mi\u001b[0m\u001b[0;34m)\u001b[0m\u001b[0;34m\u001b[0m\u001b[0;34m\u001b[0m\u001b[0m\n",
            "\u001b[0m\u001b[0;32m      8 \u001b[0;31m\u001b[0;34m\u001b[0m\u001b[0m\n",
            "\u001b[0m\u001b[0;32m      9 \u001b[0;31m    \u001b[0;32mreturn\u001b[0m\u001b[0;34m\u001b[0m\u001b[0;34m\u001b[0m\u001b[0m\n",
            "\u001b[0m\n",
            "ipdb> p locals()\n",
            "{'n': 5, 'i': 1}\n",
            "ipdb> c\n",
            "1\n",
            "> \u001b[0;32m<ipython-input-71-8d7f4d492244>\u001b[0m(7)\u001b[0;36mseq\u001b[0;34m()\u001b[0m\n",
            "\u001b[0;32m      5 \u001b[0;31m    \u001b[0;32mfor\u001b[0m \u001b[0mi\u001b[0m \u001b[0;32min\u001b[0m \u001b[0mrange\u001b[0m\u001b[0;34m(\u001b[0m\u001b[0mn\u001b[0m\u001b[0;34m)\u001b[0m\u001b[0;34m:\u001b[0m\u001b[0;34m\u001b[0m\u001b[0;34m\u001b[0m\u001b[0m\n",
            "\u001b[0m\u001b[0;32m      6 \u001b[0;31m      \u001b[0mpdb\u001b[0m\u001b[0;34m.\u001b[0m\u001b[0mset_trace\u001b[0m\u001b[0;34m(\u001b[0m\u001b[0;34m)\u001b[0m       \u001b[0;31m#breakpoint\u001b[0m\u001b[0;34m\u001b[0m\u001b[0;34m\u001b[0m\u001b[0m\n",
            "\u001b[0m\u001b[0;32m----> 7 \u001b[0;31m      \u001b[0mprint\u001b[0m\u001b[0;34m(\u001b[0m\u001b[0mi\u001b[0m\u001b[0;34m)\u001b[0m\u001b[0;34m\u001b[0m\u001b[0;34m\u001b[0m\u001b[0m\n",
            "\u001b[0m\u001b[0;32m      8 \u001b[0;31m\u001b[0;34m\u001b[0m\u001b[0m\n",
            "\u001b[0m\u001b[0;32m      9 \u001b[0;31m    \u001b[0;32mreturn\u001b[0m\u001b[0;34m\u001b[0m\u001b[0;34m\u001b[0m\u001b[0m\n",
            "\u001b[0m\n",
            "ipdb> p locals()\n",
            "{'n': 5, 'i': 2}\n",
            "ipdb> c\n",
            "2\n",
            "> \u001b[0;32m<ipython-input-71-8d7f4d492244>\u001b[0m(7)\u001b[0;36mseq\u001b[0;34m()\u001b[0m\n",
            "\u001b[0;32m      5 \u001b[0;31m    \u001b[0;32mfor\u001b[0m \u001b[0mi\u001b[0m \u001b[0;32min\u001b[0m \u001b[0mrange\u001b[0m\u001b[0;34m(\u001b[0m\u001b[0mn\u001b[0m\u001b[0;34m)\u001b[0m\u001b[0;34m:\u001b[0m\u001b[0;34m\u001b[0m\u001b[0;34m\u001b[0m\u001b[0m\n",
            "\u001b[0m\u001b[0;32m      6 \u001b[0;31m      \u001b[0mpdb\u001b[0m\u001b[0;34m.\u001b[0m\u001b[0mset_trace\u001b[0m\u001b[0;34m(\u001b[0m\u001b[0;34m)\u001b[0m       \u001b[0;31m#breakpoint\u001b[0m\u001b[0;34m\u001b[0m\u001b[0;34m\u001b[0m\u001b[0m\n",
            "\u001b[0m\u001b[0;32m----> 7 \u001b[0;31m      \u001b[0mprint\u001b[0m\u001b[0;34m(\u001b[0m\u001b[0mi\u001b[0m\u001b[0;34m)\u001b[0m\u001b[0;34m\u001b[0m\u001b[0;34m\u001b[0m\u001b[0m\n",
            "\u001b[0m\u001b[0;32m      8 \u001b[0;31m\u001b[0;34m\u001b[0m\u001b[0m\n",
            "\u001b[0m\u001b[0;32m      9 \u001b[0;31m    \u001b[0;32mreturn\u001b[0m\u001b[0;34m\u001b[0m\u001b[0;34m\u001b[0m\u001b[0m\n",
            "\u001b[0m\n",
            "ipdb> p locals()\n",
            "{'n': 5, 'i': 3}\n",
            "ipdb> p locals()\n",
            "{'n': 5, 'i': 3}\n",
            "ipdb> c\n",
            "3\n",
            "> \u001b[0;32m<ipython-input-71-8d7f4d492244>\u001b[0m(7)\u001b[0;36mseq\u001b[0;34m()\u001b[0m\n",
            "\u001b[0;32m      5 \u001b[0;31m    \u001b[0;32mfor\u001b[0m \u001b[0mi\u001b[0m \u001b[0;32min\u001b[0m \u001b[0mrange\u001b[0m\u001b[0;34m(\u001b[0m\u001b[0mn\u001b[0m\u001b[0;34m)\u001b[0m\u001b[0;34m:\u001b[0m\u001b[0;34m\u001b[0m\u001b[0;34m\u001b[0m\u001b[0m\n",
            "\u001b[0m\u001b[0;32m      6 \u001b[0;31m      \u001b[0mpdb\u001b[0m\u001b[0;34m.\u001b[0m\u001b[0mset_trace\u001b[0m\u001b[0;34m(\u001b[0m\u001b[0;34m)\u001b[0m       \u001b[0;31m#breakpoint\u001b[0m\u001b[0;34m\u001b[0m\u001b[0;34m\u001b[0m\u001b[0m\n",
            "\u001b[0m\u001b[0;32m----> 7 \u001b[0;31m      \u001b[0mprint\u001b[0m\u001b[0;34m(\u001b[0m\u001b[0mi\u001b[0m\u001b[0;34m)\u001b[0m\u001b[0;34m\u001b[0m\u001b[0;34m\u001b[0m\u001b[0m\n",
            "\u001b[0m\u001b[0;32m      8 \u001b[0;31m\u001b[0;34m\u001b[0m\u001b[0m\n",
            "\u001b[0m\u001b[0;32m      9 \u001b[0;31m    \u001b[0;32mreturn\u001b[0m\u001b[0;34m\u001b[0m\u001b[0;34m\u001b[0m\u001b[0m\n",
            "\u001b[0m\n",
            "ipdb> p locals()\n",
            "{'n': 5, 'i': 4}\n",
            "ipdb> c\n",
            "4\n"
          ]
        }
      ]
    },
    {
      "cell_type": "code",
      "source": [
        "print(type(print))"
      ],
      "metadata": {
        "id": "-PgJ81R2QEFS",
        "outputId": "b3683575-6763-4112-f06d-f2b57c6bef7d",
        "colab": {
          "base_uri": "https://localhost:8080/"
        }
      },
      "execution_count": null,
      "outputs": [
        {
          "output_type": "stream",
          "name": "stdout",
          "text": [
            "<class 'builtin_function_or_method'>\n"
          ]
        }
      ]
    },
    {
      "cell_type": "code",
      "source": [],
      "metadata": {
        "id": "LALUvW_1QHX9"
      },
      "execution_count": null,
      "outputs": []
    }
  ]
}